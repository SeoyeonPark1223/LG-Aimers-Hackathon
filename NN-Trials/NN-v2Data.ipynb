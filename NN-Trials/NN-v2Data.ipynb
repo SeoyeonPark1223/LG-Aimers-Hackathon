{
 "cells": [
  {
   "cell_type": "markdown",
   "id": "117bff4b",
   "metadata": {
    "papermill": {
     "duration": 0.004448,
     "end_time": "2025-02-25T13:41:23.594356",
     "exception": false,
     "start_time": "2025-02-25T13:41:23.589908",
     "status": "completed"
    },
    "tags": []
   },
   "source": [
    "# Neural Network - v2"
   ]
  },
  {
   "cell_type": "code",
   "execution_count": 1,
   "id": "7313c7ec",
   "metadata": {
    "_cell_guid": "b1076dfc-b9ad-4769-8c92-a6c4dae69d19",
    "_uuid": "8f2839f25d086af736a60e9eeb907d3b93b6e0e5",
    "execution": {
     "iopub.execute_input": "2025-02-25T13:41:23.602604Z",
     "iopub.status.busy": "2025-02-25T13:41:23.602308Z",
     "iopub.status.idle": "2025-02-25T13:41:24.356808Z",
     "shell.execute_reply": "2025-02-25T13:41:24.355795Z"
    },
    "papermill": {
     "duration": 0.760166,
     "end_time": "2025-02-25T13:41:24.358213",
     "exception": false,
     "start_time": "2025-02-25T13:41:23.598047",
     "status": "completed"
    },
    "tags": []
   },
   "outputs": [
    {
     "name": "stdout",
     "output_type": "stream",
     "text": [
      "/kaggle/input/lg-aimers-v2/sample_submission.csv\n",
      "/kaggle/input/lg-aimers-v2/train_v2.csv\n",
      "/kaggle/input/lg-aimers-v2/test_v2.csv\n"
     ]
    }
   ],
   "source": [
    "# This Python 3 environment comes with many helpful analytics libraries installed\n",
    "# It is defined by the kaggle/python Docker image: https://github.com/kaggle/docker-python\n",
    "# For example, here's several helpful packages to load\n",
    "\n",
    "import numpy as np # linear algebra\n",
    "import pandas as pd # data processing, CSV file I/O (e.g. pd.read_csv)\n",
    "\n",
    "# Input data files are available in the read-only \"../input/\" directory\n",
    "# For example, running this (by clicking run or pressing Shift+Enter) will list all files under the input directory\n",
    "\n",
    "import os\n",
    "for dirname, _, filenames in os.walk('/kaggle/input'):\n",
    "    for filename in filenames:\n",
    "        print(os.path.join(dirname, filename))\n",
    "\n",
    "# You can write up to 20GB to the current directory (/kaggle/working/) that gets preserved as output when you create a version using \"Save & Run All\" \n",
    "# You can also write temporary files to /kaggle/temp/, but they won't be saved outside of the current session"
   ]
  },
  {
   "cell_type": "code",
   "execution_count": 2,
   "id": "0c0b3a67",
   "metadata": {
    "execution": {
     "iopub.execute_input": "2025-02-25T13:41:24.366772Z",
     "iopub.status.busy": "2025-02-25T13:41:24.366323Z",
     "iopub.status.idle": "2025-02-25T13:41:27.309960Z",
     "shell.execute_reply": "2025-02-25T13:41:27.308918Z"
    },
    "papermill": {
     "duration": 2.949569,
     "end_time": "2025-02-25T13:41:27.311686",
     "exception": false,
     "start_time": "2025-02-25T13:41:24.362117",
     "status": "completed"
    },
    "tags": []
   },
   "outputs": [],
   "source": [
    "submission = pd.read_csv('/kaggle/input/lg-aimers-v2/sample_submission.csv', index_col= 'ID')\n",
    "train_v2 = pd.read_csv('/kaggle/input/lg-aimers-v2/train_v2.csv', index_col=None)\n",
    "test_v2 = pd.read_csv('/kaggle/input/lg-aimers-v2/test_v2.csv', index_col = None)"
   ]
  },
  {
   "cell_type": "markdown",
   "id": "fa294888",
   "metadata": {
    "papermill": {
     "duration": 0.0035,
     "end_time": "2025-02-25T13:41:27.319386",
     "exception": false,
     "start_time": "2025-02-25T13:41:27.315886",
     "status": "completed"
    },
    "tags": []
   },
   "source": [
    "## 1. 데이터 나누기"
   ]
  },
  {
   "cell_type": "code",
   "execution_count": 3,
   "id": "1e70add7",
   "metadata": {
    "execution": {
     "iopub.execute_input": "2025-02-25T13:41:27.328067Z",
     "iopub.status.busy": "2025-02-25T13:41:27.327783Z",
     "iopub.status.idle": "2025-02-25T13:41:27.399860Z",
     "shell.execute_reply": "2025-02-25T13:41:27.399151Z"
    },
    "papermill": {
     "duration": 0.0782,
     "end_time": "2025-02-25T13:41:27.401426",
     "exception": false,
     "start_time": "2025-02-25T13:41:27.323226",
     "status": "completed"
    },
    "tags": []
   },
   "outputs": [],
   "source": [
    "X = train_v2.drop('임신 성공 여부', axis= 1)\n",
    "X_test = test_v2\n",
    "\n",
    "y = train_v2['임신 성공 여부'].values"
   ]
  },
  {
   "cell_type": "markdown",
   "id": "ca318604",
   "metadata": {
    "papermill": {
     "duration": 0.003305,
     "end_time": "2025-02-25T13:41:27.408659",
     "exception": false,
     "start_time": "2025-02-25T13:41:27.405354",
     "status": "completed"
    },
    "tags": []
   },
   "source": [
    "## 2. Neural Network 훈련"
   ]
  },
  {
   "cell_type": "code",
   "execution_count": 4,
   "id": "09247914",
   "metadata": {
    "execution": {
     "iopub.execute_input": "2025-02-25T13:41:27.417644Z",
     "iopub.status.busy": "2025-02-25T13:41:27.417306Z",
     "iopub.status.idle": "2025-02-25T13:41:32.110720Z",
     "shell.execute_reply": "2025-02-25T13:41:32.109734Z"
    },
    "papermill": {
     "duration": 4.700218,
     "end_time": "2025-02-25T13:41:32.112373",
     "exception": false,
     "start_time": "2025-02-25T13:41:27.412155",
     "status": "completed"
    },
    "tags": []
   },
   "outputs": [],
   "source": [
    "import torch\n",
    "import torch.nn as nn\n",
    "import torch.optim as optim\n",
    "import numpy as np\n",
    "from sklearn.model_selection import StratifiedKFold\n",
    "from sklearn.metrics import roc_auc_score\n",
    "from torch.utils.data import DataLoader, TensorDataset"
   ]
  },
  {
   "cell_type": "code",
   "execution_count": 5,
   "id": "c3ebb333",
   "metadata": {
    "execution": {
     "iopub.execute_input": "2025-02-25T13:41:32.120993Z",
     "iopub.status.busy": "2025-02-25T13:41:32.120582Z",
     "iopub.status.idle": "2025-02-25T13:41:32.171523Z",
     "shell.execute_reply": "2025-02-25T13:41:32.170545Z"
    },
    "papermill": {
     "duration": 0.056636,
     "end_time": "2025-02-25T13:41:32.172898",
     "exception": false,
     "start_time": "2025-02-25T13:41:32.116262",
     "status": "completed"
    },
    "tags": []
   },
   "outputs": [
    {
     "name": "stdout",
     "output_type": "stream",
     "text": [
      "Using device: cuda\n"
     ]
    }
   ],
   "source": [
    "# GPU 사용 여부 확인\n",
    "device = torch.device(\"cuda\" if torch.cuda.is_available() else \"cpu\")\n",
    "print(f\"Using device: {device}\")"
   ]
  },
  {
   "cell_type": "code",
   "execution_count": 6,
   "id": "5ac563f5",
   "metadata": {
    "execution": {
     "iopub.execute_input": "2025-02-25T13:41:32.181284Z",
     "iopub.status.busy": "2025-02-25T13:41:32.181017Z",
     "iopub.status.idle": "2025-02-25T13:41:32.186004Z",
     "shell.execute_reply": "2025-02-25T13:41:32.185166Z"
    },
    "papermill": {
     "duration": 0.010409,
     "end_time": "2025-02-25T13:41:32.187175",
     "exception": false,
     "start_time": "2025-02-25T13:41:32.176766",
     "status": "completed"
    },
    "tags": []
   },
   "outputs": [],
   "source": [
    "# PyTorch Dataset 생성\n",
    "class CustomDataset(torch.utils.data.Dataset):\n",
    "    def __init__(self, X, y=None):\n",
    "        self.X = torch.tensor(X, dtype=torch.float32)\n",
    "        self.y = torch.tensor(y, dtype=torch.float32) if y is not None else None\n",
    "\n",
    "    def __len__(self):\n",
    "        return len(self.X)\n",
    "\n",
    "    def __getitem__(self, idx):\n",
    "        if self.y is not None:\n",
    "            return self.X[idx], self.y[idx]\n",
    "        return self.X[idx]"
   ]
  },
  {
   "cell_type": "code",
   "execution_count": 7,
   "id": "5c250dae",
   "metadata": {
    "execution": {
     "iopub.execute_input": "2025-02-25T13:41:32.195147Z",
     "iopub.status.busy": "2025-02-25T13:41:32.194930Z",
     "iopub.status.idle": "2025-02-25T13:41:32.199370Z",
     "shell.execute_reply": "2025-02-25T13:41:32.198770Z"
    },
    "papermill": {
     "duration": 0.009743,
     "end_time": "2025-02-25T13:41:32.200574",
     "exception": false,
     "start_time": "2025-02-25T13:41:32.190831",
     "status": "completed"
    },
    "tags": []
   },
   "outputs": [],
   "source": [
    "class NeuralNetwork(nn.Module):\n",
    "    def __init__(self, input_dim):\n",
    "        super(NeuralNetwork, self).__init__()\n",
    "        self.model = nn.Sequential(\n",
    "            nn.Linear(input_dim, 512),\n",
    "            nn.BatchNorm1d(512),\n",
    "            nn.ReLU(),\n",
    "            nn.Dropout(0.5),  # Dropout 증가\n",
    "            \n",
    "            nn.Linear(512, 256),\n",
    "            nn.BatchNorm1d(256),\n",
    "            nn.ReLU(),\n",
    "            nn.Dropout(0.5),\n",
    "\n",
    "            nn.Linear(256, 128),\n",
    "            nn.BatchNorm1d(128),\n",
    "            nn.ReLU(),\n",
    "            \n",
    "            nn.Linear(128, 1),  # 이진 분류: 출력층은 1개 뉴런\n",
    "            nn.Sigmoid()        # 이진 분류 확률 출력\n",
    "        )\n",
    "        \n",
    "    def forward(self, x):  \n",
    "        return self.model(x)"
   ]
  },
  {
   "cell_type": "code",
   "execution_count": 8,
   "id": "b3af4837",
   "metadata": {
    "execution": {
     "iopub.execute_input": "2025-02-25T13:41:32.208430Z",
     "iopub.status.busy": "2025-02-25T13:41:32.208213Z",
     "iopub.status.idle": "2025-02-25T13:41:32.320985Z",
     "shell.execute_reply": "2025-02-25T13:41:32.320274Z"
    },
    "papermill": {
     "duration": 0.118369,
     "end_time": "2025-02-25T13:41:32.322544",
     "exception": false,
     "start_time": "2025-02-25T13:41:32.204175",
     "status": "completed"
    },
    "tags": []
   },
   "outputs": [],
   "source": [
    "# 데이터 변환\n",
    "X_tensor = np.array(X)  # CSR Matrix → Dense 변환 (필요 시)\n",
    "y_tensor = np.array(y)\n",
    "\n",
    "X_test_tensor = np.array(X_test)\n",
    "y_tensor = y_tensor.astype(int)\n",
    "\n",
    "# K-Fold 설정\n",
    "n_splits = 10\n",
    "folds = StratifiedKFold(n_splits=n_splits, shuffle=True, random_state=1991)\n",
    "\n",
    "# OOF 예측 저장용\n",
    "oof_val_preds = np.zeros(X_tensor.shape[0])\n",
    "oof_test_preds = np.zeros(X_test_tensor.shape[0])"
   ]
  },
  {
   "cell_type": "code",
   "execution_count": 9,
   "id": "3acddb0d",
   "metadata": {
    "execution": {
     "iopub.execute_input": "2025-02-25T13:41:32.332146Z",
     "iopub.status.busy": "2025-02-25T13:41:32.331843Z",
     "iopub.status.idle": "2025-02-25T14:12:36.353689Z",
     "shell.execute_reply": "2025-02-25T14:12:36.352708Z"
    },
    "papermill": {
     "duration": 1864.028473,
     "end_time": "2025-02-25T14:12:36.355338",
     "exception": false,
     "start_time": "2025-02-25T13:41:32.326865",
     "status": "completed"
    },
    "tags": []
   },
   "outputs": [
    {
     "name": "stdout",
     "output_type": "stream",
     "text": [
      "\n",
      "#### Fold 1/10 ####\n",
      "Epoch 1: Train Loss = 0.5837600711172661, Valid Loss = 0.532318305510741, AUC = 0.7065160300732434, LR = 0.00012071061595315047\n",
      "Epoch 10: Train Loss = 0.49394247278702996, Valid Loss = 0.4916591059703093, AUC = 0.7329372230586543, LR = 0.0001904848026045092\n",
      "Epoch 20: Train Loss = 0.4901525478447433, Valid Loss = 0.4888721475234398, AUC = 0.7366561356626078, LR = 0.0003950390612538755\n",
      "Epoch 30: Train Loss = 0.48892385835668684, Valid Loss = 0.4887977930215689, AUC = 0.7366427941866328, LR = 0.000713637822416415\n",
      "Epoch 40: Train Loss = 0.4879334380405139, Valid Loss = 0.48921283047932845, AUC = 0.7373853227675091, LR = 0.0011150916822163179\n",
      "Epoch 50: Train Loss = 0.4873905531336776, Valid Loss = 0.4885863077182036, AUC = 0.7374043383414507, LR = 0.0015601000905663418\n",
      "Early stopping at epoch 55\n",
      "Best iteration: [35]  Valid Loss: 0.48814702607118166  AUC: 0.7382028296492291\n",
      "Fold 1 Valid Preds Min/Max: 4.823295540745676e-08, 0.6226266026496887\n",
      "Fold 1 Valid AUC: 0.7380589839200193\n",
      "\n",
      "#### Fold 2/10 ####\n",
      "Epoch 1: Train Loss = 0.5604594865467696, Valid Loss = 0.5305232795385214, AUC = 0.713970299581858, LR = 0.00012071061595315047\n",
      "Epoch 10: Train Loss = 0.4939850276022886, Valid Loss = 0.4987452053106748, AUC = 0.7356467327041315, LR = 0.0001904848026045092\n",
      "Epoch 20: Train Loss = 0.4905504389146788, Valid Loss = 0.49650682279696834, AUC = 0.7380130181001432, LR = 0.0003950390612538755\n",
      "Epoch 30: Train Loss = 0.4890742370512633, Valid Loss = 0.496682529266064, AUC = 0.7379917479405712, LR = 0.000713637822416415\n",
      "Epoch 40: Train Loss = 0.48816086852972485, Valid Loss = 0.49706693566762483, AUC = 0.738199795199657, LR = 0.0011150916822163179\n",
      "Epoch 50: Train Loss = 0.48776833040524376, Valid Loss = 0.4962064956243222, AUC = 0.7383099067968295, LR = 0.0015601000905663418\n",
      "Epoch 60: Train Loss = 0.48711028167631776, Valid Loss = 0.49730199804672826, AUC = 0.7382653570115271, LR = 0.0020050987004944063\n",
      "Early stopping at epoch 63\n",
      "Best iteration: [43]  Valid Loss: 0.4959098662321384  AUC: 0.7388716558412569\n",
      "Fold 2 Valid Preds Min/Max: 9.282940709454124e-07, 0.6576709151268005\n",
      "Fold 2 Valid AUC: 0.737246041403295\n",
      "\n",
      "#### Fold 3/10 ####\n",
      "Epoch 1: Train Loss = 0.6766644718900191, Valid Loss = 0.5671720321361835, AUC = 0.6918232939636288, LR = 0.00012071061595315047\n",
      "Epoch 10: Train Loss = 0.49341324103617035, Valid Loss = 0.4936582320011579, AUC = 0.7268733359455865, LR = 0.0001904848026045092\n",
      "Epoch 20: Train Loss = 0.49006881782438905, Valid Loss = 0.4923150734259532, AUC = 0.7296365345918956, LR = 0.0003950390612538755\n",
      "Epoch 30: Train Loss = 0.4886772356993329, Valid Loss = 0.4909379012309588, AUC = 0.7317941611521647, LR = 0.000713637822416415\n",
      "Epoch 40: Train Loss = 0.4880653716030374, Valid Loss = 0.49081932466763717, AUC = 0.7323872316582324, LR = 0.0011150916822163179\n",
      "Epoch 50: Train Loss = 0.4874918456889887, Valid Loss = 0.49076465918467593, AUC = 0.7320061280616421, LR = 0.0015601000905663418\n",
      "Epoch 60: Train Loss = 0.48643668246480215, Valid Loss = 0.4908973345389733, AUC = 0.7319202094839082, LR = 0.0020050987004944063\n",
      "Early stopping at epoch 65\n",
      "Best iteration: [45]  Valid Loss: 0.49041034968999714  AUC: 0.732565522138813\n",
      "Fold 3 Valid Preds Min/Max: 1.9799788475438618e-08, 0.6277552247047424\n",
      "Fold 3 Valid AUC: 0.7317718902307904\n",
      "\n",
      "#### Fold 4/10 ####\n",
      "Epoch 1: Train Loss = 0.558263740180868, Valid Loss = 0.5313522815704346, AUC = 0.7072060013814236, LR = 0.00012071061595315047\n",
      "Epoch 10: Train Loss = 0.4939881751758862, Valid Loss = 0.495342771594341, AUC = 0.7323459759150185, LR = 0.0001904848026045092\n",
      "Epoch 20: Train Loss = 0.49016674390408843, Valid Loss = 0.4924958096100734, AUC = 0.7359341640088466, LR = 0.0003950390612538755\n",
      "Epoch 30: Train Loss = 0.48891076168655295, Valid Loss = 0.49222130271104664, AUC = 0.7369545824964162, LR = 0.000713637822416415\n",
      "Epoch 40: Train Loss = 0.48794888883037907, Valid Loss = 0.49217917025089264, AUC = 0.7372787656477933, LR = 0.0011150916822163179\n",
      "Epoch 50: Train Loss = 0.48762513934511, Valid Loss = 0.4915124074770854, AUC = 0.7381361832267289, LR = 0.0015601000905663418\n",
      "Epoch 60: Train Loss = 0.4869076806095849, Valid Loss = 0.49241577088832855, AUC = 0.7370161431455562, LR = 0.0020050987004944063\n",
      "Epoch 70: Train Loss = 0.48594112786571536, Valid Loss = 0.49378537902465236, AUC = 0.7367778224670137, LR = 0.002406524124250426\n",
      "Epoch 80: Train Loss = 0.48521616632959486, Valid Loss = 0.492102535871359, AUC = 0.7381755386801011, LR = 0.0027250785955095754\n",
      "Epoch 90: Train Loss = 0.4838714686642706, Valid Loss = 0.4923212161430946, AUC = 0.7366476568165711, LR = 0.0029295770461809033\n",
      "Early stopping at epoch 97\n",
      "Best iteration: [77]  Valid Loss: 0.491044819355011  AUC: 0.7384646747896598\n",
      "Fold 4 Valid Preds Min/Max: 3.3260876275420515e-09, 0.7588171362876892\n",
      "Fold 4 Valid AUC: 0.736880982120243\n",
      "\n",
      "#### Fold 5/10 ####\n",
      "Epoch 1: Train Loss = 0.5774935214920381, Valid Loss = 0.5361651216561978, AUC = 0.7094396050283364, LR = 0.00012071061595315047\n",
      "Epoch 10: Train Loss = 0.494125583662396, Valid Loss = 0.48851450360738313, AUC = 0.7345492658164926, LR = 0.0001904848026045092\n",
      "Epoch 20: Train Loss = 0.49075219945042536, Valid Loss = 0.4851249559567525, AUC = 0.7384587343438677, LR = 0.0003950390612538755\n",
      "Epoch 30: Train Loss = 0.4889623319680712, Valid Loss = 0.4864732049978696, AUC = 0.7375934702937524, LR = 0.000713637822416415\n",
      "Epoch 40: Train Loss = 0.4880688567604639, Valid Loss = 0.48434877968751466, AUC = 0.7393006416412098, LR = 0.0011150916822163179\n",
      "Epoch 50: Train Loss = 0.48743838414681695, Valid Loss = 0.4847923918412282, AUC = 0.7384473776092653, LR = 0.0015601000905663418\n",
      "Early stopping at epoch 58\n",
      "Best iteration: [38]  Valid Loss: 0.4833664194895671  AUC: 0.7407783831243816\n",
      "Fold 5 Valid Preds Min/Max: 1.0229238966985577e-07, 0.6284974813461304\n",
      "Fold 5 Valid AUC: 0.7386853965004547\n",
      "\n",
      "#### Fold 6/10 ####\n",
      "Epoch 1: Train Loss = 0.5523534058469587, Valid Loss = 0.5226041307816138, AUC = 0.7090204104822628, LR = 0.00012071061595315047\n",
      "Epoch 10: Train Loss = 0.4941836672019115, Valid Loss = 0.49072859722834367, AUC = 0.7303659530624095, LR = 0.0001904848026045092\n",
      "Epoch 20: Train Loss = 0.49006901088014115, Valid Loss = 0.488759750357041, AUC = 0.733256944865579, LR = 0.0003950390612538755\n",
      "Epoch 30: Train Loss = 0.48893995187451356, Valid Loss = 0.48774083531819856, AUC = 0.7347580073635478, LR = 0.000713637822416415\n",
      "Epoch 40: Train Loss = 0.488167420952721, Valid Loss = 0.4881538049532817, AUC = 0.7341162644990159, LR = 0.0011150916822163179\n",
      "Epoch 50: Train Loss = 0.4872827573423892, Valid Loss = 0.4880692156461569, AUC = 0.7340797839672705, LR = 0.0015601000905663418\n",
      "Epoch 60: Train Loss = 0.4869659764576802, Valid Loss = 0.4885133963364821, AUC = 0.7336470089903088, LR = 0.0020050987004944063\n",
      "Early stopping at epoch 67\n",
      "Best iteration: [47]  Valid Loss: 0.4873905904017962  AUC: 0.7352998586142135\n",
      "Fold 6 Valid Preds Min/Max: 1.049735232072635e-08, 0.6859705448150635\n",
      "Fold 6 Valid AUC: 0.7341803625444536\n",
      "\n",
      "#### Fold 7/10 ####\n",
      "Epoch 1: Train Loss = 0.5877517742657028, Valid Loss = 0.533597489962211, AUC = 0.7103911524652262, LR = 0.00012071061595315047\n",
      "Epoch 10: Train Loss = 0.4941144625170041, Valid Loss = 0.49026246483509356, AUC = 0.739951334883292, LR = 0.0001904848026045092\n",
      "Epoch 20: Train Loss = 0.49060484674652066, Valid Loss = 0.4875506265805318, AUC = 0.7424723115662799, LR = 0.0003950390612538755\n",
      "Epoch 30: Train Loss = 0.4892444523562372, Valid Loss = 0.48725916559879595, AUC = 0.7432481631712755, LR = 0.000713637822416415\n",
      "Epoch 40: Train Loss = 0.4886734558153996, Valid Loss = 0.48797827615187717, AUC = 0.7420831051529746, LR = 0.0011150916822163179\n",
      "Epoch 50: Train Loss = 0.48794154282164787, Valid Loss = 0.4879045050877791, AUC = 0.7433636008047112, LR = 0.0015601000905663418\n",
      "Early stopping at epoch 59\n",
      "Best iteration: [39]  Valid Loss: 0.48719843648947203  AUC: 0.7435221980005222\n",
      "Fold 7 Valid Preds Min/Max: 1.7206963631721806e-10, 0.683512270450592\n",
      "Fold 7 Valid AUC: 0.7419826099644021\n",
      "\n",
      "#### Fold 8/10 ####\n",
      "Epoch 1: Train Loss = 0.585640095240247, Valid Loss = 0.5399213456190549, AUC = 0.7072235844656263, LR = 0.00012071061595315047\n",
      "Epoch 10: Train Loss = 0.49377200666782073, Valid Loss = 0.4962901495970212, AUC = 0.7345522717773646, LR = 0.0001904848026045092\n",
      "Epoch 20: Train Loss = 0.490555667507965, Valid Loss = 0.4940513532895308, AUC = 0.7378757208865978, LR = 0.0003950390612538755\n",
      "Epoch 30: Train Loss = 0.4888268405884768, Valid Loss = 0.49378155974241406, AUC = 0.7382362416178165, LR = 0.000713637822416415\n",
      "Epoch 40: Train Loss = 0.48807683639821753, Valid Loss = 0.4938519402192189, AUC = 0.7387989400211613, LR = 0.0011150916822163179\n",
      "Epoch 50: Train Loss = 0.4877810494034691, Valid Loss = 0.4937090678856923, AUC = 0.7385870257360125, LR = 0.0015601000905663418\n",
      "Early stopping at epoch 58\n",
      "Best iteration: [38]  Valid Loss: 0.4933106371989617  AUC: 0.7395113924566948\n",
      "Fold 8 Valid Preds Min/Max: 4.954341648044647e-07, 0.7221267819404602\n",
      "Fold 8 Valid AUC: 0.7377643931204045\n",
      "\n",
      "#### Fold 9/10 ####\n",
      "Epoch 1: Train Loss = 0.6179804453807595, Valid Loss = 0.5504287848105798, AUC = 0.7115031832688837, LR = 0.00012071061595315047\n",
      "Epoch 10: Train Loss = 0.49395856894223034, Valid Loss = 0.4978269785642624, AUC = 0.7378251317960963, LR = 0.0001904848026045092\n",
      "Epoch 20: Train Loss = 0.4907199749640659, Valid Loss = 0.49592914948096645, AUC = 0.7412628590399879, LR = 0.0003950390612538755\n",
      "Epoch 30: Train Loss = 0.4893134693920085, Valid Loss = 0.4953254724924381, AUC = 0.7422905561620069, LR = 0.000713637822416415\n",
      "Epoch 40: Train Loss = 0.4885271769181817, Valid Loss = 0.49557711069400495, AUC = 0.7428389355496258, LR = 0.0011150916822163179\n",
      "Epoch 50: Train Loss = 0.4877262637678501, Valid Loss = 0.4953942917860471, AUC = 0.743263339898426, LR = 0.0015601000905663418\n",
      "Epoch 60: Train Loss = 0.48737752556273367, Valid Loss = 0.49507595484073347, AUC = 0.743620664066234, LR = 0.0020050987004944063\n",
      "Epoch 70: Train Loss = 0.48654572744812585, Valid Loss = 0.4958513161310783, AUC = 0.7431180928221023, LR = 0.002406524124250426\n",
      "Early stopping at epoch 74\n",
      "Best iteration: [54]  Valid Loss: 0.4939279109239578  AUC: 0.7444829181845908\n",
      "Fold 9 Valid Preds Min/Max: 6.443356959096036e-09, 0.6766144633293152\n",
      "Fold 9 Valid AUC: 0.7436630651893402\n",
      "\n",
      "#### Fold 10/10 ####\n",
      "Epoch 1: Train Loss = 0.5754347678306884, Valid Loss = 0.534393874498514, AUC = 0.7083104319088473, LR = 0.00012071061595315047\n",
      "Epoch 10: Train Loss = 0.494266133656544, Valid Loss = 0.4895248149450009, AUC = 0.7354901434820967, LR = 0.0001904848026045092\n",
      "Epoch 20: Train Loss = 0.49039825243232527, Valid Loss = 0.4871282187791971, AUC = 0.7373206704101217, LR = 0.0003950390612538755\n",
      "Epoch 30: Train Loss = 0.4890320361715502, Valid Loss = 0.4864378491273293, AUC = 0.7386624606616214, LR = 0.000713637822416415\n",
      "Epoch 40: Train Loss = 0.48810818237541, Valid Loss = 0.48653716765917265, AUC = 0.7393218938242839, LR = 0.0011150916822163179\n",
      "Epoch 50: Train Loss = 0.487367159233684, Valid Loss = 0.48748934039702785, AUC = 0.7379338427482675, LR = 0.0015601000905663418\n",
      "Epoch 60: Train Loss = 0.48681787500339274, Valid Loss = 0.4873775438620494, AUC = 0.7393738052198983, LR = 0.0020050987004944063\n",
      "Epoch 70: Train Loss = 0.4860127101429796, Valid Loss = 0.48666569819817174, AUC = 0.7396186302100768, LR = 0.002406524124250426\n",
      "Epoch 80: Train Loss = 0.4851838002162697, Valid Loss = 0.48686849956329054, AUC = 0.7395855646404843, LR = 0.0027250785955095754\n",
      "Early stopping at epoch 89\n",
      "Best iteration: [69]  Valid Loss: 0.4860438566941481  AUC: 0.7399921436810224\n",
      "Fold 10 Valid Preds Min/Max: 7.728607087642558e-09, 0.686762809753418\n",
      "Fold 10 Valid AUC: 0.7395682634892038\n"
     ]
    }
   ],
   "source": [
    "from torch.optim.lr_scheduler import OneCycleLR\n",
    "\n",
    "# K-Fold 훈련\n",
    "for fold_idx, (train_idx, valid_idx) in enumerate(folds.split(X_tensor, y_tensor)):\n",
    "    print(f\"\\n#### Fold {fold_idx+1}/{n_splits} ####\")\n",
    "\n",
    "    # 훈련/검증 데이터 설정\n",
    "    X_train, y_train = X_tensor[train_idx], y_tensor[train_idx]\n",
    "    X_valid, y_valid = X_tensor[valid_idx], y_tensor[valid_idx]\n",
    "\n",
    "    # NaN 값 0으로 채우기 (필요하면 평균값으로 대체 가능)\n",
    "    X_train = np.nan_to_num(X_train, nan=0.0)\n",
    "    X_valid = np.nan_to_num(X_valid, nan=0.0)\n",
    "\n",
    "    train_dataset = CustomDataset(X_train, y_train)\n",
    "    valid_dataset = CustomDataset(X_valid, y_valid)\n",
    "    \n",
    "    train_loader = DataLoader(train_dataset, batch_size=1024, shuffle=True)\n",
    "    valid_loader = DataLoader(valid_dataset, batch_size=1024, shuffle=False)\n",
    "\n",
    "    # 모델 초기화\n",
    "    model = NeuralNetwork(input_dim=X_train.shape[1]).to(device)\n",
    "\n",
    "    # 최적화 알고리즘 & 스케줄러 설정\n",
    "    optimizer = optim.AdamW(model.parameters(), lr=0.001, weight_decay=1e-4)\n",
    "\n",
    "    # `total_steps`를 정확하게 설정해야 ValueError 방지 가능!\n",
    "    total_steps = len(train_loader) * 1000\n",
    "    scheduler = OneCycleLR(optimizer, max_lr=0.003, total_steps=total_steps, pct_start=0.1)\n",
    "\n",
    "    criterion = nn.BCELoss()  \n",
    "    best_auc = 0.0  # AUC 기준 Early Stopping\n",
    "\n",
    "    # Early Stopping 설정\n",
    "    best_valid_loss = np.inf\n",
    "    patience, patience_counter = 20, 0\n",
    "\n",
    "    # 학습 진행\n",
    "    for epoch in range(1000):\n",
    "        model.train()\n",
    "        train_loss = 0.0\n",
    "\n",
    "        for X_batch, y_batch in train_loader:  \n",
    "            X_batch, y_batch = X_batch.to(device), y_batch.to(device).unsqueeze(1)\n",
    "    \n",
    "            optimizer.zero_grad()\n",
    "            preds = model(X_batch)\n",
    "    \n",
    "            loss = criterion(preds, y_batch)  # Loss 계산\n",
    "            loss.backward()  # 역전파\n",
    "            optimizer.step()  # 가중치 업데이트\n",
    "    \n",
    "            train_loss += loss.item()\n",
    "            scheduler.step() # lr update\n",
    "\n",
    "        # 검증 데이터 평가\n",
    "        model.eval()\n",
    "        valid_loss, valid_preds = 0.0, []\n",
    "        with torch.no_grad():\n",
    "            for X_batch, y_batch in valid_loader:\n",
    "                X_batch, y_batch = X_batch.to(device), y_batch.to(device).unsqueeze(1)\n",
    "                preds = model(X_batch)\n",
    "                loss = criterion(preds, y_batch)\n",
    "                valid_loss += loss.item()\n",
    "                valid_preds.extend(preds.cpu().numpy())\n",
    "\n",
    "        valid_loss /= len(valid_loader)\n",
    "        train_loss /= len(train_loader)\n",
    "        roc_auc = roc_auc_score(y_valid, np.array(valid_preds).flatten())\n",
    "\n",
    "        # 10 에폭마다 출력 (첫 에폭 포함)\n",
    "        if (epoch + 1) % 10 == 0 or epoch == 0:\n",
    "            current_lr = optimizer.param_groups[0]['lr']  # 현재 Learning Rate 확인\n",
    "            print(f\"Epoch {epoch+1}: Train Loss = {train_loss}, Valid Loss = {valid_loss:}, AUC = {roc_auc}, LR = {current_lr}\")\n",
    "\n",
    "        # AUC & Loss 기준 Best Model 저장\n",
    "        if roc_auc > best_auc or valid_loss < best_valid_loss:\n",
    "            best_auc = max(best_auc, roc_auc)\n",
    "            best_valid_loss = min(best_valid_loss, valid_loss)\n",
    "            patience_counter = 0\n",
    "            best_model_state = model.state_dict()\n",
    "            best_iteration = epoch + 1  # Best Iteration 저장\n",
    "        else:\n",
    "            patience_counter += 1\n",
    "\n",
    "        # Early Stopping\n",
    "        if patience_counter >= patience:\n",
    "            print(f\"Early stopping at epoch {epoch+1}\")\n",
    "            print(f\"Best iteration: [{best_iteration}]  Valid Loss: {best_valid_loss}  AUC: {best_auc}\")\n",
    "            break\n",
    "\n",
    "    # 최적 모델 로드\n",
    "    model.load_state_dict(best_model_state)\n",
    "\n",
    "    # 검증 데이터 예측 저장\n",
    "    model.eval()\n",
    "    valid_preds = []\n",
    "    with torch.no_grad():\n",
    "        for X_batch in valid_loader:\n",
    "            X_batch = X_batch[0].to(device)  \n",
    "            preds = model(X_batch)\n",
    "            valid_preds.extend(preds.cpu().numpy())\n",
    "\n",
    "    valid_preds = np.array(valid_preds).flatten()\n",
    "    \n",
    "    print(f\"Fold {fold_idx+1} Valid Preds Min/Max: {valid_preds.min()}, {valid_preds.max()}\")\n",
    "    print(f\"Fold {fold_idx+1} Valid AUC: {roc_auc_score(y_valid, valid_preds)}\")\n",
    "\n",
    "    # OOF 예측 저장\n",
    "    oof_val_preds[valid_idx] = valid_preds\n",
    "\n",
    "    # 테스트 데이터 예측 저장\n",
    "    test_dataset = CustomDataset(X_test_tensor)\n",
    "    test_loader = DataLoader(test_dataset, batch_size=1024, shuffle=False)\n",
    "\n",
    "    test_preds = []\n",
    "    with torch.no_grad():\n",
    "        for X_batch in test_loader:\n",
    "            X_batch = X_batch.to(device)\n",
    "            preds = model(X_batch)\n",
    "            test_preds.extend(preds.cpu().numpy())\n",
    "\n",
    "    oof_test_preds += np.array(test_preds).flatten() / n_splits"
   ]
  },
  {
   "cell_type": "markdown",
   "id": "daff3077",
   "metadata": {
    "papermill": {
     "duration": 0.007423,
     "end_time": "2025-02-25T14:12:36.370662",
     "exception": false,
     "start_time": "2025-02-25T14:12:36.363239",
     "status": "completed"
    },
    "tags": []
   },
   "source": [
    "## 3. 최종 결과"
   ]
  },
  {
   "cell_type": "code",
   "execution_count": 10,
   "id": "d5ff8f46",
   "metadata": {
    "execution": {
     "iopub.execute_input": "2025-02-25T14:12:36.386886Z",
     "iopub.status.busy": "2025-02-25T14:12:36.386438Z",
     "iopub.status.idle": "2025-02-25T14:12:36.562463Z",
     "shell.execute_reply": "2025-02-25T14:12:36.561539Z"
    },
    "papermill": {
     "duration": 0.185462,
     "end_time": "2025-02-25T14:12:36.563846",
     "exception": false,
     "start_time": "2025-02-25T14:12:36.378384",
     "status": "completed"
    },
    "tags": []
   },
   "outputs": [
    {
     "name": "stdout",
     "output_type": "stream",
     "text": [
      "NN OOF 검증 데이터 ROC-AUC: 0.7376636074816705\n"
     ]
    }
   ],
   "source": [
    "# 최종 성능 평가\n",
    "final_auc = roc_auc_score(y_tensor, oof_val_preds)\n",
    "print(f\"NN OOF 검증 데이터 ROC-AUC: {final_auc}\")"
   ]
  },
  {
   "cell_type": "code",
   "execution_count": 11,
   "id": "93a2b1f5",
   "metadata": {
    "execution": {
     "iopub.execute_input": "2025-02-25T14:12:36.580468Z",
     "iopub.status.busy": "2025-02-25T14:12:36.580208Z",
     "iopub.status.idle": "2025-02-25T14:12:36.585619Z",
     "shell.execute_reply": "2025-02-25T14:12:36.584859Z"
    },
    "papermill": {
     "duration": 0.014903,
     "end_time": "2025-02-25T14:12:36.586889",
     "exception": false,
     "start_time": "2025-02-25T14:12:36.571986",
     "status": "completed"
    },
    "tags": []
   },
   "outputs": [
    {
     "data": {
      "text/plain": [
       "array([2.01244410e-04, 1.18649388e-04, 1.58065354e-01, ...,\n",
       "       4.76878986e-01, 2.94966999e-01, 1.86868522e-04])"
      ]
     },
     "execution_count": 11,
     "metadata": {},
     "output_type": "execute_result"
    }
   ],
   "source": [
    "oof_test_preds"
   ]
  },
  {
   "cell_type": "code",
   "execution_count": 12,
   "id": "7b65c59d",
   "metadata": {
    "execution": {
     "iopub.execute_input": "2025-02-25T14:12:36.603254Z",
     "iopub.status.busy": "2025-02-25T14:12:36.602918Z",
     "iopub.status.idle": "2025-02-25T14:12:37.202653Z",
     "shell.execute_reply": "2025-02-25T14:12:37.201701Z"
    },
    "papermill": {
     "duration": 0.609676,
     "end_time": "2025-02-25T14:12:37.204290",
     "exception": false,
     "start_time": "2025-02-25T14:12:36.594614",
     "status": "completed"
    },
    "tags": []
   },
   "outputs": [],
   "source": [
    "# OOF 검증 예측 결과 저장\n",
    "oof_val_preds_df = pd.DataFrame({'ID': train_v2.index, 'oof_val_preds': oof_val_preds})\n",
    "oof_val_preds_df.to_csv(\"nn_v2_oof_val_predictions.csv\", index=False)\n",
    "\n",
    "# OOF 테스트 예측 결과 저장\n",
    "oof_test_preds_df = pd.DataFrame({'ID': test_v2.index, 'oof_test_preds': oof_test_preds})\n",
    "oof_test_preds_df.to_csv(\"nn_v2_oof_test_predictions.csv\", index=False)"
   ]
  },
  {
   "cell_type": "code",
   "execution_count": 13,
   "id": "fa824b3c",
   "metadata": {
    "execution": {
     "iopub.execute_input": "2025-02-25T14:12:37.220919Z",
     "iopub.status.busy": "2025-02-25T14:12:37.220647Z",
     "iopub.status.idle": "2025-02-25T14:12:37.307641Z",
     "shell.execute_reply": "2025-02-25T14:12:37.306756Z"
    },
    "papermill": {
     "duration": 0.096753,
     "end_time": "2025-02-25T14:12:37.309092",
     "exception": false,
     "start_time": "2025-02-25T14:12:37.212339",
     "status": "completed"
    },
    "tags": []
   },
   "outputs": [
    {
     "data": {
      "text/html": [
       "<div>\n",
       "<style scoped>\n",
       "    .dataframe tbody tr th:only-of-type {\n",
       "        vertical-align: middle;\n",
       "    }\n",
       "\n",
       "    .dataframe tbody tr th {\n",
       "        vertical-align: top;\n",
       "    }\n",
       "\n",
       "    .dataframe thead th {\n",
       "        text-align: right;\n",
       "    }\n",
       "</style>\n",
       "<table border=\"1\" class=\"dataframe\">\n",
       "  <thead>\n",
       "    <tr style=\"text-align: right;\">\n",
       "      <th></th>\n",
       "      <th>oof_val_preds</th>\n",
       "    </tr>\n",
       "    <tr>\n",
       "      <th>ID</th>\n",
       "      <th></th>\n",
       "    </tr>\n",
       "  </thead>\n",
       "  <tbody>\n",
       "    <tr>\n",
       "      <th>0</th>\n",
       "      <td>0.486373</td>\n",
       "    </tr>\n",
       "    <tr>\n",
       "      <th>1</th>\n",
       "      <td>0.000001</td>\n",
       "    </tr>\n",
       "    <tr>\n",
       "      <th>2</th>\n",
       "      <td>0.325161</td>\n",
       "    </tr>\n",
       "    <tr>\n",
       "      <th>3</th>\n",
       "      <td>0.000125</td>\n",
       "    </tr>\n",
       "    <tr>\n",
       "      <th>4</th>\n",
       "      <td>0.288371</td>\n",
       "    </tr>\n",
       "    <tr>\n",
       "      <th>...</th>\n",
       "      <td>...</td>\n",
       "    </tr>\n",
       "    <tr>\n",
       "      <th>256346</th>\n",
       "      <td>0.357125</td>\n",
       "    </tr>\n",
       "    <tr>\n",
       "      <th>256347</th>\n",
       "      <td>0.276496</td>\n",
       "    </tr>\n",
       "    <tr>\n",
       "      <th>256348</th>\n",
       "      <td>0.326369</td>\n",
       "    </tr>\n",
       "    <tr>\n",
       "      <th>256349</th>\n",
       "      <td>0.157279</td>\n",
       "    </tr>\n",
       "    <tr>\n",
       "      <th>256350</th>\n",
       "      <td>0.196291</td>\n",
       "    </tr>\n",
       "  </tbody>\n",
       "</table>\n",
       "<p>256351 rows × 1 columns</p>\n",
       "</div>"
      ],
      "text/plain": [
       "        oof_val_preds\n",
       "ID                   \n",
       "0            0.486373\n",
       "1            0.000001\n",
       "2            0.325161\n",
       "3            0.000125\n",
       "4            0.288371\n",
       "...               ...\n",
       "256346       0.357125\n",
       "256347       0.276496\n",
       "256348       0.326369\n",
       "256349       0.157279\n",
       "256350       0.196291\n",
       "\n",
       "[256351 rows x 1 columns]"
      ]
     },
     "execution_count": 13,
     "metadata": {},
     "output_type": "execute_result"
    }
   ],
   "source": [
    "val = pd.read_csv('/kaggle/working/nn_v2_oof_val_predictions.csv', index_col = 0)\n",
    "val"
   ]
  },
  {
   "cell_type": "code",
   "execution_count": 14,
   "id": "ff201ac3",
   "metadata": {
    "execution": {
     "iopub.execute_input": "2025-02-25T14:12:37.326454Z",
     "iopub.status.busy": "2025-02-25T14:12:37.326191Z",
     "iopub.status.idle": "2025-02-25T14:12:37.359745Z",
     "shell.execute_reply": "2025-02-25T14:12:37.358900Z"
    },
    "papermill": {
     "duration": 0.043478,
     "end_time": "2025-02-25T14:12:37.361050",
     "exception": false,
     "start_time": "2025-02-25T14:12:37.317572",
     "status": "completed"
    },
    "tags": []
   },
   "outputs": [
    {
     "data": {
      "text/html": [
       "<div>\n",
       "<style scoped>\n",
       "    .dataframe tbody tr th:only-of-type {\n",
       "        vertical-align: middle;\n",
       "    }\n",
       "\n",
       "    .dataframe tbody tr th {\n",
       "        vertical-align: top;\n",
       "    }\n",
       "\n",
       "    .dataframe thead th {\n",
       "        text-align: right;\n",
       "    }\n",
       "</style>\n",
       "<table border=\"1\" class=\"dataframe\">\n",
       "  <thead>\n",
       "    <tr style=\"text-align: right;\">\n",
       "      <th></th>\n",
       "      <th>oof_test_preds</th>\n",
       "    </tr>\n",
       "    <tr>\n",
       "      <th>ID</th>\n",
       "      <th></th>\n",
       "    </tr>\n",
       "  </thead>\n",
       "  <tbody>\n",
       "    <tr>\n",
       "      <th>0</th>\n",
       "      <td>0.000201</td>\n",
       "    </tr>\n",
       "    <tr>\n",
       "      <th>1</th>\n",
       "      <td>0.000119</td>\n",
       "    </tr>\n",
       "    <tr>\n",
       "      <th>2</th>\n",
       "      <td>0.158065</td>\n",
       "    </tr>\n",
       "    <tr>\n",
       "      <th>3</th>\n",
       "      <td>0.106845</td>\n",
       "    </tr>\n",
       "    <tr>\n",
       "      <th>4</th>\n",
       "      <td>0.529263</td>\n",
       "    </tr>\n",
       "    <tr>\n",
       "      <th>...</th>\n",
       "      <td>...</td>\n",
       "    </tr>\n",
       "    <tr>\n",
       "      <th>90062</th>\n",
       "      <td>0.000609</td>\n",
       "    </tr>\n",
       "    <tr>\n",
       "      <th>90063</th>\n",
       "      <td>0.321394</td>\n",
       "    </tr>\n",
       "    <tr>\n",
       "      <th>90064</th>\n",
       "      <td>0.476879</td>\n",
       "    </tr>\n",
       "    <tr>\n",
       "      <th>90065</th>\n",
       "      <td>0.294967</td>\n",
       "    </tr>\n",
       "    <tr>\n",
       "      <th>90066</th>\n",
       "      <td>0.000187</td>\n",
       "    </tr>\n",
       "  </tbody>\n",
       "</table>\n",
       "<p>90067 rows × 1 columns</p>\n",
       "</div>"
      ],
      "text/plain": [
       "       oof_test_preds\n",
       "ID                   \n",
       "0            0.000201\n",
       "1            0.000119\n",
       "2            0.158065\n",
       "3            0.106845\n",
       "4            0.529263\n",
       "...               ...\n",
       "90062        0.000609\n",
       "90063        0.321394\n",
       "90064        0.476879\n",
       "90065        0.294967\n",
       "90066        0.000187\n",
       "\n",
       "[90067 rows x 1 columns]"
      ]
     },
     "execution_count": 14,
     "metadata": {},
     "output_type": "execute_result"
    }
   ],
   "source": [
    "te = pd.read_csv('/kaggle/working/nn_v2_oof_test_predictions.csv', index_col = 0)\n",
    "te"
   ]
  },
  {
   "cell_type": "code",
   "execution_count": 15,
   "id": "407fb1af",
   "metadata": {
    "execution": {
     "iopub.execute_input": "2025-02-25T14:12:37.378392Z",
     "iopub.status.busy": "2025-02-25T14:12:37.378137Z",
     "iopub.status.idle": "2025-02-25T14:12:37.518043Z",
     "shell.execute_reply": "2025-02-25T14:12:37.517103Z"
    },
    "papermill": {
     "duration": 0.150448,
     "end_time": "2025-02-25T14:12:37.519734",
     "exception": false,
     "start_time": "2025-02-25T14:12:37.369286",
     "status": "completed"
    },
    "tags": []
   },
   "outputs": [],
   "source": [
    "# 결과 저장\n",
    "submission[\"probability\"] = oof_test_preds\n",
    "submission.to_csv(\"v2_nn_submission.csv\", index=False)"
   ]
  }
 ],
 "metadata": {
  "kaggle": {
   "accelerator": "gpu",
   "dataSources": [
    {
     "datasetId": 6737373,
     "sourceId": 10851498,
     "sourceType": "datasetVersion"
    }
   ],
   "dockerImageVersionId": 30918,
   "isGpuEnabled": true,
   "isInternetEnabled": true,
   "language": "python",
   "sourceType": "notebook"
  },
  "kernelspec": {
   "display_name": "Python 3",
   "language": "python",
   "name": "python3"
  },
  "language_info": {
   "codemirror_mode": {
    "name": "ipython",
    "version": 3
   },
   "file_extension": ".py",
   "mimetype": "text/x-python",
   "name": "python",
   "nbconvert_exporter": "python",
   "pygments_lexer": "ipython3",
   "version": "3.10.12"
  },
  "papermill": {
   "default_parameters": {},
   "duration": 1878.382927,
   "end_time": "2025-02-25T14:12:39.255694",
   "environment_variables": {},
   "exception": null,
   "input_path": "__notebook__.ipynb",
   "output_path": "__notebook__.ipynb",
   "parameters": {},
   "start_time": "2025-02-25T13:41:20.872767",
   "version": "2.6.0"
  }
 },
 "nbformat": 4,
 "nbformat_minor": 5
}

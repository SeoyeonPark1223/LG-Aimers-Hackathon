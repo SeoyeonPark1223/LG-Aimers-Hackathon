{
 "cells": [
  {
   "cell_type": "markdown",
   "id": "055422b3",
   "metadata": {
    "papermill": {
     "duration": 0.004977,
     "end_time": "2025-02-25T08:47:00.073780",
     "exception": false,
     "start_time": "2025-02-25T08:47:00.068803",
     "status": "completed"
    },
    "tags": []
   },
   "source": [
    "# Neural Network - Baseline(one-hot)"
   ]
  },
  {
   "cell_type": "code",
   "execution_count": 1,
   "id": "c4ab1244",
   "metadata": {
    "_cell_guid": "b1076dfc-b9ad-4769-8c92-a6c4dae69d19",
    "_uuid": "8f2839f25d086af736a60e9eeb907d3b93b6e0e5",
    "execution": {
     "iopub.execute_input": "2025-02-25T08:47:00.083084Z",
     "iopub.status.busy": "2025-02-25T08:47:00.082847Z",
     "iopub.status.idle": "2025-02-25T08:47:00.800685Z",
     "shell.execute_reply": "2025-02-25T08:47:00.799645Z"
    },
    "papermill": {
     "duration": 0.724321,
     "end_time": "2025-02-25T08:47:00.802436",
     "exception": false,
     "start_time": "2025-02-25T08:47:00.078115",
     "status": "completed"
    },
    "tags": []
   },
   "outputs": [
    {
     "name": "stdout",
     "output_type": "stream",
     "text": [
      "/kaggle/input/lg-aimers/sample_submission.csv\n",
      "/kaggle/input/lg-aimers/train.csv\n",
      "/kaggle/input/lg-aimers/test.csv\n"
     ]
    }
   ],
   "source": [
    "# This Python 3 environment comes with many helpful analytics libraries installed\n",
    "# It is defined by the kaggle/python Docker image: https://github.com/kaggle/docker-python\n",
    "# For example, here's several helpful packages to load\n",
    "\n",
    "import numpy as np # linear algebra\n",
    "import pandas as pd # data processing, CSV file I/O (e.g. pd.read_csv)\n",
    "\n",
    "# Input data files are available in the read-only \"../input/\" directory\n",
    "# For example, running this (by clicking run or pressing Shift+Enter) will list all files under the input directory\n",
    "\n",
    "import os\n",
    "for dirname, _, filenames in os.walk('/kaggle/input'):\n",
    "    for filename in filenames:\n",
    "        print(os.path.join(dirname, filename))\n",
    "\n",
    "# You can write up to 20GB to the current directory (/kaggle/working/) that gets preserved as output when you create a version using \"Save & Run All\" \n",
    "# You can also write temporary files to /kaggle/temp/, but they won't be saved outside of the current session"
   ]
  },
  {
   "cell_type": "code",
   "execution_count": 2,
   "id": "c29481cc",
   "metadata": {
    "execution": {
     "iopub.execute_input": "2025-02-25T08:47:00.812494Z",
     "iopub.status.busy": "2025-02-25T08:47:00.812154Z",
     "iopub.status.idle": "2025-02-25T08:47:06.291272Z",
     "shell.execute_reply": "2025-02-25T08:47:06.290618Z"
    },
    "papermill": {
     "duration": 5.485694,
     "end_time": "2025-02-25T08:47:06.292912",
     "exception": false,
     "start_time": "2025-02-25T08:47:00.807218",
     "status": "completed"
    },
    "tags": []
   },
   "outputs": [],
   "source": [
    "data_path = '/kaggle/input/lg-aimers/'\n",
    "\n",
    "train = pd.read_csv(data_path + 'train.csv', index_col= 'ID')\n",
    "test = pd.read_csv(data_path + 'test.csv', index_col= 'ID')\n",
    "submission = pd.read_csv(data_path + 'sample_submission.csv', index_col= 'ID')"
   ]
  },
  {
   "cell_type": "markdown",
   "id": "702a37b1",
   "metadata": {
    "papermill": {
     "duration": 0.004139,
     "end_time": "2025-02-25T08:47:06.301817",
     "exception": false,
     "start_time": "2025-02-25T08:47:06.297678",
     "status": "completed"
    },
    "tags": []
   },
   "source": [
    "## 1. 데이터 전처리"
   ]
  },
  {
   "cell_type": "code",
   "execution_count": 3,
   "id": "cf56d80e",
   "metadata": {
    "execution": {
     "iopub.execute_input": "2025-02-25T08:47:06.311210Z",
     "iopub.status.busy": "2025-02-25T08:47:06.310949Z",
     "iopub.status.idle": "2025-02-25T08:47:06.522418Z",
     "shell.execute_reply": "2025-02-25T08:47:06.521747Z"
    },
    "papermill": {
     "duration": 0.217883,
     "end_time": "2025-02-25T08:47:06.523970",
     "exception": false,
     "start_time": "2025-02-25T08:47:06.306087",
     "status": "completed"
    },
    "tags": []
   },
   "outputs": [],
   "source": [
    "all_data = pd.concat([train, test], ignore_index= True)\n",
    "all_data = all_data.drop('임신 성공 여부', axis= 1)"
   ]
  },
  {
   "cell_type": "code",
   "execution_count": 4,
   "id": "a580702c",
   "metadata": {
    "execution": {
     "iopub.execute_input": "2025-02-25T08:47:06.533929Z",
     "iopub.status.busy": "2025-02-25T08:47:06.533702Z",
     "iopub.status.idle": "2025-02-25T08:47:06.537858Z",
     "shell.execute_reply": "2025-02-25T08:47:06.537202Z"
    },
    "papermill": {
     "duration": 0.01036,
     "end_time": "2025-02-25T08:47:06.539054",
     "exception": false,
     "start_time": "2025-02-25T08:47:06.528694",
     "status": "completed"
    },
    "tags": []
   },
   "outputs": [],
   "source": [
    "categorical_columns = [\n",
    "    \"시술 시기 코드\",\n",
    "    \"시술 당시 나이\",\n",
    "    \"시술 유형\",\n",
    "    \"특정 시술 유형\",\n",
    "    \"배란 자극 여부\",\n",
    "    \"배란 유도 유형\",\n",
    "    \"단일 배아 이식 여부\",\n",
    "    \"착상 전 유전 검사 사용 여부\",\n",
    "    \"착상 전 유전 진단 사용 여부\",\n",
    "    \"남성 주 불임 원인\",\n",
    "    \"남성 부 불임 원인\",\n",
    "    \"여성 주 불임 원인\",\n",
    "    \"여성 부 불임 원인\",\n",
    "    \"부부 주 불임 원인\",\n",
    "    \"부부 부 불임 원인\",\n",
    "    \"불명확 불임 원인\",\n",
    "    \"불임 원인 - 난관 질환\",\n",
    "    \"불임 원인 - 남성 요인\",\n",
    "    \"불임 원인 - 배란 장애\",\n",
    "    \"불임 원인 - 여성 요인\",\n",
    "    \"불임 원인 - 자궁경부 문제\",\n",
    "    \"불임 원인 - 자궁내막증\",\n",
    "    \"불임 원인 - 정자 농도\",\n",
    "    \"불임 원인 - 정자 면역학적 요인\",\n",
    "    \"불임 원인 - 정자 운동성\",\n",
    "    \"불임 원인 - 정자 형태\",\n",
    "    \"배아 생성 주요 이유\",\n",
    "    \"총 시술 횟수\",\n",
    "    \"클리닉 내 총 시술 횟수\",\n",
    "    \"IVF 시술 횟수\",\n",
    "    \"DI 시술 횟수\",\n",
    "    \"총 임신 횟수\",\n",
    "    \"IVF 임신 횟수\",\n",
    "    \"DI 임신 횟수\",\n",
    "    \"총 출산 횟수\",\n",
    "    \"IVF 출산 횟수\",\n",
    "    \"DI 출산 횟수\",\n",
    "    \"난자 출처\",\n",
    "    \"정자 출처\",\n",
    "    \"난자 기증자 나이\",\n",
    "    \"정자 기증자 나이\",\n",
    "    \"동결 배아 사용 여부\",\n",
    "    \"신선 배아 사용 여부\",\n",
    "    \"기증 배아 사용 여부\",\n",
    "    \"대리모 여부\",\n",
    "    \"PGD 시술 여부\",\n",
    "    \"PGS 시술 여부\"\n",
    "]"
   ]
  },
  {
   "cell_type": "code",
   "execution_count": 5,
   "id": "ed8c096a",
   "metadata": {
    "execution": {
     "iopub.execute_input": "2025-02-25T08:47:06.548083Z",
     "iopub.status.busy": "2025-02-25T08:47:06.547885Z",
     "iopub.status.idle": "2025-02-25T08:47:09.192105Z",
     "shell.execute_reply": "2025-02-25T08:47:09.191394Z"
    },
    "papermill": {
     "duration": 2.650286,
     "end_time": "2025-02-25T08:47:09.193525",
     "exception": false,
     "start_time": "2025-02-25T08:47:06.543239",
     "status": "completed"
    },
    "tags": []
   },
   "outputs": [],
   "source": [
    "# 카테고리형 컬럼들을 문자열로 변환\n",
    "for col in categorical_columns:\n",
    "    all_data[col] = all_data[col].astype(str)"
   ]
  },
  {
   "cell_type": "code",
   "execution_count": 6,
   "id": "572f5b01",
   "metadata": {
    "execution": {
     "iopub.execute_input": "2025-02-25T08:47:09.203394Z",
     "iopub.status.busy": "2025-02-25T08:47:09.203167Z",
     "iopub.status.idle": "2025-02-25T08:47:09.206632Z",
     "shell.execute_reply": "2025-02-25T08:47:09.205970Z"
    },
    "papermill": {
     "duration": 0.009552,
     "end_time": "2025-02-25T08:47:09.207832",
     "exception": false,
     "start_time": "2025-02-25T08:47:09.198280",
     "status": "completed"
    },
    "tags": []
   },
   "outputs": [],
   "source": [
    "num_train = len(train) \n",
    "\n",
    "train_data = all_data[:num_train]"
   ]
  },
  {
   "cell_type": "code",
   "execution_count": 7,
   "id": "e76add52",
   "metadata": {
    "execution": {
     "iopub.execute_input": "2025-02-25T08:47:09.217030Z",
     "iopub.status.busy": "2025-02-25T08:47:09.216826Z",
     "iopub.status.idle": "2025-02-25T08:47:14.279762Z",
     "shell.execute_reply": "2025-02-25T08:47:14.278916Z"
    },
    "papermill": {
     "duration": 5.06907,
     "end_time": "2025-02-25T08:47:14.281116",
     "exception": false,
     "start_time": "2025-02-25T08:47:09.212046",
     "status": "completed"
    },
    "tags": []
   },
   "outputs": [
    {
     "data": {
      "text/plain": [
       "<346418x203 sparse matrix of type '<class 'numpy.float64'>'\n",
       "\twith 16281643 stored elements in Compressed Sparse Row format>"
      ]
     },
     "execution_count": 7,
     "metadata": {},
     "output_type": "execute_result"
    }
   ],
   "source": [
    "from sklearn.preprocessing import OneHotEncoder\n",
    "\n",
    "onehot_encoder = OneHotEncoder(handle_unknown='ignore')\n",
    "\n",
    "onehot_encoder.fit(train_data[categorical_columns])\n",
    "\n",
    "encoded_cat_matrix = onehot_encoder.transform(all_data[categorical_columns])\n",
    "\n",
    "encoded_cat_matrix"
   ]
  },
  {
   "cell_type": "code",
   "execution_count": 8,
   "id": "73927a75",
   "metadata": {
    "execution": {
     "iopub.execute_input": "2025-02-25T08:47:14.291314Z",
     "iopub.status.busy": "2025-02-25T08:47:14.290958Z",
     "iopub.status.idle": "2025-02-25T08:47:14.294443Z",
     "shell.execute_reply": "2025-02-25T08:47:14.293861Z"
    },
    "papermill": {
     "duration": 0.009842,
     "end_time": "2025-02-25T08:47:14.295751",
     "exception": false,
     "start_time": "2025-02-25T08:47:14.285909",
     "status": "completed"
    },
    "tags": []
   },
   "outputs": [],
   "source": [
    "numeric_columns = [\n",
    "    \"임신 시도 또는 마지막 임신 경과 연수\",\n",
    "    \"총 생성 배아 수\",\n",
    "    \"미세주입된 난자 수\",\n",
    "    \"미세주입에서 생성된 배아 수\",\n",
    "    \"이식된 배아 수\",\n",
    "    \"미세주입 배아 이식 수\",\n",
    "    \"저장된 배아 수\",\n",
    "    \"미세주입 후 저장된 배아 수\",\n",
    "    \"해동된 배아 수\",\n",
    "    \"해동 난자 수\",\n",
    "    \"수집된 신선 난자 수\",\n",
    "    \"저장된 신선 난자 수\",\n",
    "    \"혼합된 난자 수\",\n",
    "    \"파트너 정자와 혼합된 난자 수\",\n",
    "    \"기증자 정자와 혼합된 난자 수\",\n",
    "    \"난자 채취 경과일\",\n",
    "    \"난자 해동 경과일\",\n",
    "    \"난자 혼합 경과일\",\n",
    "    \"배아 이식 경과일\",\n",
    "    \"배아 해동 경과일\"\n",
    "]"
   ]
  },
  {
   "cell_type": "code",
   "execution_count": 9,
   "id": "500a54a2",
   "metadata": {
    "execution": {
     "iopub.execute_input": "2025-02-25T08:47:14.305315Z",
     "iopub.status.busy": "2025-02-25T08:47:14.305105Z",
     "iopub.status.idle": "2025-02-25T08:47:14.310001Z",
     "shell.execute_reply": "2025-02-25T08:47:14.309203Z"
    },
    "papermill": {
     "duration": 0.010924,
     "end_time": "2025-02-25T08:47:14.311150",
     "exception": false,
     "start_time": "2025-02-25T08:47:14.300226",
     "status": "completed"
    },
    "tags": []
   },
   "outputs": [
    {
     "data": {
      "text/plain": [
       "Index(['시술 시기 코드', '시술 당시 나이', '임신 시도 또는 마지막 임신 경과 연수', '시술 유형', '특정 시술 유형',\n",
       "       '배란 자극 여부', '배란 유도 유형', '단일 배아 이식 여부', '착상 전 유전 검사 사용 여부',\n",
       "       '착상 전 유전 진단 사용 여부', '남성 주 불임 원인', '남성 부 불임 원인', '여성 주 불임 원인',\n",
       "       '여성 부 불임 원인', '부부 주 불임 원인', '부부 부 불임 원인', '불명확 불임 원인', '불임 원인 - 난관 질환',\n",
       "       '불임 원인 - 남성 요인', '불임 원인 - 배란 장애', '불임 원인 - 여성 요인', '불임 원인 - 자궁경부 문제',\n",
       "       '불임 원인 - 자궁내막증', '불임 원인 - 정자 농도', '불임 원인 - 정자 면역학적 요인',\n",
       "       '불임 원인 - 정자 운동성', '불임 원인 - 정자 형태', '배아 생성 주요 이유', '총 시술 횟수',\n",
       "       '클리닉 내 총 시술 횟수', 'IVF 시술 횟수', 'DI 시술 횟수', '총 임신 횟수', 'IVF 임신 횟수',\n",
       "       'DI 임신 횟수', '총 출산 횟수', 'IVF 출산 횟수', 'DI 출산 횟수', '총 생성 배아 수',\n",
       "       '미세주입된 난자 수', '미세주입에서 생성된 배아 수', '이식된 배아 수', '미세주입 배아 이식 수', '저장된 배아 수',\n",
       "       '미세주입 후 저장된 배아 수', '해동된 배아 수', '해동 난자 수', '수집된 신선 난자 수', '저장된 신선 난자 수',\n",
       "       '혼합된 난자 수', '파트너 정자와 혼합된 난자 수', '기증자 정자와 혼합된 난자 수', '난자 출처', '정자 출처',\n",
       "       '난자 기증자 나이', '정자 기증자 나이', '동결 배아 사용 여부', '신선 배아 사용 여부', '기증 배아 사용 여부',\n",
       "       '대리모 여부', 'PGD 시술 여부', 'PGS 시술 여부', '난자 채취 경과일', '난자 해동 경과일',\n",
       "       '난자 혼합 경과일', '배아 이식 경과일', '배아 해동 경과일'],\n",
       "      dtype='object')"
      ]
     },
     "execution_count": 9,
     "metadata": {},
     "output_type": "execute_result"
    }
   ],
   "source": [
    "all_columns = all_data.columns\n",
    "all_columns"
   ]
  },
  {
   "cell_type": "code",
   "execution_count": 10,
   "id": "ef0cf5d6",
   "metadata": {
    "execution": {
     "iopub.execute_input": "2025-02-25T08:47:14.320839Z",
     "iopub.status.busy": "2025-02-25T08:47:14.320600Z",
     "iopub.status.idle": "2025-02-25T08:47:14.324784Z",
     "shell.execute_reply": "2025-02-25T08:47:14.324014Z"
    },
    "papermill": {
     "duration": 0.010377,
     "end_time": "2025-02-25T08:47:14.326029",
     "exception": false,
     "start_time": "2025-02-25T08:47:14.315652",
     "status": "completed"
    },
    "tags": []
   },
   "outputs": [
    {
     "data": {
      "text/plain": [
       "67"
      ]
     },
     "execution_count": 10,
     "metadata": {},
     "output_type": "execute_result"
    }
   ],
   "source": [
    "len(all_columns)"
   ]
  },
  {
   "cell_type": "code",
   "execution_count": 11,
   "id": "00c4909f",
   "metadata": {
    "execution": {
     "iopub.execute_input": "2025-02-25T08:47:14.335727Z",
     "iopub.status.busy": "2025-02-25T08:47:14.335470Z",
     "iopub.status.idle": "2025-02-25T08:47:14.785683Z",
     "shell.execute_reply": "2025-02-25T08:47:14.784954Z"
    },
    "papermill": {
     "duration": 0.456645,
     "end_time": "2025-02-25T08:47:14.787232",
     "exception": false,
     "start_time": "2025-02-25T08:47:14.330587",
     "status": "completed"
    },
    "tags": []
   },
   "outputs": [],
   "source": [
    "from scipy import sparse\n",
    "\n",
    "extracted_data_sprs = sparse.hstack([sparse.csr_matrix(all_data[numeric_columns]),\n",
    "                               encoded_cat_matrix],\n",
    "                              format='csr')"
   ]
  },
  {
   "cell_type": "markdown",
   "id": "937dadfe",
   "metadata": {
    "papermill": {
     "duration": 0.004381,
     "end_time": "2025-02-25T08:47:14.796553",
     "exception": false,
     "start_time": "2025-02-25T08:47:14.792172",
     "status": "completed"
    },
    "tags": []
   },
   "source": [
    "## 2. 데이터 나누기"
   ]
  },
  {
   "cell_type": "code",
   "execution_count": 12,
   "id": "23998ead",
   "metadata": {
    "execution": {
     "iopub.execute_input": "2025-02-25T08:47:14.806371Z",
     "iopub.status.busy": "2025-02-25T08:47:14.806148Z",
     "iopub.status.idle": "2025-02-25T08:47:15.075181Z",
     "shell.execute_reply": "2025-02-25T08:47:15.074005Z"
    },
    "papermill": {
     "duration": 0.276943,
     "end_time": "2025-02-25T08:47:15.078082",
     "exception": false,
     "start_time": "2025-02-25T08:47:14.801139",
     "status": "completed"
    },
    "tags": []
   },
   "outputs": [],
   "source": [
    "num_train = len(train) \n",
    "\n",
    "X = extracted_data_sprs[:num_train]\n",
    "X_test = extracted_data_sprs[num_train:]\n",
    "\n",
    "y = train['임신 성공 여부'].values"
   ]
  },
  {
   "cell_type": "markdown",
   "id": "8a0bc5e7",
   "metadata": {
    "papermill": {
     "duration": 0.00444,
     "end_time": "2025-02-25T08:47:15.087664",
     "exception": false,
     "start_time": "2025-02-25T08:47:15.083224",
     "status": "completed"
    },
    "tags": []
   },
   "source": [
    "## 3. Neural Network 훈련"
   ]
  },
  {
   "cell_type": "code",
   "execution_count": 13,
   "id": "7309eb3a",
   "metadata": {
    "execution": {
     "iopub.execute_input": "2025-02-25T08:47:15.097608Z",
     "iopub.status.busy": "2025-02-25T08:47:15.097330Z",
     "iopub.status.idle": "2025-02-25T08:47:18.293246Z",
     "shell.execute_reply": "2025-02-25T08:47:18.292308Z"
    },
    "papermill": {
     "duration": 3.202562,
     "end_time": "2025-02-25T08:47:18.294791",
     "exception": false,
     "start_time": "2025-02-25T08:47:15.092229",
     "status": "completed"
    },
    "tags": []
   },
   "outputs": [],
   "source": [
    "import torch\n",
    "import torch.nn as nn\n",
    "import torch.optim as optim\n",
    "import numpy as np\n",
    "from sklearn.model_selection import StratifiedKFold\n",
    "from sklearn.metrics import roc_auc_score\n",
    "from torch.utils.data import DataLoader, TensorDataset"
   ]
  },
  {
   "cell_type": "code",
   "execution_count": 14,
   "id": "068b0c53",
   "metadata": {
    "execution": {
     "iopub.execute_input": "2025-02-25T08:47:18.305284Z",
     "iopub.status.busy": "2025-02-25T08:47:18.304916Z",
     "iopub.status.idle": "2025-02-25T08:47:18.360087Z",
     "shell.execute_reply": "2025-02-25T08:47:18.359314Z"
    },
    "papermill": {
     "duration": 0.06166,
     "end_time": "2025-02-25T08:47:18.361399",
     "exception": false,
     "start_time": "2025-02-25T08:47:18.299739",
     "status": "completed"
    },
    "tags": []
   },
   "outputs": [
    {
     "name": "stdout",
     "output_type": "stream",
     "text": [
      "Using device: cuda\n"
     ]
    }
   ],
   "source": [
    "# GPU 사용 여부 확인\n",
    "device = torch.device(\"cuda\" if torch.cuda.is_available() else \"cpu\")\n",
    "print(f\"Using device: {device}\")"
   ]
  },
  {
   "cell_type": "code",
   "execution_count": 15,
   "id": "39e1ae08",
   "metadata": {
    "execution": {
     "iopub.execute_input": "2025-02-25T08:47:18.371696Z",
     "iopub.status.busy": "2025-02-25T08:47:18.371425Z",
     "iopub.status.idle": "2025-02-25T08:47:18.376056Z",
     "shell.execute_reply": "2025-02-25T08:47:18.375232Z"
    },
    "papermill": {
     "duration": 0.010855,
     "end_time": "2025-02-25T08:47:18.377227",
     "exception": false,
     "start_time": "2025-02-25T08:47:18.366372",
     "status": "completed"
    },
    "tags": []
   },
   "outputs": [],
   "source": [
    "# PyTorch Dataset 생성\n",
    "class CustomDataset(torch.utils.data.Dataset):\n",
    "    def __init__(self, X, y=None):\n",
    "        self.X = torch.tensor(X, dtype=torch.float32)\n",
    "        self.y = torch.tensor(y, dtype=torch.float32) if y is not None else None\n",
    "\n",
    "    def __len__(self):\n",
    "        return len(self.X)\n",
    "\n",
    "    def __getitem__(self, idx):\n",
    "        if self.y is not None:\n",
    "            return self.X[idx], self.y[idx]\n",
    "        return self.X[idx]"
   ]
  },
  {
   "cell_type": "code",
   "execution_count": 16,
   "id": "cfac2b4f",
   "metadata": {
    "execution": {
     "iopub.execute_input": "2025-02-25T08:47:18.387104Z",
     "iopub.status.busy": "2025-02-25T08:47:18.386866Z",
     "iopub.status.idle": "2025-02-25T08:47:18.391698Z",
     "shell.execute_reply": "2025-02-25T08:47:18.390896Z"
    },
    "papermill": {
     "duration": 0.011042,
     "end_time": "2025-02-25T08:47:18.392864",
     "exception": false,
     "start_time": "2025-02-25T08:47:18.381822",
     "status": "completed"
    },
    "tags": []
   },
   "outputs": [],
   "source": [
    "class NeuralNetwork(nn.Module):\n",
    "    def __init__(self, input_dim):\n",
    "        super(NeuralNetwork, self).__init__()\n",
    "        self.model = nn.Sequential(\n",
    "            nn.Linear(input_dim, 512),\n",
    "            nn.BatchNorm1d(512),\n",
    "            nn.ReLU(),\n",
    "            nn.Dropout(0.5),  # Dropout 증가\n",
    "            \n",
    "            nn.Linear(512, 256),\n",
    "            nn.BatchNorm1d(256),\n",
    "            nn.ReLU(),\n",
    "            nn.Dropout(0.5),\n",
    "\n",
    "            nn.Linear(256, 128),\n",
    "            nn.BatchNorm1d(128),\n",
    "            nn.ReLU(),\n",
    "            \n",
    "            nn.Linear(128, 1),  # 이진 분류: 출력층은 1개 뉴런\n",
    "            nn.Sigmoid()        # 이진 분류 확률 출력\n",
    "        )\n",
    "        \n",
    "    def forward(self, x):  \n",
    "        return self.model(x)"
   ]
  },
  {
   "cell_type": "code",
   "execution_count": 17,
   "id": "d95e3b72",
   "metadata": {
    "execution": {
     "iopub.execute_input": "2025-02-25T08:47:18.402781Z",
     "iopub.status.busy": "2025-02-25T08:47:18.402576Z",
     "iopub.status.idle": "2025-02-25T08:47:19.557134Z",
     "shell.execute_reply": "2025-02-25T08:47:19.555971Z"
    },
    "papermill": {
     "duration": 1.161372,
     "end_time": "2025-02-25T08:47:19.558885",
     "exception": false,
     "start_time": "2025-02-25T08:47:18.397513",
     "status": "completed"
    },
    "tags": []
   },
   "outputs": [],
   "source": [
    "# 데이터 변환\n",
    "X_tensor = np.array(X.todense())  # CSR Matrix → Dense 변환 (필요 시)\n",
    "y_tensor = np.array(y)\n",
    "\n",
    "X_test_tensor = np.array(X_test.todense())\n",
    "y_tensor = y_tensor.astype(int)\n",
    "\n",
    "# K-Fold 설정\n",
    "n_splits = 10\n",
    "folds = StratifiedKFold(n_splits=n_splits, shuffle=True, random_state=1991)\n",
    "\n",
    "# OOF 예측 저장용\n",
    "oof_val_preds = np.zeros(X_tensor.shape[0])\n",
    "oof_test_preds = np.zeros(X_test_tensor.shape[0])"
   ]
  },
  {
   "cell_type": "code",
   "execution_count": 18,
   "id": "acff592b",
   "metadata": {
    "execution": {
     "iopub.execute_input": "2025-02-25T08:47:19.576259Z",
     "iopub.status.busy": "2025-02-25T08:47:19.575991Z",
     "iopub.status.idle": "2025-02-25T09:12:02.116109Z",
     "shell.execute_reply": "2025-02-25T09:12:02.115380Z"
    },
    "papermill": {
     "duration": 1482.552081,
     "end_time": "2025-02-25T09:12:02.117742",
     "exception": false,
     "start_time": "2025-02-25T08:47:19.565661",
     "status": "completed"
    },
    "tags": []
   },
   "outputs": [
    {
     "name": "stdout",
     "output_type": "stream",
     "text": [
      "\n",
      "#### Fold 1/10 ####\n",
      "Epoch 1: Train Loss = 0.5553628603177788, Valid Loss = 0.5273491980937811, AUC = 0.7091527027936312, LR = 0.00012071061595315047\n",
      "Epoch 10: Train Loss = 0.49292685869520747, Valid Loss = 0.4913887106455289, AUC = 0.7342391287558765, LR = 0.0001904848026045092\n",
      "Epoch 20: Train Loss = 0.48963362268641986, Valid Loss = 0.48858369428377885, AUC = 0.7372822519242479, LR = 0.0003950390612538755\n",
      "Epoch 30: Train Loss = 0.48818285829198044, Valid Loss = 0.4882920957528628, AUC = 0.7375524326954501, LR = 0.000713637822416415\n",
      "Epoch 40: Train Loss = 0.4871968649393689, Valid Loss = 0.49051056458399844, AUC = 0.7369137889466968, LR = 0.0011150916822163179\n",
      "Epoch 50: Train Loss = 0.4862779736255122, Valid Loss = 0.4913030702334184, AUC = 0.7347825834559552, LR = 0.0015601000905663418\n",
      "Epoch 60: Train Loss = 0.48489252748215095, Valid Loss = 0.48952448482696825, AUC = 0.7352592037144828, LR = 0.0020050987004944063\n",
      "Early stopping at epoch 65\n",
      "Best iteration: [45]  Valid Loss: 0.4880538766200726  AUC: 0.7382670235903264\n",
      "Fold 1 Valid Preds Min/Max: 1.3611406757263467e-07, 0.6491929292678833\n",
      "Fold 1 Valid AUC: 0.7376928318766995\n",
      "\n",
      "#### Fold 2/10 ####\n",
      "Epoch 1: Train Loss = 0.554260916018908, Valid Loss = 0.5307188125757071, AUC = 0.7143147204928679, LR = 0.00012071061595315047\n",
      "Epoch 10: Train Loss = 0.4937530779733067, Valid Loss = 0.49869271425100475, AUC = 0.7355433007948606, LR = 0.0001904848026045092\n",
      "Epoch 20: Train Loss = 0.49014257329755123, Valid Loss = 0.49696379326857054, AUC = 0.7378904406644913, LR = 0.0003950390612538755\n",
      "Epoch 30: Train Loss = 0.4883004527176376, Valid Loss = 0.4974955056722348, AUC = 0.7382836169431388, LR = 0.000713637822416415\n",
      "Epoch 40: Train Loss = 0.48729873178279504, Valid Loss = 0.49662480102135587, AUC = 0.7381156914955087, LR = 0.0011150916822163179\n",
      "Epoch 50: Train Loss = 0.486421226268321, Valid Loss = 0.4972674571550809, AUC = 0.7371355326784232, LR = 0.0015601000905663418\n",
      "Epoch 60: Train Loss = 0.4854204421286034, Valid Loss = 0.49696466899835146, AUC = 0.7365024039013317, LR = 0.0020050987004944063\n",
      "Early stopping at epoch 62\n",
      "Best iteration: [42]  Valid Loss: 0.4956234876926129  AUC: 0.7388678831281139\n",
      "Fold 2 Valid Preds Min/Max: 6.688529907705743e-08, 0.6472271084785461\n",
      "Fold 2 Valid AUC: 0.7375060250228893\n",
      "\n",
      "#### Fold 3/10 ####\n",
      "Epoch 1: Train Loss = 0.570684538478345, Valid Loss = 0.5304544568061829, AUC = 0.7011296559509593, LR = 0.00012071061595315047\n",
      "Epoch 10: Train Loss = 0.49263387153633925, Valid Loss = 0.49383122072770047, AUC = 0.7282333672633945, LR = 0.0001904848026045092\n",
      "Epoch 20: Train Loss = 0.4892258681027235, Valid Loss = 0.49188069999217987, AUC = 0.7309647718661013, LR = 0.0003950390612538755\n",
      "Epoch 30: Train Loss = 0.4883053010016416, Valid Loss = 0.4915935213749225, AUC = 0.7318357761637698, LR = 0.000713637822416415\n",
      "Epoch 40: Train Loss = 0.48737592230328414, Valid Loss = 0.4914521678135945, AUC = 0.7312051175209676, LR = 0.0011150916822163179\n",
      "Epoch 50: Train Loss = 0.4864066608447944, Valid Loss = 0.49078706021492297, AUC = 0.7325321475269674, LR = 0.0015601000905663418\n",
      "Epoch 60: Train Loss = 0.48513800169514343, Valid Loss = 0.4911750085078753, AUC = 0.7313778204148195, LR = 0.0020050987004944063\n",
      "Epoch 70: Train Loss = 0.483925224141737, Valid Loss = 0.4922219835794889, AUC = 0.7300269349479254, LR = 0.002406524124250426\n",
      "Early stopping at epoch 75\n",
      "Best iteration: [55]  Valid Loss: 0.4905223766198525  AUC: 0.7328179722459525\n",
      "Fold 3 Valid Preds Min/Max: 1.03598708278696e-07, 0.7489328980445862\n",
      "Fold 3 Valid AUC: 0.7304198928063383\n",
      "\n",
      "#### Fold 4/10 ####\n",
      "Epoch 1: Train Loss = 0.6003461308711397, Valid Loss = 0.5471897079394414, AUC = 0.7060993789248041, LR = 0.00012071061595315047\n",
      "Epoch 10: Train Loss = 0.49280287140766077, Valid Loss = 0.4945812775538518, AUC = 0.7330170953958401, LR = 0.0001904848026045092\n",
      "Epoch 20: Train Loss = 0.4894305442550541, Valid Loss = 0.4921249563877399, AUC = 0.7368020329603252, LR = 0.0003950390612538755\n",
      "Epoch 30: Train Loss = 0.48818242444401294, Valid Loss = 0.49179656688983625, AUC = 0.7367966524094909, LR = 0.000713637822416415\n",
      "Epoch 40: Train Loss = 0.48735719299421904, Valid Loss = 0.4925088355174431, AUC = 0.7365165262407757, LR = 0.0011150916822163179\n",
      "Epoch 50: Train Loss = 0.48633010171156016, Valid Loss = 0.4914582921908452, AUC = 0.737197648383997, LR = 0.0015601000905663418\n",
      "Early stopping at epoch 59\n",
      "Best iteration: [39]  Valid Loss: 0.4913885948749689  AUC: 0.7378868473097993\n",
      "Fold 4 Valid Preds Min/Max: 3.7828567656106316e-07, 0.7128732800483704\n",
      "Fold 4 Valid AUC: 0.736095243008548\n",
      "\n",
      "#### Fold 5/10 ####\n",
      "Epoch 1: Train Loss = 0.6501284347171277, Valid Loss = 0.5509573461917731, AUC = 0.7078331552099664, LR = 0.00012071061595315047\n",
      "Epoch 10: Train Loss = 0.4931862951643699, Valid Loss = 0.4875643608661798, AUC = 0.7365217003055264, LR = 0.0001904848026045092\n",
      "Epoch 20: Train Loss = 0.4899152195559139, Valid Loss = 0.4844065377345452, AUC = 0.7391840842178588, LR = 0.0003950390612538755\n",
      "Epoch 30: Train Loss = 0.4886981308196498, Valid Loss = 0.4850316552015451, AUC = 0.7386061852620462, LR = 0.000713637822416415\n",
      "Epoch 40: Train Loss = 0.48775933392807447, Valid Loss = 0.4845445809456018, AUC = 0.7386472958471296, LR = 0.0011150916822163179\n",
      "Early stopping at epoch 41\n",
      "Best iteration: [21]  Valid Loss: 0.4844065377345452  AUC: 0.7395865970709028\n",
      "Fold 5 Valid Preds Min/Max: 2.1021568841206317e-07, 0.6390818357467651\n",
      "Fold 5 Valid AUC: 0.7380609309618862\n",
      "\n",
      "#### Fold 6/10 ####\n",
      "Epoch 1: Train Loss = 0.5821023694181864, Valid Loss = 0.5364446938037872, AUC = 0.7038509519596149, LR = 0.00012071061595315047\n",
      "Epoch 10: Train Loss = 0.49281181843407385, Valid Loss = 0.4904327839612961, AUC = 0.7313914185463704, LR = 0.0001904848026045092\n",
      "Epoch 20: Train Loss = 0.48911133870086837, Valid Loss = 0.4888794903571789, AUC = 0.7339454330027471, LR = 0.0003950390612538755\n",
      "Epoch 30: Train Loss = 0.48798757395913117, Valid Loss = 0.4878130073730762, AUC = 0.7344739698719014, LR = 0.000713637822416415\n",
      "Epoch 40: Train Loss = 0.487041429212663, Valid Loss = 0.4885537876532628, AUC = 0.7338584030893622, LR = 0.0011150916822163179\n",
      "Epoch 50: Train Loss = 0.4861248338644483, Valid Loss = 0.48865049389692455, AUC = 0.734262945065267, LR = 0.0015601000905663418\n",
      "Early stopping at epoch 53\n",
      "Best iteration: [33]  Valid Loss: 0.48704949021339417  AUC: 0.7355953918214801\n",
      "Fold 6 Valid Preds Min/Max: 2.958164824207188e-09, 0.6250227689743042\n",
      "Fold 6 Valid AUC: 0.7339716368809432\n",
      "\n",
      "#### Fold 7/10 ####\n",
      "Epoch 1: Train Loss = 0.6047358141008732, Valid Loss = 0.5503279475065378, AUC = 0.7056443352178947, LR = 0.00012071061595315047\n",
      "Epoch 10: Train Loss = 0.49355547459779586, Valid Loss = 0.4899353694457274, AUC = 0.7408524838322191, LR = 0.0001904848026045092\n",
      "Epoch 20: Train Loss = 0.48971900765874743, Valid Loss = 0.4881427907026731, AUC = 0.7433225458120349, LR = 0.0003950390612538755\n",
      "Epoch 30: Train Loss = 0.48852914888246923, Valid Loss = 0.48948464256066543, AUC = 0.742111469193277, LR = 0.000713637822416415\n",
      "Epoch 40: Train Loss = 0.48780362492641516, Valid Loss = 0.487995717387933, AUC = 0.7433201751929589, LR = 0.0011150916822163179\n",
      "Epoch 50: Train Loss = 0.48643569147164845, Valid Loss = 0.4884691547888976, AUC = 0.7419669170220425, LR = 0.0015601000905663418\n",
      "Early stopping at epoch 57\n",
      "Best iteration: [37]  Valid Loss: 0.4874284542523898  AUC: 0.7433225458120349\n",
      "Fold 7 Valid Preds Min/Max: 7.637936394466749e-10, 0.639685332775116\n",
      "Fold 7 Valid AUC: 0.74172742890295\n",
      "\n",
      "#### Fold 8/10 ####\n",
      "Epoch 1: Train Loss = 0.5873108664445118, Valid Loss = 0.5393317616902865, AUC = 0.7076205142526384, LR = 0.00012071061595315047\n",
      "Epoch 10: Train Loss = 0.49318756716968737, Valid Loss = 0.49718710436270785, AUC = 0.7352430272905669, LR = 0.0001904848026045092\n",
      "Epoch 20: Train Loss = 0.48959964764329184, Valid Loss = 0.49386439529749065, AUC = 0.7378048365966022, LR = 0.0003950390612538755\n",
      "Epoch 30: Train Loss = 0.48824526593748446, Valid Loss = 0.4937582382789025, AUC = 0.7380515715830548, LR = 0.000713637822416415\n",
      "Epoch 40: Train Loss = 0.48753420125066704, Valid Loss = 0.4938376121796094, AUC = 0.7383815998789546, LR = 0.0011150916822163179\n",
      "Epoch 50: Train Loss = 0.48618831267926543, Valid Loss = 0.4945831298828125, AUC = 0.7367922725219851, LR = 0.0015601000905663418\n",
      "Early stopping at epoch 58\n",
      "Best iteration: [38]  Valid Loss: 0.4930905940440985  AUC: 0.7389075715556079\n",
      "Fold 8 Valid Preds Min/Max: 6.469628033300978e-08, 0.6669490337371826\n",
      "Fold 8 Valid AUC: 0.7378616679202491\n",
      "\n",
      "#### Fold 9/10 ####\n",
      "Epoch 1: Train Loss = 0.571969844071211, Valid Loss = 0.5345887977343339, AUC = 0.7086937375852228, LR = 0.00012071061595315047\n",
      "Epoch 10: Train Loss = 0.4934848780389381, Valid Loss = 0.49884586265453923, AUC = 0.7381433149383883, LR = 0.0001904848026045092\n",
      "Epoch 20: Train Loss = 0.49009871535596594, Valid Loss = 0.49612933282668775, AUC = 0.7405469439916663, LR = 0.0003950390612538755\n",
      "Epoch 30: Train Loss = 0.48868260038110006, Valid Loss = 0.4962181437474031, AUC = 0.7427495389880512, LR = 0.000713637822416415\n",
      "Epoch 40: Train Loss = 0.48792389562699645, Valid Loss = 0.49553655317196477, AUC = 0.7427835575703374, LR = 0.0011150916822163179\n",
      "Epoch 50: Train Loss = 0.48686381185476757, Valid Loss = 0.4955790054339629, AUC = 0.7428367078824537, LR = 0.0015601000905663418\n",
      "Epoch 60: Train Loss = 0.48582441511407365, Valid Loss = 0.4959814055607869, AUC = 0.743280045416773, LR = 0.0020050987004944063\n",
      "Epoch 70: Train Loss = 0.4843548463772884, Valid Loss = 0.49604815130050367, AUC = 0.7425901912947436, LR = 0.002406524124250426\n",
      "Early stopping at epoch 72\n",
      "Best iteration: [52]  Valid Loss: 0.49488312349869656  AUC: 0.743373393010141\n",
      "Fold 9 Valid Preds Min/Max: 2.465905346582531e-08, 0.7371248602867126\n",
      "Fold 9 Valid AUC: 0.7412409754860039\n",
      "\n",
      "#### Fold 10/10 ####\n",
      "Epoch 1: Train Loss = 0.5982137029677366, Valid Loss = 0.550571627341784, AUC = 0.7076520550019205, LR = 0.00012071061595315047\n",
      "Epoch 10: Train Loss = 0.49314228346390004, Valid Loss = 0.49005761513343227, AUC = 0.7355548252478095, LR = 0.0001904848026045092\n",
      "Epoch 20: Train Loss = 0.4896946904142346, Valid Loss = 0.48765895114495206, AUC = 0.7375866483112187, LR = 0.0003950390612538755\n",
      "Epoch 30: Train Loss = 0.48812009697466824, Valid Loss = 0.4879034127180393, AUC = 0.7373699530790553, LR = 0.000713637822416415\n",
      "Epoch 40: Train Loss = 0.4873176520377134, Valid Loss = 0.48760475103671735, AUC = 0.7374074025070398, LR = 0.0011150916822163179\n",
      "Early stopping at epoch 47\n",
      "Best iteration: [27]  Valid Loss: 0.48659186409069943  AUC: 0.738799464178143\n",
      "Fold 10 Valid Preds Min/Max: 3.702143303030425e-08, 0.6970654129981995\n",
      "Fold 10 Valid AUC: 0.7376526285567268\n"
     ]
    }
   ],
   "source": [
    "from torch.optim.lr_scheduler import OneCycleLR\n",
    "\n",
    "# K-Fold 훈련\n",
    "for fold_idx, (train_idx, valid_idx) in enumerate(folds.split(X_tensor, y_tensor)):\n",
    "    print(f\"\\n#### Fold {fold_idx+1}/{n_splits} ####\")\n",
    "\n",
    "    # 훈련/검증 데이터 설정\n",
    "    X_train, y_train = X_tensor[train_idx], y_tensor[train_idx]\n",
    "    X_valid, y_valid = X_tensor[valid_idx], y_tensor[valid_idx]\n",
    "\n",
    "    # NaN 값 0으로 채우기 (필요하면 평균값으로 대체 가능)\n",
    "    X_train = np.nan_to_num(X_train, nan=0.0)\n",
    "    X_valid = np.nan_to_num(X_valid, nan=0.0)\n",
    "\n",
    "    train_dataset = CustomDataset(X_train, y_train)\n",
    "    valid_dataset = CustomDataset(X_valid, y_valid)\n",
    "    \n",
    "    train_loader = DataLoader(train_dataset, batch_size=1024, shuffle=True)\n",
    "    valid_loader = DataLoader(valid_dataset, batch_size=1024, shuffle=False)\n",
    "\n",
    "    # 모델 초기화\n",
    "    model = NeuralNetwork(input_dim=X_train.shape[1]).to(device)\n",
    "\n",
    "    # 최적화 알고리즘 & 스케줄러 설정\n",
    "    optimizer = optim.AdamW(model.parameters(), lr=0.001, weight_decay=1e-4)\n",
    "\n",
    "    # `total_steps`를 정확하게 설정해야 ValueError 방지 가능!\n",
    "    total_steps = len(train_loader) * 1000\n",
    "    scheduler = OneCycleLR(optimizer, max_lr=0.003, total_steps=total_steps, pct_start=0.1)\n",
    "\n",
    "    criterion = nn.BCELoss()  \n",
    "    best_auc = 0.0  # AUC 기준 Early Stopping\n",
    "\n",
    "    # Early Stopping 설정\n",
    "    best_valid_loss = np.inf\n",
    "    patience, patience_counter = 20, 0\n",
    "\n",
    "    # 학습 진행\n",
    "    for epoch in range(1000):\n",
    "        model.train()\n",
    "        train_loss = 0.0\n",
    "\n",
    "        for X_batch, y_batch in train_loader:  \n",
    "            X_batch, y_batch = X_batch.to(device), y_batch.to(device).unsqueeze(1)\n",
    "    \n",
    "            optimizer.zero_grad()\n",
    "            preds = model(X_batch)\n",
    "    \n",
    "            loss = criterion(preds, y_batch)  # Loss 계산\n",
    "            loss.backward()  # 역전파\n",
    "            optimizer.step()  # 가중치 업데이트\n",
    "    \n",
    "            train_loss += loss.item()\n",
    "            scheduler.step() # lr update\n",
    "\n",
    "        # 검증 데이터 평가\n",
    "        model.eval()\n",
    "        valid_loss, valid_preds = 0.0, []\n",
    "        with torch.no_grad():\n",
    "            for X_batch, y_batch in valid_loader:\n",
    "                X_batch, y_batch = X_batch.to(device), y_batch.to(device).unsqueeze(1)\n",
    "                preds = model(X_batch)\n",
    "                loss = criterion(preds, y_batch)\n",
    "                valid_loss += loss.item()\n",
    "                valid_preds.extend(preds.cpu().numpy())\n",
    "\n",
    "        valid_loss /= len(valid_loader)\n",
    "        train_loss /= len(train_loader)\n",
    "        roc_auc = roc_auc_score(y_valid, np.array(valid_preds).flatten())\n",
    "\n",
    "        # 10 에폭마다 출력 (첫 에폭 포함)\n",
    "        if (epoch + 1) % 10 == 0 or epoch == 0:\n",
    "            current_lr = optimizer.param_groups[0]['lr']  # 현재 Learning Rate 확인\n",
    "            print(f\"Epoch {epoch+1}: Train Loss = {train_loss}, Valid Loss = {valid_loss:}, AUC = {roc_auc}, LR = {current_lr}\")\n",
    "\n",
    "        # AUC & Loss 기준 Best Model 저장\n",
    "        if roc_auc > best_auc or valid_loss < best_valid_loss:\n",
    "            best_auc = max(best_auc, roc_auc)\n",
    "            best_valid_loss = min(best_valid_loss, valid_loss)\n",
    "            patience_counter = 0\n",
    "            best_model_state = model.state_dict()\n",
    "            best_iteration = epoch + 1  # Best Iteration 저장\n",
    "        else:\n",
    "            patience_counter += 1\n",
    "\n",
    "        # Early Stopping\n",
    "        if patience_counter >= patience:\n",
    "            print(f\"Early stopping at epoch {epoch+1}\")\n",
    "            print(f\"Best iteration: [{best_iteration}]  Valid Loss: {best_valid_loss}  AUC: {best_auc}\")\n",
    "            break\n",
    "\n",
    "    # 최적 모델 로드\n",
    "    model.load_state_dict(best_model_state)\n",
    "\n",
    "    # 검증 데이터 예측 저장\n",
    "    model.eval()\n",
    "    valid_preds = []\n",
    "    with torch.no_grad():\n",
    "        for X_batch in valid_loader:\n",
    "            X_batch = X_batch[0].to(device)  \n",
    "            preds = model(X_batch)\n",
    "            valid_preds.extend(preds.cpu().numpy())\n",
    "\n",
    "    valid_preds = np.array(valid_preds).flatten()\n",
    "    \n",
    "    print(f\"Fold {fold_idx+1} Valid Preds Min/Max: {valid_preds.min()}, {valid_preds.max()}\")\n",
    "    print(f\"Fold {fold_idx+1} Valid AUC: {roc_auc_score(y_valid, valid_preds)}\")\n",
    "\n",
    "    # OOF 예측 저장\n",
    "    oof_val_preds[valid_idx] = valid_preds\n",
    "\n",
    "    # 테스트 데이터 예측 저장\n",
    "    test_dataset = CustomDataset(X_test_tensor)\n",
    "    test_loader = DataLoader(test_dataset, batch_size=1024, shuffle=False)\n",
    "\n",
    "    test_preds = []\n",
    "    with torch.no_grad():\n",
    "        for X_batch in test_loader:\n",
    "            X_batch = X_batch.to(device)\n",
    "            preds = model(X_batch)\n",
    "            test_preds.extend(preds.cpu().numpy())\n",
    "\n",
    "    oof_test_preds += np.array(test_preds).flatten() / n_splits"
   ]
  },
  {
   "cell_type": "markdown",
   "id": "661e47bc",
   "metadata": {
    "papermill": {
     "duration": 0.008266,
     "end_time": "2025-02-25T09:12:02.135203",
     "exception": false,
     "start_time": "2025-02-25T09:12:02.126937",
     "status": "completed"
    },
    "tags": []
   },
   "source": [
    "## 4. 최종 결과"
   ]
  },
  {
   "cell_type": "code",
   "execution_count": 19,
   "id": "428a225c",
   "metadata": {
    "execution": {
     "iopub.execute_input": "2025-02-25T09:12:02.153269Z",
     "iopub.status.busy": "2025-02-25T09:12:02.152908Z",
     "iopub.status.idle": "2025-02-25T09:12:02.331776Z",
     "shell.execute_reply": "2025-02-25T09:12:02.330664Z"
    },
    "papermill": {
     "duration": 0.189448,
     "end_time": "2025-02-25T09:12:02.333279",
     "exception": false,
     "start_time": "2025-02-25T09:12:02.143831",
     "status": "completed"
    },
    "tags": []
   },
   "outputs": [
    {
     "name": "stdout",
     "output_type": "stream",
     "text": [
      "NN OOF 검증 데이터 ROC-AUC: 0.7366092393919178\n"
     ]
    }
   ],
   "source": [
    "# 최종 성능 평가\n",
    "final_auc = roc_auc_score(y_tensor, oof_val_preds)\n",
    "print(f\"NN OOF 검증 데이터 ROC-AUC: {final_auc}\")"
   ]
  },
  {
   "cell_type": "code",
   "execution_count": 20,
   "id": "1fb672f8",
   "metadata": {
    "execution": {
     "iopub.execute_input": "2025-02-25T09:12:02.351996Z",
     "iopub.status.busy": "2025-02-25T09:12:02.351750Z",
     "iopub.status.idle": "2025-02-25T09:12:02.902810Z",
     "shell.execute_reply": "2025-02-25T09:12:02.901846Z"
    },
    "papermill": {
     "duration": 0.561555,
     "end_time": "2025-02-25T09:12:02.904297",
     "exception": false,
     "start_time": "2025-02-25T09:12:02.342742",
     "status": "completed"
    },
    "tags": []
   },
   "outputs": [],
   "source": [
    "# OOF 검증 예측 결과 저장\n",
    "oof_val_preds_df = pd.DataFrame({'ID': train.index, 'oof_val_preds': oof_val_preds})\n",
    "oof_val_preds_df.to_csv(\"lgbm_v2_oof_val_predictions.csv\", index=False)\n",
    "\n",
    "# OOF 테스트 예측 결과 저장\n",
    "oof_test_preds_df = pd.DataFrame({'ID': test.index, 'oof_test_preds': oof_test_preds})\n",
    "oof_test_preds_df.to_csv(\"lgbm_v2_oof_test_predictions.csv\", index=False)"
   ]
  },
  {
   "cell_type": "code",
   "execution_count": 21,
   "id": "fba5dd27",
   "metadata": {
    "execution": {
     "iopub.execute_input": "2025-02-25T09:12:02.923307Z",
     "iopub.status.busy": "2025-02-25T09:12:02.923063Z",
     "iopub.status.idle": "2025-02-25T09:12:02.971144Z",
     "shell.execute_reply": "2025-02-25T09:12:02.970495Z"
    },
    "papermill": {
     "duration": 0.059014,
     "end_time": "2025-02-25T09:12:02.972604",
     "exception": false,
     "start_time": "2025-02-25T09:12:02.913590",
     "status": "completed"
    },
    "tags": []
   },
   "outputs": [],
   "source": [
    "# 결과 저장\n",
    "submission[\"probability\"] = oof_test_preds\n",
    "submission.to_csv(\"nn_submission.csv\", index=False)"
   ]
  }
 ],
 "metadata": {
  "kaggle": {
   "accelerator": "gpu",
   "dataSources": [
    {
     "datasetId": 6583998,
     "sourceId": 10634121,
     "sourceType": "datasetVersion"
    }
   ],
   "dockerImageVersionId": 30919,
   "isGpuEnabled": true,
   "isInternetEnabled": true,
   "language": "python",
   "sourceType": "notebook"
  },
  "kernelspec": {
   "display_name": "Python 3",
   "language": "python",
   "name": "python3"
  },
  "language_info": {
   "codemirror_mode": {
    "name": "ipython",
    "version": 3
   },
   "file_extension": ".py",
   "mimetype": "text/x-python",
   "name": "python",
   "nbconvert_exporter": "python",
   "pygments_lexer": "ipython3",
   "version": "3.10.12"
  },
  "papermill": {
   "default_parameters": {},
   "duration": 1507.153082,
   "end_time": "2025-02-25T09:12:04.706477",
   "environment_variables": {},
   "exception": null,
   "input_path": "__notebook__.ipynb",
   "output_path": "__notebook__.ipynb",
   "parameters": {},
   "start_time": "2025-02-25T08:46:57.553395",
   "version": "2.6.0"
  }
 },
 "nbformat": 4,
 "nbformat_minor": 5
}

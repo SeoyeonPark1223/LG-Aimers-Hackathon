{
 "cells": [
  {
   "cell_type": "markdown",
   "id": "1a5cf65e",
   "metadata": {
    "papermill": {
     "duration": 0.005684,
     "end_time": "2025-02-13T12:43:07.809491",
     "exception": false,
     "start_time": "2025-02-13T12:43:07.803807",
     "status": "completed"
    },
    "tags": []
   },
   "source": [
    "# CatBoost - 피처 54"
   ]
  },
  {
   "cell_type": "code",
   "execution_count": 1,
   "id": "5b86c66e",
   "metadata": {
    "_cell_guid": "b1076dfc-b9ad-4769-8c92-a6c4dae69d19",
    "_uuid": "8f2839f25d086af736a60e9eeb907d3b93b6e0e5",
    "execution": {
     "iopub.execute_input": "2025-02-13T12:43:07.820396Z",
     "iopub.status.busy": "2025-02-13T12:43:07.820116Z",
     "iopub.status.idle": "2025-02-13T12:43:08.548606Z",
     "shell.execute_reply": "2025-02-13T12:43:08.547544Z"
    },
    "papermill": {
     "duration": 0.735637,
     "end_time": "2025-02-13T12:43:08.550207",
     "exception": false,
     "start_time": "2025-02-13T12:43:07.814570",
     "status": "completed"
    },
    "tags": []
   },
   "outputs": [
    {
     "name": "stdout",
     "output_type": "stream",
     "text": [
      "/kaggle/input/lg-aimers/sample_submission.csv\n",
      "/kaggle/input/lg-aimers/train.csv\n",
      "/kaggle/input/lg-aimers/test.csv\n"
     ]
    }
   ],
   "source": [
    "# This Python 3 environment comes with many helpful analytics libraries installed\n",
    "# It is defined by the kaggle/python Docker image: https://github.com/kaggle/docker-python\n",
    "# For example, here's several helpful packages to load\n",
    "\n",
    "import numpy as np # linear algebra\n",
    "import pandas as pd # data processing, CSV file I/O (e.g. pd.read_csv)\n",
    "\n",
    "# Input data files are available in the read-only \"./input/\" directory\n",
    "# For example, running this (by clicking run or pressing Shift+Enter) will list all files under the input directory\n",
    "\n",
    "import os\n",
    "for dirname, _, filenames in os.walk('/kaggle/input'):\n",
    "    for filename in filenames:\n",
    "        print(os.path.join(dirname, filename))\n",
    "\n",
    "# You can write up to 20GB to the current directory (/kaggle/working/) that gets preserved as output when you create a version using \"Save & Run All\" \n",
    "# You can also write temporary files to /kaggle/temp/, but they won't be saved outside of the current session"
   ]
  },
  {
   "cell_type": "code",
   "execution_count": 2,
   "id": "a1b69631",
   "metadata": {
    "execution": {
     "iopub.execute_input": "2025-02-13T12:43:08.561982Z",
     "iopub.status.busy": "2025-02-13T12:43:08.561583Z",
     "iopub.status.idle": "2025-02-13T12:43:12.711157Z",
     "shell.execute_reply": "2025-02-13T12:43:12.710197Z"
    },
    "papermill": {
     "duration": 4.157034,
     "end_time": "2025-02-13T12:43:12.712774",
     "exception": false,
     "start_time": "2025-02-13T12:43:08.555740",
     "status": "completed"
    },
    "tags": []
   },
   "outputs": [],
   "source": [
    "data_path = '/kaggle/input/lg-aimers/'\n",
    "\n",
    "train = pd.read_csv(data_path + 'train.csv', index_col= 'ID')\n",
    "test = pd.read_csv(data_path + 'test.csv', index_col= 'ID')\n",
    "submission = pd.read_csv(data_path + 'sample_submission.csv', index_col= 'ID')"
   ]
  },
  {
   "cell_type": "markdown",
   "id": "b1846ef6",
   "metadata": {
    "papermill": {
     "duration": 0.004783,
     "end_time": "2025-02-13T12:43:12.722996",
     "exception": false,
     "start_time": "2025-02-13T12:43:12.718213",
     "status": "completed"
    },
    "tags": []
   },
   "source": [
    "## 1. 데이터 통합"
   ]
  },
  {
   "cell_type": "code",
   "execution_count": 3,
   "id": "5a5785ab",
   "metadata": {
    "execution": {
     "iopub.execute_input": "2025-02-13T12:43:12.733646Z",
     "iopub.status.busy": "2025-02-13T12:43:12.733395Z",
     "iopub.status.idle": "2025-02-13T12:43:12.929967Z",
     "shell.execute_reply": "2025-02-13T12:43:12.929238Z"
    },
    "papermill": {
     "duration": 0.203648,
     "end_time": "2025-02-13T12:43:12.931604",
     "exception": false,
     "start_time": "2025-02-13T12:43:12.727956",
     "status": "completed"
    },
    "tags": []
   },
   "outputs": [],
   "source": [
    "all_data = pd.concat([train, test], ignore_index= True)\n",
    "all_data = all_data.drop('임신 성공 여부', axis= 1)"
   ]
  },
  {
   "cell_type": "code",
   "execution_count": 4,
   "id": "1a9562a0",
   "metadata": {
    "execution": {
     "iopub.execute_input": "2025-02-13T12:43:12.942997Z",
     "iopub.status.busy": "2025-02-13T12:43:12.942722Z",
     "iopub.status.idle": "2025-02-13T12:43:12.945659Z",
     "shell.execute_reply": "2025-02-13T12:43:12.945088Z"
    },
    "papermill": {
     "duration": 0.009782,
     "end_time": "2025-02-13T12:43:12.946902",
     "exception": false,
     "start_time": "2025-02-13T12:43:12.937120",
     "status": "completed"
    },
    "tags": []
   },
   "outputs": [],
   "source": [
    "drop_features = []"
   ]
  },
  {
   "cell_type": "code",
   "execution_count": 5,
   "id": "c3d1f5aa",
   "metadata": {
    "execution": {
     "iopub.execute_input": "2025-02-13T12:43:12.957706Z",
     "iopub.status.busy": "2025-02-13T12:43:12.957499Z",
     "iopub.status.idle": "2025-02-13T12:43:12.961016Z",
     "shell.execute_reply": "2025-02-13T12:43:12.960357Z"
    },
    "papermill": {
     "duration": 0.010422,
     "end_time": "2025-02-13T12:43:12.962418",
     "exception": false,
     "start_time": "2025-02-13T12:43:12.951996",
     "status": "completed"
    },
    "tags": []
   },
   "outputs": [
    {
     "name": "stdout",
     "output_type": "stream",
     "text": [
      "10\n"
     ]
    }
   ],
   "source": [
    "# \"특정 시술 유형\" 제거\n",
    "# \"주요 시술 유형\" 생성\n",
    "\n",
    "cat_features = [ \n",
    "    \"시술 당시 나이\", # FI top4\n",
    "    \"시술 유형\",\n",
    "    \"주요 시술 유형\",\n",
    "    \"배란 유도 유형\",\n",
    "    \"난자 출처\", # FI top\n",
    "        \n",
    "    \"난자 기증자 나이\", #FI top (알수 없음)\n",
    "\n",
    "    \"정자 출처\",\n",
    "    \"정자 기증자 나이\",\n",
    "    \"시술 시기 코드\", \n",
    "    \"배아 생성 주요 이유\"\n",
    "]\n",
    "\n",
    "print(len(cat_features))"
   ]
  },
  {
   "cell_type": "code",
   "execution_count": 6,
   "id": "6f90fdbc",
   "metadata": {
    "execution": {
     "iopub.execute_input": "2025-02-13T12:43:12.973462Z",
     "iopub.status.busy": "2025-02-13T12:43:12.973255Z",
     "iopub.status.idle": "2025-02-13T12:43:12.977490Z",
     "shell.execute_reply": "2025-02-13T12:43:12.976806Z"
    },
    "papermill": {
     "duration": 0.010879,
     "end_time": "2025-02-13T12:43:12.978550",
     "exception": false,
     "start_time": "2025-02-13T12:43:12.967671",
     "status": "completed"
    },
    "tags": []
   },
   "outputs": [
    {
     "name": "stdout",
     "output_type": "stream",
     "text": [
      "12\n"
     ]
    }
   ],
   "source": [
    "# \"IVF 시술 횟수\", \"IVF 임신 횟수\", \"IVF 출산 횟수\" 제거\n",
    "# \"DI 시술 횟수\", \"DI 임신 횟수\", \"DI 출산 횟수\" 제거\n",
    "# \"IVF 임신 성공률\", \"IVF 출산 성공률\", \"IVF 실패 횟수\", \"IVF 유산 횟수\", \"DI 임신 성공률\", \"DI 출산 성공률\", \"DI 실패 횟수\", \"DI 유산 횟수\" 생성 \n",
    "\n",
    "ord_features = [\n",
    "    \"IVF 임신 성공률\", \n",
    "    \"IVF 출산 성공률\", \n",
    "    \"IVF 실패 횟수\", \n",
    "    \"IVF 유산 횟수\", \n",
    "    \"DI 임신 성공률\", \n",
    "    \"DI 출산 성공률\", \n",
    "    \"DI 실패 횟수\", \n",
    "    \"DI 유산 횟수\",\n",
    "    \n",
    "    \"클리닉 내 총 시술 횟수\", #FI top\n",
    "    \"총 시술 횟수\",\n",
    "    \"총 임신 횟수\",\n",
    "    \"총 출산 횟수\"\n",
    "]\n",
    "\n",
    "print(len(ord_features))\n",
    "\n",
    "# drop_features = drop_features + [\"총 시술 횟수\", \"총 임신 횟수\", \"총 출산 횟수\"]"
   ]
  },
  {
   "cell_type": "code",
   "execution_count": 7,
   "id": "3b102148",
   "metadata": {
    "execution": {
     "iopub.execute_input": "2025-02-13T12:43:12.989450Z",
     "iopub.status.busy": "2025-02-13T12:43:12.989234Z",
     "iopub.status.idle": "2025-02-13T12:43:12.993579Z",
     "shell.execute_reply": "2025-02-13T12:43:12.992873Z"
    },
    "papermill": {
     "duration": 0.011201,
     "end_time": "2025-02-13T12:43:12.994811",
     "exception": false,
     "start_time": "2025-02-13T12:43:12.983610",
     "status": "completed"
    },
    "tags": []
   },
   "outputs": [
    {
     "name": "stdout",
     "output_type": "stream",
     "text": [
      "20\n"
     ]
    }
   ],
   "source": [
    "num_features = [\n",
    "    \"이식된 배아 수\", # FI top1\n",
    "    \"해동 난자 수\", #FI top\n",
    "    \"수집된 신선 난자 수\", #FI top7\n",
    "    \"파트너 정자와 혼합된 난자 수\", #FI top\n",
    "    \"배아 이식 경과일\", # FI top2,\n",
    "    \n",
    "    \n",
    "    \"저장된 배아 수\", # FI top3\n",
    "    \"미세주입 후 저장된 배아 수\", #FI top\n",
    "    \"총 생성 배아 수\", # FI top5\n",
    "    \"미세주입된 난자 수\", #FI top8\n",
    "    \"혼합된 난자 수\", #FI top\n",
    "    \"미세주입에서 생성된 배아 수\", #FI top\n",
    "    \"미세주입 배아 이식 수\", #FI top\n",
    "    \"해동된 배아 수\", #FI top\n",
    "    \"난자 채취 경과일\", #FI top\n",
    "    \"임신 시도 또는 마지막 임신 경과 연수\", #FI top\n",
    "\n",
    "    \"난자 해동 경과일\",\n",
    "    \"난자 혼합 경과일\",\n",
    "    \"배아 해동 경과일\",\n",
    "    \"저장된 신선 난자 수\",\n",
    "    \"기증자 정자와 혼합된 난자 수\"\n",
    "]\n",
    "\n",
    "print(len(num_features))\n",
    "\n",
    "# drop_features = drop_features + [\"난자 해동 경과일\", \"난자 혼합 경과일\", \"배아 해동 경과일\", \"저장된 신선 난자 수\", \"기증자 정자와 혼합된 난자 수\"]"
   ]
  },
  {
   "cell_type": "code",
   "execution_count": 8,
   "id": "533335db",
   "metadata": {
    "execution": {
     "iopub.execute_input": "2025-02-13T12:43:13.006126Z",
     "iopub.status.busy": "2025-02-13T12:43:13.005926Z",
     "iopub.status.idle": "2025-02-13T12:43:13.010122Z",
     "shell.execute_reply": "2025-02-13T12:43:13.009515Z"
    },
    "papermill": {
     "duration": 0.01113,
     "end_time": "2025-02-13T12:43:13.011346",
     "exception": false,
     "start_time": "2025-02-13T12:43:13.000216",
     "status": "completed"
    },
    "tags": []
   },
   "outputs": [
    {
     "name": "stdout",
     "output_type": "stream",
     "text": [
      "12\n"
     ]
    }
   ],
   "source": [
    "# \"남성 주 불임 원인\", \"남성 부 불임 원인\", \"불임 원인 - 남성 요인\", \"불임 원인 - 정자 농도\", \"불임 원인 - 정자 면역학적 요인\", \"불임 원인 - 정자 운동성\", \"불임 원인 - 정자 형태\",\n",
    "# \"여성 주 불임 원인\", \"여성 부 불임 원인\", \"불임 원인 - 난관 질환\", \"불임 원인 - 배란 장애\", \"불임 원인 - 여성 요인\", \"불임 원인 - 자궁경부 문제\", \"불임 원인 - 자궁내막증\" 제거\n",
    "# \"부부 주 불임 원인\", \"부부 부 불임 원인\" 제거\n",
    "# \"남성 불임 원인\", \"여성 불임 원인\", \"부부 불임 원인\" 생성\n",
    "# \"PGD 시술 여부\", \"PGS 시술 여부\" 제거 \n",
    "\n",
    "bin_features = [\n",
    "    '배란 자극 여부',\n",
    "    '단일 배아 이식 여부', #FI top\n",
    "    '착상 전 유전 진단 사용 여부',\n",
    "    '남성 불임 원인',\n",
    "    '여성 불임 원인',\n",
    "    '부부 불임 원인',\n",
    "    \"동결 배아 사용 여부\",\n",
    "    \"신선 배아 사용 여부\",\n",
    "\n",
    "    \"불명확 불임 원인\",\n",
    "    \"기증 배아 사용 여부\",\n",
    "    '착상 전 유전 검사 사용 여부',\n",
    "    \"대리모 여부\"\n",
    "]\n",
    "\n",
    "print(len(bin_features))\n",
    "\n",
    "drop_features = drop_features + [\"PGD 시술 여부\", \"PGS 시술 여부\"]"
   ]
  },
  {
   "cell_type": "code",
   "execution_count": 9,
   "id": "841b35b3",
   "metadata": {
    "execution": {
     "iopub.execute_input": "2025-02-13T12:43:13.022671Z",
     "iopub.status.busy": "2025-02-13T12:43:13.022461Z",
     "iopub.status.idle": "2025-02-13T12:43:13.124447Z",
     "shell.execute_reply": "2025-02-13T12:43:13.123730Z"
    },
    "papermill": {
     "duration": 0.109029,
     "end_time": "2025-02-13T12:43:13.125662",
     "exception": false,
     "start_time": "2025-02-13T12:43:13.016633",
     "status": "completed"
    },
    "tags": []
   },
   "outputs": [
    {
     "data": {
      "text/plain": [
       "주요 시술 유형\n",
       "ICSI     50.208130\n",
       "IVF      36.909168\n",
       "Other    10.511578\n",
       "IUI       2.371124\n",
       "Name: proportion, dtype: float64"
      ]
     },
     "execution_count": 9,
     "metadata": {},
     "output_type": "execute_result"
    }
   ],
   "source": [
    "# 시술 유형(cat feature) 피처 엔지니어링 \n",
    "\n",
    "all_data[\"주요 시술 유형\"] = all_data[\"특정 시술 유형\"].apply(lambda x: \n",
    "    \"ICSI\" if \"ICSI\" in str(x) else \n",
    "    \"IVF\" if \"IVF\" in str(x) else \n",
    "    \"IUI\" if \"IUI\" in str(x) else \n",
    "    \"Other\"\n",
    ")\n",
    "\n",
    "drop_features = drop_features + ['특정 시술 유형']\n",
    "\n",
    "all_data['주요 시술 유형'].value_counts(normalize=True, dropna=False) * 100"
   ]
  },
  {
   "cell_type": "code",
   "execution_count": 10,
   "id": "7eafcb57",
   "metadata": {
    "execution": {
     "iopub.execute_input": "2025-02-13T12:43:13.137731Z",
     "iopub.status.busy": "2025-02-13T12:43:13.137491Z",
     "iopub.status.idle": "2025-02-13T12:43:15.251998Z",
     "shell.execute_reply": "2025-02-13T12:43:15.251030Z"
    },
    "papermill": {
     "duration": 2.122036,
     "end_time": "2025-02-13T12:43:15.253692",
     "exception": false,
     "start_time": "2025-02-13T12:43:13.131656",
     "status": "completed"
    },
    "tags": []
   },
   "outputs": [],
   "source": [
    "# 과거 이력(ord feature) 피처 엔지니어링\n",
    "\n",
    "past_features = [\"IVF 시술 횟수\", \"DI 시술 횟수\", \"IVF 임신 횟수\", \"DI 임신 횟수\", \"IVF 출산 횟수\", \"DI 출산 횟수\"]\n",
    "\n",
    "for col in [\"총 시술 횟수\", \"총 임신 횟수\", \"총 출산 횟수\", \"클리닉 내 총 시술 횟수\"]:\n",
    "    all_data[col] = all_data[col].str.replace(\"회 이상\", \"\").str.replace(\"회\", \"\").astype(float)\n",
    "        \n",
    "for col in past_features:\n",
    "    all_data[col] = all_data[col].str.replace(\"회 이상\", \"\").str.replace(\"회\", \"\").astype(float)\n",
    "\n",
    "all_data[\"IVF 임신 성공률\"] = all_data[\"IVF 임신 횟수\"] / (all_data[\"IVF 시술 횟수\"] + 1)\n",
    "all_data[\"IVF 출산 성공률\"] = all_data[\"IVF 출산 횟수\"] / (all_data[\"IVF 임신 횟수\"] + 1)\n",
    "all_data[\"IVF 실패 횟수\"] = all_data[\"IVF 시술 횟수\"] - all_data[\"IVF 임신 횟수\"]\n",
    "all_data[\"IVF 유산 횟수\"] = all_data[\"IVF 임신 횟수\"] - all_data[\"IVF 출산 횟수\"]\n",
    "\n",
    "all_data[\"DI 임신 성공률\"] = all_data[\"DI 임신 횟수\"] / (all_data[\"DI 시술 횟수\"] + 1)\n",
    "all_data[\"DI 출산 성공률\"] = all_data[\"DI 출산 횟수\"] / (all_data[\"DI 임신 횟수\"] + 1)\n",
    "all_data[\"DI 실패 횟수\"] = all_data[\"DI 시술 횟수\"] - all_data[\"DI 임신 횟수\"]\n",
    "all_data[\"DI 유산 횟수\"] = all_data[\"DI 임신 횟수\"] - all_data[\"DI 출산 횟수\"]\n",
    "\n",
    "drop_features = drop_features + past_features"
   ]
  },
  {
   "cell_type": "code",
   "execution_count": 11,
   "id": "d214ac2a",
   "metadata": {
    "execution": {
     "iopub.execute_input": "2025-02-13T12:43:15.267479Z",
     "iopub.status.busy": "2025-02-13T12:43:15.267215Z",
     "iopub.status.idle": "2025-02-13T12:43:15.617657Z",
     "shell.execute_reply": "2025-02-13T12:43:15.616796Z"
    },
    "papermill": {
     "duration": 0.357952,
     "end_time": "2025-02-13T12:43:15.619025",
     "exception": false,
     "start_time": "2025-02-13T12:43:15.261073",
     "status": "completed"
    },
    "tags": []
   },
   "outputs": [
    {
     "name": "stdout",
     "output_type": "stream",
     "text": [
      "남성 불임 원인\n",
      "0    60.57855\n",
      "1    39.42145\n",
      "Name: proportion, dtype: float64\n",
      "여성 불임 원인\n",
      "0    66.416583\n",
      "1    33.583417\n",
      "Name: proportion, dtype: float64\n",
      "부부 불임 원인\n",
      "0    95.81546\n",
      "1     4.18454\n",
      "Name: proportion, dtype: float64\n"
     ]
    }
   ],
   "source": [
    "# 불임 원인(bin features) 피처 엔지니어링 \n",
    "\n",
    "infertility_features = [\"남성 주 불임 원인\", \"남성 부 불임 원인\", \"여성 주 불임 원인\", \"여성 부 불임 원인\",\n",
    "                        \"불임 원인 - 남성 요인\", \"불임 원인 - 정자 농도\", \"불임 원인 - 정자 면역학적 요인\", \"불임 원인 - 정자 운동성\", \"불임 원인 - 정자 형태\",\n",
    "                        \"불임 원인 - 난관 질환\", \"불임 원인 - 배란 장애\", \"불임 원인 - 여성 요인\", \"불임 원인 - 자궁경부 문제\", \"불임 원인 - 자궁내막증\",\n",
    "                        \"부부 주 불임 원인\", \"부부 부 불임 원인\"]\n",
    "\n",
    "all_data[\"남성 불임 원인\"] = (\n",
    "    all_data[\"남성 주 불임 원인\"] + \n",
    "    all_data[\"남성 부 불임 원인\"] + \n",
    "    all_data[\"불임 원인 - 남성 요인\"] + \n",
    "    all_data[\"불임 원인 - 정자 농도\"] + \n",
    "    all_data[\"불임 원인 - 정자 면역학적 요인\"] + \n",
    "    all_data[\"불임 원인 - 정자 운동성\"] + \n",
    "    all_data[\"불임 원인 - 정자 형태\"]\n",
    ").apply(lambda x: 1 if x > 0 else 0)\n",
    "\n",
    "all_data[\"여성 불임 원인\"] = (\n",
    "    all_data[\"여성 주 불임 원인\"] + \n",
    "    all_data[\"여성 부 불임 원인\"] + \n",
    "    all_data[\"불임 원인 - 난관 질환\"] + \n",
    "    all_data[\"불임 원인 - 배란 장애\"] + \n",
    "    all_data[\"불임 원인 - 여성 요인\"] + \n",
    "    all_data[\"불임 원인 - 자궁경부 문제\"] + \n",
    "    all_data[\"불임 원인 - 자궁내막증\"]\n",
    ").apply(lambda x: 1 if x > 0 else 0)\n",
    "\n",
    "all_data[\"부부 불임 원인\"] = (\n",
    "    all_data[\"부부 주 불임 원인\"] + \n",
    "    all_data[\"부부 부 불임 원인\"]\n",
    ").apply(lambda x: 1 if x > 0 else 0)\n",
    "\n",
    "drop_features = drop_features + infertility_features\n",
    "\n",
    "print(all_data['남성 불임 원인'].value_counts(normalize=True, dropna=False) * 100)\n",
    "print(all_data['여성 불임 원인'].value_counts(normalize=True, dropna=False) * 100)\n",
    "print(all_data['부부 불임 원인'].value_counts(normalize=True, dropna=False) * 100)"
   ]
  },
  {
   "cell_type": "code",
   "execution_count": 12,
   "id": "1c96f498",
   "metadata": {
    "execution": {
     "iopub.execute_input": "2025-02-13T12:43:15.631770Z",
     "iopub.status.busy": "2025-02-13T12:43:15.631533Z",
     "iopub.status.idle": "2025-02-13T12:43:15.717259Z",
     "shell.execute_reply": "2025-02-13T12:43:15.716523Z"
    },
    "papermill": {
     "duration": 0.093877,
     "end_time": "2025-02-13T12:43:15.718925",
     "exception": false,
     "start_time": "2025-02-13T12:43:15.625048",
     "status": "completed"
    },
    "tags": []
   },
   "outputs": [],
   "source": [
    "extracted_data = all_data.drop(columns=drop_features, errors='ignore')"
   ]
  },
  {
   "cell_type": "code",
   "execution_count": 13,
   "id": "6d44945c",
   "metadata": {
    "execution": {
     "iopub.execute_input": "2025-02-13T12:43:15.731500Z",
     "iopub.status.busy": "2025-02-13T12:43:15.731263Z",
     "iopub.status.idle": "2025-02-13T12:43:15.736014Z",
     "shell.execute_reply": "2025-02-13T12:43:15.735217Z"
    },
    "papermill": {
     "duration": 0.01212,
     "end_time": "2025-02-13T12:43:15.737197",
     "exception": false,
     "start_time": "2025-02-13T12:43:15.725077",
     "status": "completed"
    },
    "tags": []
   },
   "outputs": [
    {
     "data": {
      "text/plain": [
       "Index(['시술 시기 코드', '시술 당시 나이', '임신 시도 또는 마지막 임신 경과 연수', '시술 유형', '배란 자극 여부',\n",
       "       '배란 유도 유형', '단일 배아 이식 여부', '착상 전 유전 검사 사용 여부', '착상 전 유전 진단 사용 여부',\n",
       "       '불명확 불임 원인', '배아 생성 주요 이유', '총 시술 횟수', '클리닉 내 총 시술 횟수', '총 임신 횟수',\n",
       "       '총 출산 횟수', '총 생성 배아 수', '미세주입된 난자 수', '미세주입에서 생성된 배아 수', '이식된 배아 수',\n",
       "       '미세주입 배아 이식 수', '저장된 배아 수', '미세주입 후 저장된 배아 수', '해동된 배아 수', '해동 난자 수',\n",
       "       '수집된 신선 난자 수', '저장된 신선 난자 수', '혼합된 난자 수', '파트너 정자와 혼합된 난자 수',\n",
       "       '기증자 정자와 혼합된 난자 수', '난자 출처', '정자 출처', '난자 기증자 나이', '정자 기증자 나이',\n",
       "       '동결 배아 사용 여부', '신선 배아 사용 여부', '기증 배아 사용 여부', '대리모 여부', '난자 채취 경과일',\n",
       "       '난자 해동 경과일', '난자 혼합 경과일', '배아 이식 경과일', '배아 해동 경과일', '주요 시술 유형',\n",
       "       'IVF 임신 성공률', 'IVF 출산 성공률', 'IVF 실패 횟수', 'IVF 유산 횟수', 'DI 임신 성공률',\n",
       "       'DI 출산 성공률', 'DI 실패 횟수', 'DI 유산 횟수', '남성 불임 원인', '여성 불임 원인',\n",
       "       '부부 불임 원인'],\n",
       "      dtype='object')"
      ]
     },
     "execution_count": 13,
     "metadata": {},
     "output_type": "execute_result"
    }
   ],
   "source": [
    "extracted_features = extracted_data.columns\n",
    "extracted_features"
   ]
  },
  {
   "cell_type": "code",
   "execution_count": 14,
   "id": "c2cee847",
   "metadata": {
    "execution": {
     "iopub.execute_input": "2025-02-13T12:43:15.749124Z",
     "iopub.status.busy": "2025-02-13T12:43:15.748899Z",
     "iopub.status.idle": "2025-02-13T12:43:15.753207Z",
     "shell.execute_reply": "2025-02-13T12:43:15.752419Z"
    },
    "papermill": {
     "duration": 0.01161,
     "end_time": "2025-02-13T12:43:15.754473",
     "exception": false,
     "start_time": "2025-02-13T12:43:15.742863",
     "status": "completed"
    },
    "tags": []
   },
   "outputs": [
    {
     "data": {
      "text/plain": [
       "54"
      ]
     },
     "execution_count": 14,
     "metadata": {},
     "output_type": "execute_result"
    }
   ],
   "source": [
    "len(extracted_features)"
   ]
  },
  {
   "cell_type": "markdown",
   "id": "52162d5f",
   "metadata": {
    "papermill": {
     "duration": 0.005669,
     "end_time": "2025-02-13T12:43:15.766130",
     "exception": false,
     "start_time": "2025-02-13T12:43:15.760461",
     "status": "completed"
    },
    "tags": []
   },
   "source": [
    "## 2. 피처 엔지니어링: 원 핫 인코딩"
   ]
  },
  {
   "cell_type": "code",
   "execution_count": 15,
   "id": "6e752edd",
   "metadata": {
    "execution": {
     "iopub.execute_input": "2025-02-13T12:43:15.778242Z",
     "iopub.status.busy": "2025-02-13T12:43:15.778036Z",
     "iopub.status.idle": "2025-02-13T12:43:17.559582Z",
     "shell.execute_reply": "2025-02-13T12:43:17.558686Z"
    },
    "papermill": {
     "duration": 1.789113,
     "end_time": "2025-02-13T12:43:17.561038",
     "exception": false,
     "start_time": "2025-02-13T12:43:15.771925",
     "status": "completed"
    },
    "tags": []
   },
   "outputs": [
    {
     "data": {
      "text/plain": [
       "<346418x57 sparse matrix of type '<class 'numpy.float64'>'\n",
       "\twith 3464180 stored elements in Compressed Sparse Row format>"
      ]
     },
     "execution_count": 15,
     "metadata": {},
     "output_type": "execute_result"
    }
   ],
   "source": [
    "from sklearn.preprocessing import OneHotEncoder\n",
    "\n",
    "onehot_encoder = OneHotEncoder()\n",
    "\n",
    "encoded_cat_matrix = onehot_encoder.fit_transform(all_data[cat_features])\n",
    "\n",
    "encoded_cat_matrix"
   ]
  },
  {
   "cell_type": "code",
   "execution_count": 16,
   "id": "3592c588",
   "metadata": {
    "execution": {
     "iopub.execute_input": "2025-02-13T12:43:17.574393Z",
     "iopub.status.busy": "2025-02-13T12:43:17.574007Z",
     "iopub.status.idle": "2025-02-13T12:43:17.577306Z",
     "shell.execute_reply": "2025-02-13T12:43:17.576679Z"
    },
    "papermill": {
     "duration": 0.011122,
     "end_time": "2025-02-13T12:43:17.578570",
     "exception": false,
     "start_time": "2025-02-13T12:43:17.567448",
     "status": "completed"
    },
    "tags": []
   },
   "outputs": [],
   "source": [
    "remaining_features = list(set(extracted_features) - set(cat_features))"
   ]
  },
  {
   "cell_type": "code",
   "execution_count": 17,
   "id": "23ea649a",
   "metadata": {
    "execution": {
     "iopub.execute_input": "2025-02-13T12:43:17.591447Z",
     "iopub.status.busy": "2025-02-13T12:43:17.591226Z",
     "iopub.status.idle": "2025-02-13T12:43:17.634924Z",
     "shell.execute_reply": "2025-02-13T12:43:17.633702Z"
    },
    "papermill": {
     "duration": 0.051419,
     "end_time": "2025-02-13T12:43:17.636084",
     "exception": false,
     "start_time": "2025-02-13T12:43:17.584665",
     "status": "completed"
    },
    "tags": []
   },
   "outputs": [
    {
     "name": "stdout",
     "output_type": "stream",
     "text": [
      "클리닉 내 총 시술 횟수            float64\n",
      "DI 임신 성공률                float64\n",
      "IVF 출산 성공률               float64\n",
      "착상 전 유전 검사 사용 여부         float64\n",
      "미세주입에서 생성된 배아 수          float64\n",
      "DI 실패 횟수                 float64\n",
      "DI 출산 성공률                float64\n",
      "여성 불임 원인                   int64\n",
      "신선 배아 사용 여부              float64\n",
      "저장된 신선 난자 수              float64\n",
      "기증 배아 사용 여부              float64\n",
      "난자 채취 경과일                float64\n",
      "이식된 배아 수                 float64\n",
      "배아 이식 경과일                float64\n",
      "총 시술 횟수                  float64\n",
      "난자 혼합 경과일                float64\n",
      "DI 유산 횟수                 float64\n",
      "부부 불임 원인                   int64\n",
      "임신 시도 또는 마지막 임신 경과 연수    float64\n",
      "난자 해동 경과일                float64\n",
      "IVF 유산 횟수                float64\n",
      "수집된 신선 난자 수              float64\n",
      "배아 해동 경과일                float64\n",
      "총 출산 횟수                  float64\n",
      "배란 자극 여부                   int64\n",
      "총 임신 횟수                  float64\n",
      "혼합된 난자 수                 float64\n",
      "IVF 실패 횟수                float64\n",
      "남성 불임 원인                   int64\n",
      "미세주입 후 저장된 배아 수          float64\n",
      "착상 전 유전 진단 사용 여부         float64\n",
      "대리모 여부                   float64\n",
      "해동된 배아 수                 float64\n",
      "총 생성 배아 수                float64\n",
      "IVF 임신 성공률               float64\n",
      "파트너 정자와 혼합된 난자 수         float64\n",
      "미세주입된 난자 수               float64\n",
      "미세주입 배아 이식 수             float64\n",
      "저장된 배아 수                 float64\n",
      "기증자 정자와 혼합된 난자 수         float64\n",
      "동결 배아 사용 여부              float64\n",
      "불명확 불임 원인                  int64\n",
      "해동 난자 수                  float64\n",
      "단일 배아 이식 여부              float64\n",
      "dtype: object\n"
     ]
    }
   ],
   "source": [
    "print(extracted_data[remaining_features].dtypes)"
   ]
  },
  {
   "cell_type": "code",
   "execution_count": 18,
   "id": "21ed59ec",
   "metadata": {
    "execution": {
     "iopub.execute_input": "2025-02-13T12:43:17.649430Z",
     "iopub.status.busy": "2025-02-13T12:43:17.649209Z",
     "iopub.status.idle": "2025-02-13T12:43:18.382686Z",
     "shell.execute_reply": "2025-02-13T12:43:18.381995Z"
    },
    "papermill": {
     "duration": 0.741768,
     "end_time": "2025-02-13T12:43:18.384322",
     "exception": false,
     "start_time": "2025-02-13T12:43:17.642554",
     "status": "completed"
    },
    "tags": []
   },
   "outputs": [],
   "source": [
    "from scipy import sparse\n",
    "\n",
    "extracted_data_sprs = sparse.hstack([sparse.csr_matrix(extracted_data[remaining_features].fillna(0)),\n",
    "                               encoded_cat_matrix],\n",
    "                              format='csr')"
   ]
  },
  {
   "cell_type": "markdown",
   "id": "729a5868",
   "metadata": {
    "papermill": {
     "duration": 0.00658,
     "end_time": "2025-02-13T12:43:18.398366",
     "exception": false,
     "start_time": "2025-02-13T12:43:18.391786",
     "status": "completed"
    },
    "tags": []
   },
   "source": [
    "## 3. 데이터 나누기"
   ]
  },
  {
   "cell_type": "code",
   "execution_count": 19,
   "id": "e48c474f",
   "metadata": {
    "execution": {
     "iopub.execute_input": "2025-02-13T12:43:18.411365Z",
     "iopub.status.busy": "2025-02-13T12:43:18.411107Z",
     "iopub.status.idle": "2025-02-13T12:43:18.479980Z",
     "shell.execute_reply": "2025-02-13T12:43:18.479240Z"
    },
    "papermill": {
     "duration": 0.077083,
     "end_time": "2025-02-13T12:43:18.481564",
     "exception": false,
     "start_time": "2025-02-13T12:43:18.404481",
     "status": "completed"
    },
    "tags": []
   },
   "outputs": [],
   "source": [
    "num_train = len(train) \n",
    "\n",
    "X = extracted_data_sprs[:num_train]\n",
    "X_test = extracted_data_sprs[num_train:]\n",
    "\n",
    "y = train['임신 성공 여부'].values"
   ]
  },
  {
   "cell_type": "code",
   "execution_count": 20,
   "id": "1837bd64",
   "metadata": {
    "execution": {
     "iopub.execute_input": "2025-02-13T12:43:18.495290Z",
     "iopub.status.busy": "2025-02-13T12:43:18.495015Z",
     "iopub.status.idle": "2025-02-13T12:43:18.620602Z",
     "shell.execute_reply": "2025-02-13T12:43:18.619567Z"
    },
    "papermill": {
     "duration": 0.134086,
     "end_time": "2025-02-13T12:43:18.622275",
     "exception": false,
     "start_time": "2025-02-13T12:43:18.488189",
     "status": "completed"
    },
    "tags": []
   },
   "outputs": [],
   "source": [
    "from sklearn.model_selection import train_test_split\n",
    "\n",
    "X_train, X_valid, y_train, y_valid = train_test_split(X, y, test_size=0.2, random_state=0)"
   ]
  },
  {
   "cell_type": "code",
   "execution_count": 21,
   "id": "b6002699",
   "metadata": {
    "execution": {
     "iopub.execute_input": "2025-02-13T12:43:18.636150Z",
     "iopub.status.busy": "2025-02-13T12:43:18.635817Z",
     "iopub.status.idle": "2025-02-13T12:43:19.403359Z",
     "shell.execute_reply": "2025-02-13T12:43:19.402594Z"
    },
    "papermill": {
     "duration": 0.775993,
     "end_time": "2025-02-13T12:43:19.404927",
     "exception": false,
     "start_time": "2025-02-13T12:43:18.628934",
     "status": "completed"
    },
    "tags": []
   },
   "outputs": [],
   "source": [
    "from catboost import CatBoostClassifier, Pool\n",
    "\n",
    "# CatBoost 전용 데이터셋\n",
    "bayes_dtrain = Pool(X_train, y_train, cat_features=None)\n",
    "bayes_dvalid = Pool(X_valid, y_valid, cat_features=None)"
   ]
  },
  {
   "cell_type": "markdown",
   "id": "5ddc809b",
   "metadata": {
    "papermill": {
     "duration": 0.006001,
     "end_time": "2025-02-13T12:43:19.417560",
     "exception": false,
     "start_time": "2025-02-13T12:43:19.411559",
     "status": "completed"
    },
    "tags": []
   },
   "source": [
    "## 4. 층화 K 폴드"
   ]
  },
  {
   "cell_type": "code",
   "execution_count": 22,
   "id": "b4b99e5f",
   "metadata": {
    "execution": {
     "iopub.execute_input": "2025-02-13T12:43:19.430668Z",
     "iopub.status.busy": "2025-02-13T12:43:19.430426Z",
     "iopub.status.idle": "2025-02-13T12:43:19.433656Z",
     "shell.execute_reply": "2025-02-13T12:43:19.433056Z"
    },
    "papermill": {
     "duration": 0.011207,
     "end_time": "2025-02-13T12:43:19.434909",
     "exception": false,
     "start_time": "2025-02-13T12:43:19.423702",
     "status": "completed"
    },
    "tags": []
   },
   "outputs": [],
   "source": [
    "from sklearn.model_selection import StratifiedKFold\n",
    "\n",
    "# 층화 K 폴드 교차 검증기\n",
    "folds = StratifiedKFold(n_splits=10, shuffle=True, random_state=1991)"
   ]
  },
  {
   "cell_type": "markdown",
   "id": "39056772",
   "metadata": {
    "papermill": {
     "duration": 0.00588,
     "end_time": "2025-02-13T12:43:19.447031",
     "exception": false,
     "start_time": "2025-02-13T12:43:19.441151",
     "status": "completed"
    },
    "tags": []
   },
   "source": [
    "## 5. 베이지안 최적화"
   ]
  },
  {
   "cell_type": "code",
   "execution_count": 23,
   "id": "5b01d5b5",
   "metadata": {
    "execution": {
     "iopub.execute_input": "2025-02-13T12:43:19.459862Z",
     "iopub.status.busy": "2025-02-13T12:43:19.459636Z",
     "iopub.status.idle": "2025-02-13T12:43:19.463204Z",
     "shell.execute_reply": "2025-02-13T12:43:19.462602Z"
    },
    "papermill": {
     "duration": 0.011432,
     "end_time": "2025-02-13T12:43:19.464479",
     "exception": false,
     "start_time": "2025-02-13T12:43:19.453047",
     "status": "completed"
    },
    "tags": []
   },
   "outputs": [],
   "source": [
    "# 베이지안 최적화를 위한 하이퍼파라미터 범위\n",
    "param_bounds = {\n",
    "    'depth': (4, 10),\n",
    "    'learning_rate': (0.01, 0.1),\n",
    "    'l2_leaf_reg': (1, 10),\n",
    "    'bagging_temperature': (0.1, 1.0),\n",
    "    'border_count': (32, 255)\n",
    "}\n",
    "\n",
    "# 고정된 하이퍼파라미터\n",
    "fixed_params = {\n",
    "    'loss_function': 'Logloss',\n",
    "    'eval_metric': 'AUC',\n",
    "    'iterations': 2500,\n",
    "    'random_seed': 1991,\n",
    "    'verbose': 200\n",
    "}"
   ]
  },
  {
   "cell_type": "code",
   "execution_count": 24,
   "id": "c4d8977a",
   "metadata": {
    "execution": {
     "iopub.execute_input": "2025-02-13T12:43:19.477634Z",
     "iopub.status.busy": "2025-02-13T12:43:19.477422Z",
     "iopub.status.idle": "2025-02-13T12:43:19.482043Z",
     "shell.execute_reply": "2025-02-13T12:43:19.481404Z"
    },
    "papermill": {
     "duration": 0.012363,
     "end_time": "2025-02-13T12:43:19.483153",
     "exception": false,
     "start_time": "2025-02-13T12:43:19.470790",
     "status": "completed"
    },
    "tags": []
   },
   "outputs": [],
   "source": [
    "from sklearn.metrics import roc_auc_score\n",
    "\n",
    "# 평가 함수 정의\n",
    "def eval_function(depth, learning_rate, l2_leaf_reg, bagging_temperature, border_count):\n",
    "    params = {\n",
    "        'depth': int(round(depth)),\n",
    "        'learning_rate': learning_rate,\n",
    "        'l2_leaf_reg': l2_leaf_reg,\n",
    "        'bagging_temperature': bagging_temperature,\n",
    "        'border_count': int(round(border_count))\n",
    "    }\n",
    "    \n",
    "    params.update(fixed_params)\n",
    "    print('하이퍼파라미터:', params)\n",
    "    \n",
    "    # CatBoost 모델 훈련\n",
    "    cat_model = CatBoostClassifier(**params)\n",
    "    cat_model.fit(bayes_dtrain, \n",
    "                  eval_set=bayes_dvalid, \n",
    "                  early_stopping_rounds=100, \n",
    "                  verbose=0)\n",
    "    \n",
    "    # 검증 데이터 예측\n",
    "    preds = cat_model.predict_proba(X_valid)[:, 1]\n",
    "    \n",
    "    # ROC-AUC 계산\n",
    "    roc_auc = roc_auc_score(y_valid, preds)\n",
    "    print(f'ROC-AUC : {roc_auc}\\n')\n",
    "    \n",
    "    return roc_auc"
   ]
  },
  {
   "cell_type": "code",
   "execution_count": 25,
   "id": "8ebff18e",
   "metadata": {
    "execution": {
     "iopub.execute_input": "2025-02-13T12:43:19.496357Z",
     "iopub.status.busy": "2025-02-13T12:43:19.496145Z",
     "iopub.status.idle": "2025-02-13T12:43:19.549313Z",
     "shell.execute_reply": "2025-02-13T12:43:19.548708Z"
    },
    "papermill": {
     "duration": 0.061377,
     "end_time": "2025-02-13T12:43:19.550749",
     "exception": false,
     "start_time": "2025-02-13T12:43:19.489372",
     "status": "completed"
    },
    "tags": []
   },
   "outputs": [],
   "source": [
    "from bayes_opt import BayesianOptimization\n",
    "\n",
    "# 베이지안 최적화 객체 생성\n",
    "optimizer = BayesianOptimization(f=eval_function, pbounds=param_bounds, random_state=0)"
   ]
  },
  {
   "cell_type": "code",
   "execution_count": 26,
   "id": "ede6bd1e",
   "metadata": {
    "execution": {
     "iopub.execute_input": "2025-02-13T12:43:19.564491Z",
     "iopub.status.busy": "2025-02-13T12:43:19.564269Z",
     "iopub.status.idle": "2025-02-13T13:09:52.289017Z",
     "shell.execute_reply": "2025-02-13T13:09:52.288044Z"
    },
    "papermill": {
     "duration": 1592.741337,
     "end_time": "2025-02-13T13:09:52.298869",
     "exception": false,
     "start_time": "2025-02-13T12:43:19.557532",
     "status": "completed"
    },
    "tags": []
   },
   "outputs": [
    {
     "name": "stdout",
     "output_type": "stream",
     "text": [
      "|   iter    |  target   | baggin... | border... |   depth   | l2_lea... | learni... |\n",
      "-------------------------------------------------------------------------------------\n",
      "하이퍼파라미터: {'depth': 8, 'learning_rate': 0.048128931940501433, 'l2_leaf_reg': 5.903948646972072, 'bagging_temperature': 0.5939321535345923, 'border_count': 191, 'loss_function': 'Logloss', 'eval_metric': 'AUC', 'iterations': 2500, 'random_seed': 1991, 'verbose': 200}\n",
      "ROC-AUC : 0.7409769110525363\n",
      "\n",
      "| \u001b[39m1        \u001b[39m | \u001b[39m0.741    \u001b[39m | \u001b[39m0.5939   \u001b[39m | \u001b[39m191.5    \u001b[39m | \u001b[39m7.617    \u001b[39m | \u001b[39m5.904    \u001b[39m | \u001b[39m0.04813  \u001b[39m |\n",
      "하이퍼파라미터: {'depth': 9, 'learning_rate': 0.04450973669432, 'l2_leaf_reg': 9.672964844509263, 'bagging_temperature': 0.6813047017599905, 'border_count': 130, 'loss_function': 'Logloss', 'eval_metric': 'AUC', 'iterations': 2500, 'random_seed': 1991, 'verbose': 200}\n",
      "ROC-AUC : 0.7412414399709103\n",
      "\n",
      "| \u001b[35m2        \u001b[39m | \u001b[35m0.7412   \u001b[39m | \u001b[35m0.6813   \u001b[39m | \u001b[35m129.6    \u001b[39m | \u001b[35m9.351    \u001b[39m | \u001b[35m9.673    \u001b[39m | \u001b[35m0.04451  \u001b[39m |\n",
      "하이퍼파라미터: {'depth': 7, 'learning_rate': 0.016393245237809825, 'l2_leaf_reg': 9.330369744633948, 'bagging_temperature': 0.8125525342743981, 'border_count': 150, 'loss_function': 'Logloss', 'eval_metric': 'AUC', 'iterations': 2500, 'random_seed': 1991, 'verbose': 200}\n",
      "ROC-AUC : 0.7412730155094363\n",
      "\n",
      "| \u001b[35m3        \u001b[39m | \u001b[35m0.7413   \u001b[39m | \u001b[35m0.8126   \u001b[39m | \u001b[35m149.9    \u001b[39m | \u001b[35m7.408    \u001b[39m | \u001b[35m9.33     \u001b[39m | \u001b[35m0.01639  \u001b[39m |\n",
      "하이퍼파라미터: {'depth': 9, 'learning_rate': 0.08830109334221373, 'l2_leaf_reg': 8.003410758548654, 'bagging_temperature': 0.17841636973138664, 'border_count': 37, 'loss_function': 'Logloss', 'eval_metric': 'AUC', 'iterations': 2500, 'random_seed': 1991, 'verbose': 200}\n",
      "ROC-AUC : 0.740682533097555\n",
      "\n",
      "| \u001b[39m4        \u001b[39m | \u001b[39m0.7407   \u001b[39m | \u001b[39m0.1784   \u001b[39m | \u001b[39m36.51    \u001b[39m | \u001b[39m8.996    \u001b[39m | \u001b[39m8.003    \u001b[39m | \u001b[39m0.0883   \u001b[39m |\n",
      "하이퍼파라미터: {'depth': 7, 'learning_rate': 0.02064469832820399, 'l2_leaf_reg': 8.024762586578099, 'bagging_temperature': 0.9807565080094875, 'border_count': 210, 'loss_function': 'Logloss', 'eval_metric': 'AUC', 'iterations': 2500, 'random_seed': 1991, 'verbose': 200}\n",
      "ROC-AUC : 0.7414417013607342\n",
      "\n",
      "| \u001b[35m5        \u001b[39m | \u001b[35m0.7414   \u001b[39m | \u001b[35m0.9808   \u001b[39m | \u001b[35m210.2    \u001b[39m | \u001b[35m6.769    \u001b[39m | \u001b[35m8.025    \u001b[39m | \u001b[35m0.02064  \u001b[39m |\n",
      "하이퍼파라미터: {'depth': 10, 'learning_rate': 0.04731957459914713, 'l2_leaf_reg': 5.696634895750645, 'bagging_temperature': 0.6759289191947714, 'border_count': 64, 'loss_function': 'Logloss', 'eval_metric': 'AUC', 'iterations': 2500, 'random_seed': 1991, 'verbose': 200}\n",
      "ROC-AUC : 0.7408767857868754\n",
      "\n",
      "| \u001b[39m6        \u001b[39m | \u001b[39m0.7409   \u001b[39m | \u001b[39m0.6759   \u001b[39m | \u001b[39m63.97    \u001b[39m | \u001b[39m9.668    \u001b[39m | \u001b[39m5.697    \u001b[39m | \u001b[39m0.04732  \u001b[39m |\n",
      "하이퍼파라미터: {'depth': 7, 'learning_rate': 0.011691082039271963, 'l2_leaf_reg': 6.115905539817836, 'bagging_temperature': 0.3381000508941643, 'border_count': 205, 'loss_function': 'Logloss', 'eval_metric': 'AUC', 'iterations': 2500, 'random_seed': 1991, 'verbose': 200}\n",
      "ROC-AUC : 0.7412250179663797\n",
      "\n",
      "| \u001b[39m7        \u001b[39m | \u001b[39m0.7412   \u001b[39m | \u001b[39m0.3381   \u001b[39m | \u001b[39m204.7    \u001b[39m | \u001b[39m6.737    \u001b[39m | \u001b[39m6.116    \u001b[39m | \u001b[39m0.01169  \u001b[39m |\n",
      "하이퍼파라미터: {'depth': 8, 'learning_rate': 0.0713638269193135, 'l2_leaf_reg': 9.493732706631617, 'bagging_temperature': 0.6558719473682894, 'border_count': 168, 'loss_function': 'Logloss', 'eval_metric': 'AUC', 'iterations': 2500, 'random_seed': 1991, 'verbose': 200}\n",
      "ROC-AUC : 0.7409943922546419\n",
      "\n",
      "| \u001b[39m8        \u001b[39m | \u001b[39m0.741    \u001b[39m | \u001b[39m0.6559   \u001b[39m | \u001b[39m168.5    \u001b[39m | \u001b[39m7.702    \u001b[39m | \u001b[39m9.494    \u001b[39m | \u001b[39m0.07136  \u001b[39m |\n",
      "하이퍼파라미터: {'depth': 8, 'learning_rate': 0.0700090043901101, 'l2_leaf_reg': 1.5420292446634285, 'bagging_temperature': 0.42355711051640743, 'border_count': 129, 'loss_function': 'Logloss', 'eval_metric': 'AUC', 'iterations': 2500, 'random_seed': 1991, 'verbose': 200}\n",
      "ROC-AUC : 0.7408068353129007\n",
      "\n",
      "| \u001b[39m9        \u001b[39m | \u001b[39m0.7408   \u001b[39m | \u001b[39m0.4236   \u001b[39m | \u001b[39m129.5    \u001b[39m | \u001b[39m8.186    \u001b[39m | \u001b[39m1.542    \u001b[39m | \u001b[39m0.07001  \u001b[39m |\n",
      "하이퍼파라미터: {'depth': 5, 'learning_rate': 0.04273396938483604, 'l2_leaf_reg': 3.8388551583176547, 'bagging_temperature': 0.7035740826563435, 'border_count': 79, 'loss_function': 'Logloss', 'eval_metric': 'AUC', 'iterations': 2500, 'random_seed': 1991, 'verbose': 200}\n",
      "ROC-AUC : 0.7413989208346256\n",
      "\n",
      "| \u001b[39m10       \u001b[39m | \u001b[39m0.7414   \u001b[39m | \u001b[39m0.7036   \u001b[39m | \u001b[39m78.92    \u001b[39m | \u001b[39m4.774    \u001b[39m | \u001b[39m3.839    \u001b[39m | \u001b[39m0.04273  \u001b[39m |\n",
      "하이퍼파라미터: {'depth': 10, 'learning_rate': 0.06779588600431591, 'l2_leaf_reg': 5.374000662055391, 'bagging_temperature': 0.5987157583654115, 'border_count': 210, 'loss_function': 'Logloss', 'eval_metric': 'AUC', 'iterations': 2500, 'random_seed': 1991, 'verbose': 200}\n",
      "ROC-AUC : 0.7403741881467756\n",
      "\n",
      "| \u001b[39m11       \u001b[39m | \u001b[39m0.7404   \u001b[39m | \u001b[39m0.5987   \u001b[39m | \u001b[39m210.3    \u001b[39m | \u001b[39m9.597    \u001b[39m | \u001b[39m5.374    \u001b[39m | \u001b[39m0.0678   \u001b[39m |\n",
      "하이퍼파라미터: {'depth': 8, 'learning_rate': 0.04492525529715206, 'l2_leaf_reg': 5.400361338253334, 'bagging_temperature': 0.7077786714809243, 'border_count': 82, 'loss_function': 'Logloss', 'eval_metric': 'AUC', 'iterations': 2500, 'random_seed': 1991, 'verbose': 200}\n",
      "ROC-AUC : 0.7410794202530935\n",
      "\n",
      "| \u001b[39m12       \u001b[39m | \u001b[39m0.7411   \u001b[39m | \u001b[39m0.7078   \u001b[39m | \u001b[39m81.81    \u001b[39m | \u001b[39m8.466    \u001b[39m | \u001b[39m5.4      \u001b[39m | \u001b[39m0.04493  \u001b[39m |\n",
      "하이퍼파라미터: {'depth': 5, 'learning_rate': 0.016972142322550048, 'l2_leaf_reg': 1.199738967578769, 'bagging_temperature': 0.13759135256779334, 'border_count': 36, 'loss_function': 'Logloss', 'eval_metric': 'AUC', 'iterations': 2500, 'random_seed': 1991, 'verbose': 200}\n",
      "ROC-AUC : 0.7411620386510968\n",
      "\n",
      "| \u001b[39m13       \u001b[39m | \u001b[39m0.7412   \u001b[39m | \u001b[39m0.1376   \u001b[39m | \u001b[39m36.03    \u001b[39m | \u001b[39m4.635    \u001b[39m | \u001b[39m1.2      \u001b[39m | \u001b[39m0.01697  \u001b[39m |\n",
      "하이퍼파라미터: {'depth': 9, 'learning_rate': 0.017594289759626684, 'l2_leaf_reg': 7.9271925824404885, 'bagging_temperature': 0.7658054427916632, 'border_count': 67, 'loss_function': 'Logloss', 'eval_metric': 'AUC', 'iterations': 2500, 'random_seed': 1991, 'verbose': 200}\n",
      "ROC-AUC : 0.7412808158628745\n",
      "\n",
      "| \u001b[39m14       \u001b[39m | \u001b[39m0.7413   \u001b[39m | \u001b[39m0.7658   \u001b[39m | \u001b[39m67.02    \u001b[39m | \u001b[39m9.471    \u001b[39m | \u001b[39m7.927    \u001b[39m | \u001b[39m0.01759  \u001b[39m |\n",
      "하이퍼파라미터: {'depth': 6, 'learning_rate': 0.0617629565050611, 'l2_leaf_reg': 8.013082112996964, 'bagging_temperature': 0.6687333030652096, 'border_count': 112, 'loss_function': 'Logloss', 'eval_metric': 'AUC', 'iterations': 2500, 'random_seed': 1991, 'verbose': 200}\n",
      "ROC-AUC : 0.7413021666404648\n",
      "\n",
      "| \u001b[39m15       \u001b[39m | \u001b[39m0.7413   \u001b[39m | \u001b[39m0.6687   \u001b[39m | \u001b[39m112.0    \u001b[39m | \u001b[39m5.82     \u001b[39m | \u001b[39m8.013    \u001b[39m | \u001b[39m0.06176  \u001b[39m |\n",
      "하이퍼파라미터: {'depth': 6, 'learning_rate': 0.04777692676916825, 'l2_leaf_reg': 6.5333806815973565, 'bagging_temperature': 0.8864354588366468, 'border_count': 113, 'loss_function': 'Logloss', 'eval_metric': 'AUC', 'iterations': 2500, 'random_seed': 1991, 'verbose': 200}\n",
      "ROC-AUC : 0.7411005301693525\n",
      "\n",
      "| \u001b[39m16       \u001b[39m | \u001b[39m0.7411   \u001b[39m | \u001b[39m0.8864   \u001b[39m | \u001b[39m112.5    \u001b[39m | \u001b[39m5.948    \u001b[39m | \u001b[39m6.533    \u001b[39m | \u001b[39m0.04778  \u001b[39m |\n",
      "하이퍼파라미터: {'depth': 6, 'learning_rate': 0.019035276807308252, 'l2_leaf_reg': 8.66483350399045, 'bagging_temperature': 0.8549876703756554, 'border_count': 210, 'loss_function': 'Logloss', 'eval_metric': 'AUC', 'iterations': 2500, 'random_seed': 1991, 'verbose': 200}\n",
      "ROC-AUC : 0.7412973257225628\n",
      "\n",
      "| \u001b[39m17       \u001b[39m | \u001b[39m0.7413   \u001b[39m | \u001b[39m0.855    \u001b[39m | \u001b[39m210.0    \u001b[39m | \u001b[39m6.003    \u001b[39m | \u001b[39m8.665    \u001b[39m | \u001b[39m0.01904  \u001b[39m |\n",
      "하이퍼파라미터: {'depth': 7, 'learning_rate': 0.05606213285706964, 'l2_leaf_reg': 9.216098157994194, 'bagging_temperature': 0.6609529183051456, 'border_count': 211, 'loss_function': 'Logloss', 'eval_metric': 'AUC', 'iterations': 2500, 'random_seed': 1991, 'verbose': 200}\n",
      "ROC-AUC : 0.7416090417448421\n",
      "\n",
      "| \u001b[35m18       \u001b[39m | \u001b[35m0.7416   \u001b[39m | \u001b[35m0.661    \u001b[39m | \u001b[35m210.7    \u001b[39m | \u001b[35m7.395    \u001b[39m | \u001b[35m9.216    \u001b[39m | \u001b[35m0.05606  \u001b[39m |\n",
      "하이퍼파라미터: {'depth': 7, 'learning_rate': 0.022623884074483954, 'l2_leaf_reg': 8.87137129332, 'bagging_temperature': 0.12191290707845842, 'border_count': 212, 'loss_function': 'Logloss', 'eval_metric': 'AUC', 'iterations': 2500, 'random_seed': 1991, 'verbose': 200}\n",
      "ROC-AUC : 0.7413156568492837\n",
      "\n",
      "| \u001b[39m19       \u001b[39m | \u001b[39m0.7413   \u001b[39m | \u001b[39m0.1219   \u001b[39m | \u001b[39m212.1    \u001b[39m | \u001b[39m7.408    \u001b[39m | \u001b[39m8.871    \u001b[39m | \u001b[39m0.02262  \u001b[39m |\n",
      "하이퍼파라미터: {'depth': 9, 'learning_rate': 0.06824460737573423, 'l2_leaf_reg': 9.478292693891111, 'bagging_temperature': 0.10483537628454404, 'border_count': 210, 'loss_function': 'Logloss', 'eval_metric': 'AUC', 'iterations': 2500, 'random_seed': 1991, 'verbose': 200}\n",
      "ROC-AUC : 0.7409589787290027\n",
      "\n",
      "| \u001b[39m20       \u001b[39m | \u001b[39m0.741    \u001b[39m | \u001b[39m0.1048   \u001b[39m | \u001b[39m209.8    \u001b[39m | \u001b[39m8.699    \u001b[39m | \u001b[39m9.478    \u001b[39m | \u001b[39m0.06824  \u001b[39m |\n",
      "하이퍼파라미터: {'depth': 7, 'learning_rate': 0.06597864414814146, 'l2_leaf_reg': 8.721424905887908, 'bagging_temperature': 0.8682544902099186, 'border_count': 211, 'loss_function': 'Logloss', 'eval_metric': 'AUC', 'iterations': 2500, 'random_seed': 1991, 'verbose': 200}\n",
      "ROC-AUC : 0.7414566258790378\n",
      "\n",
      "| \u001b[39m21       \u001b[39m | \u001b[39m0.7415   \u001b[39m | \u001b[39m0.8683   \u001b[39m | \u001b[39m211.5    \u001b[39m | \u001b[39m6.97     \u001b[39m | \u001b[39m8.721    \u001b[39m | \u001b[39m0.06598  \u001b[39m |\n",
      "하이퍼파라미터: {'depth': 8, 'learning_rate': 0.039494708955537985, 'l2_leaf_reg': 9.972856067333524, 'bagging_temperature': 0.6537236268515275, 'border_count': 212, 'loss_function': 'Logloss', 'eval_metric': 'AUC', 'iterations': 2500, 'random_seed': 1991, 'verbose': 200}\n",
      "ROC-AUC : 0.741108265371775\n",
      "\n",
      "| \u001b[39m22       \u001b[39m | \u001b[39m0.7411   \u001b[39m | \u001b[39m0.6537   \u001b[39m | \u001b[39m211.8    \u001b[39m | \u001b[39m7.506    \u001b[39m | \u001b[39m9.973    \u001b[39m | \u001b[39m0.03949  \u001b[39m |\n",
      "하이퍼파라미터: {'depth': 8, 'learning_rate': 0.046553902143256304, 'l2_leaf_reg': 8.1664170729325, 'bagging_temperature': 0.26489605961435736, 'border_count': 211, 'loss_function': 'Logloss', 'eval_metric': 'AUC', 'iterations': 2500, 'random_seed': 1991, 'verbose': 200}\n",
      "ROC-AUC : 0.7412996306865312\n",
      "\n",
      "| \u001b[39m23       \u001b[39m | \u001b[39m0.7413   \u001b[39m | \u001b[39m0.2649   \u001b[39m | \u001b[39m210.6    \u001b[39m | \u001b[39m7.684    \u001b[39m | \u001b[39m8.166    \u001b[39m | \u001b[39m0.04655  \u001b[39m |\n",
      "하이퍼파라미터: {'depth': 7, 'learning_rate': 0.08354873456273783, 'l2_leaf_reg': 9.795643597592585, 'bagging_temperature': 0.6418269603813197, 'border_count': 210, 'loss_function': 'Logloss', 'eval_metric': 'AUC', 'iterations': 2500, 'random_seed': 1991, 'verbose': 200}\n",
      "ROC-AUC : 0.7411955667458239\n",
      "\n",
      "| \u001b[39m24       \u001b[39m | \u001b[39m0.7412   \u001b[39m | \u001b[39m0.6418   \u001b[39m | \u001b[39m210.4    \u001b[39m | \u001b[39m6.858    \u001b[39m | \u001b[39m9.796    \u001b[39m | \u001b[39m0.08355  \u001b[39m |\n",
      "하이퍼파라미터: {'depth': 7, 'learning_rate': 0.044825967396795355, 'l2_leaf_reg': 8.71216486336196, 'bagging_temperature': 0.753984616932823, 'border_count': 211, 'loss_function': 'Logloss', 'eval_metric': 'AUC', 'iterations': 2500, 'random_seed': 1991, 'verbose': 200}\n",
      "ROC-AUC : 0.741531806202736\n",
      "\n",
      "| \u001b[39m25       \u001b[39m | \u001b[39m0.7415   \u001b[39m | \u001b[39m0.754    \u001b[39m | \u001b[39m210.7    \u001b[39m | \u001b[39m6.863    \u001b[39m | \u001b[39m8.712    \u001b[39m | \u001b[39m0.04483  \u001b[39m |\n",
      "하이퍼파라미터: {'depth': 6, 'learning_rate': 0.08640720031684807, 'l2_leaf_reg': 7.559656248670835, 'bagging_temperature': 0.8754718020666994, 'border_count': 211, 'loss_function': 'Logloss', 'eval_metric': 'AUC', 'iterations': 2500, 'random_seed': 1991, 'verbose': 200}\n",
      "ROC-AUC : 0.7411779651130525\n",
      "\n",
      "| \u001b[39m26       \u001b[39m | \u001b[39m0.7412   \u001b[39m | \u001b[39m0.8755   \u001b[39m | \u001b[39m211.4    \u001b[39m | \u001b[39m5.789    \u001b[39m | \u001b[39m7.56     \u001b[39m | \u001b[39m0.08641  \u001b[39m |\n",
      "하이퍼파라미터: {'depth': 6, 'learning_rate': 0.09259347608311483, 'l2_leaf_reg': 3.30960313120734, 'bagging_temperature': 0.5467189878053947, 'border_count': 79, 'loss_function': 'Logloss', 'eval_metric': 'AUC', 'iterations': 2500, 'random_seed': 1991, 'verbose': 200}\n",
      "ROC-AUC : 0.7408002303818891\n",
      "\n",
      "| \u001b[39m27       \u001b[39m | \u001b[39m0.7408   \u001b[39m | \u001b[39m0.5467   \u001b[39m | \u001b[39m78.99    \u001b[39m | \u001b[39m6.083    \u001b[39m | \u001b[39m3.31     \u001b[39m | \u001b[39m0.09259  \u001b[39m |\n",
      "하이퍼파라미터: {'depth': 8, 'learning_rate': 0.08831571669062822, 'l2_leaf_reg': 8.642715708032659, 'bagging_temperature': 0.8111333616496571, 'border_count': 210, 'loss_function': 'Logloss', 'eval_metric': 'AUC', 'iterations': 2500, 'random_seed': 1991, 'verbose': 200}\n",
      "ROC-AUC : 0.7406799902336654\n",
      "\n",
      "| \u001b[39m28       \u001b[39m | \u001b[39m0.7407   \u001b[39m | \u001b[39m0.8111   \u001b[39m | \u001b[39m210.4    \u001b[39m | \u001b[39m7.516    \u001b[39m | \u001b[39m8.643    \u001b[39m | \u001b[39m0.08832  \u001b[39m |\n",
      "하이퍼파라미터: {'depth': 4, 'learning_rate': 0.010007065415851802, 'l2_leaf_reg': 9.537895367608362, 'bagging_temperature': 0.4755224183501613, 'border_count': 90, 'loss_function': 'Logloss', 'eval_metric': 'AUC', 'iterations': 2500, 'random_seed': 1991, 'verbose': 200}\n",
      "ROC-AUC : 0.7407401206727116\n",
      "\n",
      "| \u001b[39m29       \u001b[39m | \u001b[39m0.7407   \u001b[39m | \u001b[39m0.4755   \u001b[39m | \u001b[39m89.75    \u001b[39m | \u001b[39m4.273    \u001b[39m | \u001b[39m9.538    \u001b[39m | \u001b[39m0.01001  \u001b[39m |\n",
      "하이퍼파라미터: {'depth': 6, 'learning_rate': 0.019419816004644392, 'l2_leaf_reg': 3.7633988438850863, 'bagging_temperature': 0.2594620596528327, 'border_count': 131, 'loss_function': 'Logloss', 'eval_metric': 'AUC', 'iterations': 2500, 'random_seed': 1991, 'verbose': 200}\n",
      "ROC-AUC : 0.7413838028375479\n",
      "\n",
      "| \u001b[39m30       \u001b[39m | \u001b[39m0.7414   \u001b[39m | \u001b[39m0.2595   \u001b[39m | \u001b[39m131.4    \u001b[39m | \u001b[39m5.656    \u001b[39m | \u001b[39m3.763    \u001b[39m | \u001b[39m0.01942  \u001b[39m |\n",
      "하이퍼파라미터: {'depth': 9, 'learning_rate': 0.011950930714074905, 'l2_leaf_reg': 4.735833237335472, 'bagging_temperature': 0.2964845732123984, 'border_count': 220, 'loss_function': 'Logloss', 'eval_metric': 'AUC', 'iterations': 2500, 'random_seed': 1991, 'verbose': 200}\n",
      "ROC-AUC : 0.7414741761807057\n",
      "\n",
      "| \u001b[39m31       \u001b[39m | \u001b[39m0.7415   \u001b[39m | \u001b[39m0.2965   \u001b[39m | \u001b[39m220.4    \u001b[39m | \u001b[39m8.672    \u001b[39m | \u001b[39m4.736    \u001b[39m | \u001b[39m0.01195  \u001b[39m |\n",
      "하이퍼파라미터: {'depth': 9, 'learning_rate': 0.06362645583908864, 'l2_leaf_reg': 5.8567564201867475, 'bagging_temperature': 0.2910251241827717, 'border_count': 195, 'loss_function': 'Logloss', 'eval_metric': 'AUC', 'iterations': 2500, 'random_seed': 1991, 'verbose': 200}\n",
      "ROC-AUC : 0.7409029991993729\n",
      "\n",
      "| \u001b[39m32       \u001b[39m | \u001b[39m0.7409   \u001b[39m | \u001b[39m0.291    \u001b[39m | \u001b[39m194.6    \u001b[39m | \u001b[39m9.411    \u001b[39m | \u001b[39m5.857    \u001b[39m | \u001b[39m0.06363  \u001b[39m |\n",
      "하이퍼파라미터: {'depth': 8, 'learning_rate': 0.05091659983967498, 'l2_leaf_reg': 2.6021574611606235, 'bagging_temperature': 0.10327397910684277, 'border_count': 138, 'loss_function': 'Logloss', 'eval_metric': 'AUC', 'iterations': 2500, 'random_seed': 1991, 'verbose': 200}\n",
      "ROC-AUC : 0.7411808475519337\n",
      "\n",
      "| \u001b[39m33       \u001b[39m | \u001b[39m0.7412   \u001b[39m | \u001b[39m0.1033   \u001b[39m | \u001b[39m137.9    \u001b[39m | \u001b[39m7.767    \u001b[39m | \u001b[39m2.602    \u001b[39m | \u001b[39m0.05092  \u001b[39m |\n",
      "하이퍼파라미터: {'depth': 6, 'learning_rate': 0.028177012848120297, 'l2_leaf_reg': 1.8040416519365052, 'bagging_temperature': 0.6353019615780865, 'border_count': 49, 'loss_function': 'Logloss', 'eval_metric': 'AUC', 'iterations': 2500, 'random_seed': 1991, 'verbose': 200}\n",
      "ROC-AUC : 0.7411734479759564\n",
      "\n",
      "| \u001b[39m34       \u001b[39m | \u001b[39m0.7412   \u001b[39m | \u001b[39m0.6353   \u001b[39m | \u001b[39m48.8     \u001b[39m | \u001b[39m5.702    \u001b[39m | \u001b[39m1.804    \u001b[39m | \u001b[39m0.02818  \u001b[39m |\n",
      "하이퍼파라미터: {'depth': 8, 'learning_rate': 0.08956467606895732, 'l2_leaf_reg': 3.4663812372799434, 'bagging_temperature': 0.7715735213287174, 'border_count': 80, 'loss_function': 'Logloss', 'eval_metric': 'AUC', 'iterations': 2500, 'random_seed': 1991, 'verbose': 200}\n",
      "ROC-AUC : 0.7404991221295474\n",
      "\n",
      "| \u001b[39m35       \u001b[39m | \u001b[39m0.7405   \u001b[39m | \u001b[39m0.7716   \u001b[39m | \u001b[39m79.92    \u001b[39m | \u001b[39m7.62     \u001b[39m | \u001b[39m3.466    \u001b[39m | \u001b[39m0.08956  \u001b[39m |\n",
      "하이퍼파라미터: {'depth': 7, 'learning_rate': 0.07262211999057341, 'l2_leaf_reg': 4.67537436986283, 'bagging_temperature': 0.5672782658962342, 'border_count': 249, 'loss_function': 'Logloss', 'eval_metric': 'AUC', 'iterations': 2500, 'random_seed': 1991, 'verbose': 200}\n",
      "ROC-AUC : 0.7412654046862257\n",
      "\n",
      "| \u001b[39m36       \u001b[39m | \u001b[39m0.7413   \u001b[39m | \u001b[39m0.5673   \u001b[39m | \u001b[39m248.9    \u001b[39m | \u001b[39m7.358    \u001b[39m | \u001b[39m4.675    \u001b[39m | \u001b[39m0.07262  \u001b[39m |\n",
      "하이퍼파라미터: {'depth': 5, 'learning_rate': 0.033338838493192774, 'l2_leaf_reg': 3.0709635588377915, 'bagging_temperature': 0.34855929657348284, 'border_count': 168, 'loss_function': 'Logloss', 'eval_metric': 'AUC', 'iterations': 2500, 'random_seed': 1991, 'verbose': 200}\n",
      "ROC-AUC : 0.7410909203945206\n",
      "\n",
      "| \u001b[39m37       \u001b[39m | \u001b[39m0.7411   \u001b[39m | \u001b[39m0.3486   \u001b[39m | \u001b[39m168.2    \u001b[39m | \u001b[39m5.095    \u001b[39m | \u001b[39m3.071    \u001b[39m | \u001b[39m0.03334  \u001b[39m |\n",
      "하이퍼파라미터: {'depth': 6, 'learning_rate': 0.04775166873185309, 'l2_leaf_reg': 4.804897538819494, 'bagging_temperature': 0.643617706715083, 'border_count': 192, 'loss_function': 'Logloss', 'eval_metric': 'AUC', 'iterations': 2500, 'random_seed': 1991, 'verbose': 200}\n",
      "ROC-AUC : 0.741241346192933\n",
      "\n",
      "| \u001b[39m38       \u001b[39m | \u001b[39m0.7412   \u001b[39m | \u001b[39m0.6436   \u001b[39m | \u001b[39m192.0    \u001b[39m | \u001b[39m6.024    \u001b[39m | \u001b[39m4.805    \u001b[39m | \u001b[39m0.04775  \u001b[39m |\n",
      "하이퍼파라미터: {'depth': 8, 'learning_rate': 0.029987227856612633, 'l2_leaf_reg': 6.22800346145295, 'bagging_temperature': 0.814962337247343, 'border_count': 221, 'loss_function': 'Logloss', 'eval_metric': 'AUC', 'iterations': 2500, 'random_seed': 1991, 'verbose': 200}\n",
      "ROC-AUC : 0.7411172739804157\n",
      "\n",
      "| \u001b[39m39       \u001b[39m | \u001b[39m0.7411   \u001b[39m | \u001b[39m0.815    \u001b[39m | \u001b[39m221.1    \u001b[39m | \u001b[39m7.796    \u001b[39m | \u001b[39m6.228    \u001b[39m | \u001b[39m0.02999  \u001b[39m |\n",
      "하이퍼파라미터: {'depth': 8, 'learning_rate': 0.028608721058380138, 'l2_leaf_reg': 5.312143823419715, 'bagging_temperature': 0.20475708592365655, 'border_count': 132, 'loss_function': 'Logloss', 'eval_metric': 'AUC', 'iterations': 2500, 'random_seed': 1991, 'verbose': 200}\n",
      "ROC-AUC : 0.7413358526770483\n",
      "\n",
      "| \u001b[39m40       \u001b[39m | \u001b[39m0.7413   \u001b[39m | \u001b[39m0.2048   \u001b[39m | \u001b[39m131.5    \u001b[39m | \u001b[39m8.275    \u001b[39m | \u001b[39m5.312    \u001b[39m | \u001b[39m0.02861  \u001b[39m |\n",
      "하이퍼파라미터: {'depth': 8, 'learning_rate': 0.017889665425716034, 'l2_leaf_reg': 5.450940792048177, 'bagging_temperature': 0.8806637276315941, 'border_count': 48, 'loss_function': 'Logloss', 'eval_metric': 'AUC', 'iterations': 2500, 'random_seed': 1991, 'verbose': 200}\n",
      "ROC-AUC : 0.7411837862576015\n",
      "\n",
      "| \u001b[39m41       \u001b[39m | \u001b[39m0.7412   \u001b[39m | \u001b[39m0.8807   \u001b[39m | \u001b[39m47.53    \u001b[39m | \u001b[39m7.969    \u001b[39m | \u001b[39m5.451    \u001b[39m | \u001b[39m0.01789  \u001b[39m |\n",
      "하이퍼파라미터: {'depth': 6, 'learning_rate': 0.04813693096009092, 'l2_leaf_reg': 3.7075874473997033, 'bagging_temperature': 0.8582609686162009, 'border_count': 102, 'loss_function': 'Logloss', 'eval_metric': 'AUC', 'iterations': 2500, 'random_seed': 1991, 'verbose': 200}\n",
      "ROC-AUC : 0.7412017768221945\n",
      "\n",
      "| \u001b[39m42       \u001b[39m | \u001b[39m0.7412   \u001b[39m | \u001b[39m0.8583   \u001b[39m | \u001b[39m102.3    \u001b[39m | \u001b[39m6.322    \u001b[39m | \u001b[39m3.708    \u001b[39m | \u001b[39m0.04814  \u001b[39m |\n",
      "하이퍼파라미터: {'depth': 9, 'learning_rate': 0.023608097630761937, 'l2_leaf_reg': 9.486694545598516, 'bagging_temperature': 0.7152818994947969, 'border_count': 240, 'loss_function': 'Logloss', 'eval_metric': 'AUC', 'iterations': 2500, 'random_seed': 1991, 'verbose': 200}\n",
      "ROC-AUC : 0.7414299327181512\n",
      "\n",
      "| \u001b[39m43       \u001b[39m | \u001b[39m0.7414   \u001b[39m | \u001b[39m0.7153   \u001b[39m | \u001b[39m240.0    \u001b[39m | \u001b[39m9.365    \u001b[39m | \u001b[39m9.487    \u001b[39m | \u001b[39m0.02361  \u001b[39m |\n",
      "하이퍼파라미터: {'depth': 9, 'learning_rate': 0.0203621808224032, 'l2_leaf_reg': 6.3133559875338845, 'bagging_temperature': 0.8203908126561755, 'border_count': 137, 'loss_function': 'Logloss', 'eval_metric': 'AUC', 'iterations': 2500, 'random_seed': 1991, 'verbose': 200}\n",
      "ROC-AUC : 0.7414958655461509\n",
      "\n",
      "| \u001b[39m44       \u001b[39m | \u001b[39m0.7415   \u001b[39m | \u001b[39m0.8204   \u001b[39m | \u001b[39m136.9    \u001b[39m | \u001b[39m9.158    \u001b[39m | \u001b[39m6.313    \u001b[39m | \u001b[39m0.02036  \u001b[39m |\n",
      "하이퍼파라미터: {'depth': 7, 'learning_rate': 0.01987470343344883, 'l2_leaf_reg': 4.4591924409765955, 'bagging_temperature': 0.3341713992178698, 'border_count': 203, 'loss_function': 'Logloss', 'eval_metric': 'AUC', 'iterations': 2500, 'random_seed': 1991, 'verbose': 200}\n",
      "ROC-AUC : 0.7411914967816089\n",
      "\n",
      "| \u001b[39m45       \u001b[39m | \u001b[39m0.7412   \u001b[39m | \u001b[39m0.3342   \u001b[39m | \u001b[39m203.1    \u001b[39m | \u001b[39m7.328    \u001b[39m | \u001b[39m4.459    \u001b[39m | \u001b[39m0.01987  \u001b[39m |\n",
      "하이퍼파라미터: {'depth': 6, 'learning_rate': 0.0768565873567082, 'l2_leaf_reg': 7.816946820666763, 'bagging_temperature': 0.3582703217854325, 'border_count': 210, 'loss_function': 'Logloss', 'eval_metric': 'AUC', 'iterations': 2500, 'random_seed': 1991, 'verbose': 200}\n",
      "ROC-AUC : 0.7409253943674894\n",
      "\n",
      "| \u001b[39m46       \u001b[39m | \u001b[39m0.7409   \u001b[39m | \u001b[39m0.3583   \u001b[39m | \u001b[39m210.3    \u001b[39m | \u001b[39m5.916    \u001b[39m | \u001b[39m7.817    \u001b[39m | \u001b[39m0.07686  \u001b[39m |\n",
      "하이퍼파라미터: {'depth': 6, 'learning_rate': 0.062263249381103544, 'l2_leaf_reg': 2.154506279491674, 'bagging_temperature': 0.9815639448405181, 'border_count': 147, 'loss_function': 'Logloss', 'eval_metric': 'AUC', 'iterations': 2500, 'random_seed': 1991, 'verbose': 200}\n",
      "ROC-AUC : 0.7410316230987675\n",
      "\n",
      "| \u001b[39m47       \u001b[39m | \u001b[39m0.741    \u001b[39m | \u001b[39m0.9816   \u001b[39m | \u001b[39m147.3    \u001b[39m | \u001b[39m6.359    \u001b[39m | \u001b[39m2.155    \u001b[39m | \u001b[39m0.06226  \u001b[39m |\n",
      "하이퍼파라미터: {'depth': 8, 'learning_rate': 0.06214570652803114, 'l2_leaf_reg': 4.3123616019253, 'bagging_temperature': 0.4330224592698124, 'border_count': 148, 'loss_function': 'Logloss', 'eval_metric': 'AUC', 'iterations': 2500, 'random_seed': 1991, 'verbose': 200}\n",
      "ROC-AUC : 0.7405146221484906\n",
      "\n",
      "| \u001b[39m48       \u001b[39m | \u001b[39m0.7405   \u001b[39m | \u001b[39m0.433    \u001b[39m | \u001b[39m148.1    \u001b[39m | \u001b[39m7.561    \u001b[39m | \u001b[39m4.312    \u001b[39m | \u001b[39m0.06215  \u001b[39m |\n",
      "하이퍼파라미터: {'depth': 7, 'learning_rate': 0.03570050637058675, 'l2_leaf_reg': 5.010071297657036, 'bagging_temperature': 0.4091782997408431, 'border_count': 68, 'loss_function': 'Logloss', 'eval_metric': 'AUC', 'iterations': 2500, 'random_seed': 1991, 'verbose': 200}\n",
      "ROC-AUC : 0.7412400648896221\n",
      "\n",
      "| \u001b[39m49       \u001b[39m | \u001b[39m0.7412   \u001b[39m | \u001b[39m0.4092   \u001b[39m | \u001b[39m68.47    \u001b[39m | \u001b[39m6.666    \u001b[39m | \u001b[39m5.01     \u001b[39m | \u001b[39m0.0357   \u001b[39m |\n",
      "하이퍼파라미터: {'depth': 9, 'learning_rate': 0.07986824019500487, 'l2_leaf_reg': 2.195274034506997, 'bagging_temperature': 0.49268251182812306, 'border_count': 36, 'loss_function': 'Logloss', 'eval_metric': 'AUC', 'iterations': 2500, 'random_seed': 1991, 'verbose': 200}\n",
      "ROC-AUC : 0.7405547374057707\n",
      "\n",
      "| \u001b[39m50       \u001b[39m | \u001b[39m0.7406   \u001b[39m | \u001b[39m0.4927   \u001b[39m | \u001b[39m35.54    \u001b[39m | \u001b[39m8.711    \u001b[39m | \u001b[39m2.195    \u001b[39m | \u001b[39m0.07987  \u001b[39m |\n",
      "하이퍼파라미터: {'depth': 5, 'learning_rate': 0.031512010669579656, 'l2_leaf_reg': 9.660382080333756, 'bagging_temperature': 0.7404703120945215, 'border_count': 184, 'loss_function': 'Logloss', 'eval_metric': 'AUC', 'iterations': 2500, 'random_seed': 1991, 'verbose': 200}\n",
      "ROC-AUC : 0.7412503567758468\n",
      "\n",
      "| \u001b[39m51       \u001b[39m | \u001b[39m0.7413   \u001b[39m | \u001b[39m0.7405   \u001b[39m | \u001b[39m183.9    \u001b[39m | \u001b[39m5.053    \u001b[39m | \u001b[39m9.66     \u001b[39m | \u001b[39m0.03151  \u001b[39m |\n",
      "하이퍼파라미터: {'depth': 7, 'learning_rate': 0.04713965655005048, 'l2_leaf_reg': 5.415079715667081, 'bagging_temperature': 0.8567013417476086, 'border_count': 60, 'loss_function': 'Logloss', 'eval_metric': 'AUC', 'iterations': 2500, 'random_seed': 1991, 'verbose': 200}\n",
      "ROC-AUC : 0.7412960819304427\n",
      "\n",
      "| \u001b[39m52       \u001b[39m | \u001b[39m0.7413   \u001b[39m | \u001b[39m0.8567   \u001b[39m | \u001b[39m59.83    \u001b[39m | \u001b[39m7.249    \u001b[39m | \u001b[39m5.415    \u001b[39m | \u001b[39m0.04714  \u001b[39m |\n",
      "하이퍼파라미터: {'depth': 7, 'learning_rate': 0.06572960376671327, 'l2_leaf_reg': 4.299193835830691, 'bagging_temperature': 0.5655256830368721, 'border_count': 57, 'loss_function': 'Logloss', 'eval_metric': 'AUC', 'iterations': 2500, 'random_seed': 1991, 'verbose': 200}\n",
      "ROC-AUC : 0.7410200291793632\n",
      "\n",
      "| \u001b[39m53       \u001b[39m | \u001b[39m0.741    \u001b[39m | \u001b[39m0.5655   \u001b[39m | \u001b[39m56.84    \u001b[39m | \u001b[39m7.4      \u001b[39m | \u001b[39m4.299    \u001b[39m | \u001b[39m0.06573  \u001b[39m |\n",
      "하이퍼파라미터: {'depth': 6, 'learning_rate': 0.09155617920147845, 'l2_leaf_reg': 7.1315397975324855, 'bagging_temperature': 0.46126829826586746, 'border_count': 191, 'loss_function': 'Logloss', 'eval_metric': 'AUC', 'iterations': 2500, 'random_seed': 1991, 'verbose': 200}\n",
      "ROC-AUC : 0.7414164405350588\n",
      "\n",
      "| \u001b[39m54       \u001b[39m | \u001b[39m0.7414   \u001b[39m | \u001b[39m0.4613   \u001b[39m | \u001b[39m191.1    \u001b[39m | \u001b[39m5.751    \u001b[39m | \u001b[39m7.132    \u001b[39m | \u001b[39m0.09156  \u001b[39m |\n",
      "하이퍼파라미터: {'depth': 7, 'learning_rate': 0.0693168293877226, 'l2_leaf_reg': 3.145964831961322, 'bagging_temperature': 0.41076811578693595, 'border_count': 94, 'loss_function': 'Logloss', 'eval_metric': 'AUC', 'iterations': 2500, 'random_seed': 1991, 'verbose': 200}\n",
      "ROC-AUC : 0.7408414917047653\n",
      "\n",
      "| \u001b[39m55       \u001b[39m | \u001b[39m0.7408   \u001b[39m | \u001b[39m0.4108   \u001b[39m | \u001b[39m93.81    \u001b[39m | \u001b[39m7.039    \u001b[39m | \u001b[39m3.146    \u001b[39m | \u001b[39m0.06932  \u001b[39m |\n",
      "하이퍼파라미터: {'depth': 8, 'learning_rate': 0.042704245412717154, 'l2_leaf_reg': 4.770345626827482, 'bagging_temperature': 0.8435948935231349, 'border_count': 141, 'loss_function': 'Logloss', 'eval_metric': 'AUC', 'iterations': 2500, 'random_seed': 1991, 'verbose': 200}\n",
      "ROC-AUC : 0.7410410492661913\n",
      "\n",
      "| \u001b[39m56       \u001b[39m | \u001b[39m0.741    \u001b[39m | \u001b[39m0.8436   \u001b[39m | \u001b[39m140.8    \u001b[39m | \u001b[39m8.409    \u001b[39m | \u001b[39m4.77     \u001b[39m | \u001b[39m0.0427   \u001b[39m |\n",
      "하이퍼파라미터: {'depth': 9, 'learning_rate': 0.050218084392796486, 'l2_leaf_reg': 9.763463054734544, 'bagging_temperature': 0.14949513473216275, 'border_count': 103, 'loss_function': 'Logloss', 'eval_metric': 'AUC', 'iterations': 2500, 'random_seed': 1991, 'verbose': 200}\n",
      "ROC-AUC : 0.7409763197577108\n",
      "\n",
      "| \u001b[39m57       \u001b[39m | \u001b[39m0.741    \u001b[39m | \u001b[39m0.1495   \u001b[39m | \u001b[39m103.3    \u001b[39m | \u001b[39m9.367    \u001b[39m | \u001b[39m9.763    \u001b[39m | \u001b[39m0.05022  \u001b[39m |\n",
      "하이퍼파라미터: {'depth': 9, 'learning_rate': 0.06057833791065702, 'l2_leaf_reg': 5.320366108242959, 'bagging_temperature': 0.6109306898294673, 'border_count': 116, 'loss_function': 'Logloss', 'eval_metric': 'AUC', 'iterations': 2500, 'random_seed': 1991, 'verbose': 200}\n",
      "ROC-AUC : 0.7405047132712679\n",
      "\n",
      "| \u001b[39m58       \u001b[39m | \u001b[39m0.7405   \u001b[39m | \u001b[39m0.6109   \u001b[39m | \u001b[39m116.2    \u001b[39m | \u001b[39m8.549    \u001b[39m | \u001b[39m5.32     \u001b[39m | \u001b[39m0.06058  \u001b[39m |\n",
      "하이퍼파라미터: {'depth': 5, 'learning_rate': 0.07833327396562444, 'l2_leaf_reg': 9.690737417191757, 'bagging_temperature': 0.2813793244432365, 'border_count': 203, 'loss_function': 'Logloss', 'eval_metric': 'AUC', 'iterations': 2500, 'random_seed': 1991, 'verbose': 200}\n",
      "ROC-AUC : 0.7409583005661564\n",
      "\n",
      "| \u001b[39m59       \u001b[39m | \u001b[39m0.741    \u001b[39m | \u001b[39m0.2814   \u001b[39m | \u001b[39m202.9    \u001b[39m | \u001b[39m5.348    \u001b[39m | \u001b[39m9.691    \u001b[39m | \u001b[39m0.07833  \u001b[39m |\n",
      "하이퍼파라미터: {'depth': 5, 'learning_rate': 0.029743673229928803, 'l2_leaf_reg': 8.75636710305238, 'bagging_temperature': 0.19237782827629402, 'border_count': 207, 'loss_function': 'Logloss', 'eval_metric': 'AUC', 'iterations': 2500, 'random_seed': 1991, 'verbose': 200}\n",
      "ROC-AUC : 0.7411702210264005\n",
      "\n",
      "| \u001b[39m60       \u001b[39m | \u001b[39m0.7412   \u001b[39m | \u001b[39m0.1924   \u001b[39m | \u001b[39m207.1    \u001b[39m | \u001b[39m4.939    \u001b[39m | \u001b[39m8.756    \u001b[39m | \u001b[39m0.02974  \u001b[39m |\n",
      "=====================================================================================\n"
     ]
    }
   ],
   "source": [
    "# 베이지안 최적화 수행\n",
    "# TODO: init_points 10~15, n_iter 30~70\n",
    "optimizer.maximize(init_points=10, n_iter=50)"
   ]
  },
  {
   "cell_type": "code",
   "execution_count": 27,
   "id": "135b3edf",
   "metadata": {
    "execution": {
     "iopub.execute_input": "2025-02-13T13:09:52.319042Z",
     "iopub.status.busy": "2025-02-13T13:09:52.318779Z",
     "iopub.status.idle": "2025-02-13T13:09:52.322888Z",
     "shell.execute_reply": "2025-02-13T13:09:52.322024Z"
    },
    "papermill": {
     "duration": 0.015384,
     "end_time": "2025-02-13T13:09:52.324198",
     "exception": false,
     "start_time": "2025-02-13T13:09:52.308814",
     "status": "completed"
    },
    "tags": []
   },
   "outputs": [],
   "source": [
    "max_params = optimizer.max['params']\n",
    "max_params['depth'] = int(round(max_params['depth']))\n",
    "max_params['border_count'] = int(round(max_params['border_count']))\n",
    "max_params.update(fixed_params)"
   ]
  },
  {
   "cell_type": "code",
   "execution_count": 28,
   "id": "d8bbd71e",
   "metadata": {
    "execution": {
     "iopub.execute_input": "2025-02-13T13:09:52.344671Z",
     "iopub.status.busy": "2025-02-13T13:09:52.344450Z",
     "iopub.status.idle": "2025-02-13T13:09:52.349262Z",
     "shell.execute_reply": "2025-02-13T13:09:52.348372Z"
    },
    "papermill": {
     "duration": 0.016244,
     "end_time": "2025-02-13T13:09:52.350596",
     "exception": false,
     "start_time": "2025-02-13T13:09:52.334352",
     "status": "completed"
    },
    "tags": []
   },
   "outputs": [
    {
     "data": {
      "text/plain": [
       "{'bagging_temperature': 0.6609529183051456,\n",
       " 'border_count': 211,\n",
       " 'depth': 7,\n",
       " 'l2_leaf_reg': 9.216098157994194,\n",
       " 'learning_rate': 0.05606213285706964,\n",
       " 'loss_function': 'Logloss',\n",
       " 'eval_metric': 'AUC',\n",
       " 'iterations': 2500,\n",
       " 'random_seed': 1991,\n",
       " 'verbose': 200}"
      ]
     },
     "execution_count": 28,
     "metadata": {},
     "output_type": "execute_result"
    }
   ],
   "source": [
    "max_params"
   ]
  },
  {
   "cell_type": "code",
   "execution_count": 29,
   "id": "524dbd64",
   "metadata": {
    "execution": {
     "iopub.execute_input": "2025-02-13T13:09:52.369975Z",
     "iopub.status.busy": "2025-02-13T13:09:52.369730Z",
     "iopub.status.idle": "2025-02-13T13:09:52.372679Z",
     "shell.execute_reply": "2025-02-13T13:09:52.372045Z"
    },
    "papermill": {
     "duration": 0.013798,
     "end_time": "2025-02-13T13:09:52.373784",
     "exception": false,
     "start_time": "2025-02-13T13:09:52.359986",
     "status": "completed"
    },
    "tags": []
   },
   "outputs": [],
   "source": [
    "# max_params_catboost = {\n",
    "# \t'bagging_temperature': 0.8125525342743981,\n",
    "# \t'border_count': 150,\n",
    "# \t'depth': 7,\n",
    "# \t'l2_leaf_reg': 9.330369744633948,\n",
    "# \t'learning_rate': 0.016393245237809825,\n",
    "# \t'loss_function': 'Logloss',\n",
    "# \t'eval_metric': 'AUC',\n",
    "# \t'iterations': 2500,\n",
    "# \t'random_seed': 1991,\n",
    "# \t'verbose': 200\n",
    "# }"
   ]
  },
  {
   "cell_type": "code",
   "execution_count": 30,
   "id": "af316e1e",
   "metadata": {
    "execution": {
     "iopub.execute_input": "2025-02-13T13:09:52.438061Z",
     "iopub.status.busy": "2025-02-13T13:09:52.437752Z",
     "iopub.status.idle": "2025-02-13T13:13:52.377309Z",
     "shell.execute_reply": "2025-02-13T13:13:52.376398Z"
    },
    "papermill": {
     "duration": 239.995313,
     "end_time": "2025-02-13T13:13:52.378679",
     "exception": false,
     "start_time": "2025-02-13T13:09:52.383366",
     "status": "completed"
    },
    "tags": []
   },
   "outputs": [
    {
     "name": "stdout",
     "output_type": "stream",
     "text": [
      "######################################## 폴드 1 / 폴드 10 ########################################\n",
      "0:\ttest: 0.7122221\tbest: 0.7122221 (0)\ttotal: 42.7ms\tremaining: 1m 46s\n",
      "500:\ttest: 0.7398299\tbest: 0.7398693 (496)\ttotal: 18.2s\tremaining: 1m 12s\n",
      "Stopped by overfitting detector  (200 iterations wait)\n",
      "\n",
      "bestTest = 0.7400232145\n",
      "bestIteration = 668\n",
      "\n",
      "Shrink model to first 669 iterations.\n",
      "폴드 1 ROC-AUC : 0.7400232144858506\n",
      "\n",
      "######################################## 폴드 2 / 폴드 10 ########################################\n",
      "0:\ttest: 0.7085172\tbest: 0.7085172 (0)\ttotal: 36.1ms\tremaining: 1m 30s\n",
      "Stopped by overfitting detector  (200 iterations wait)\n",
      "\n",
      "bestTest = 0.7389539804\n",
      "bestIteration = 287\n",
      "\n",
      "Shrink model to first 288 iterations.\n",
      "폴드 2 ROC-AUC : 0.7389539804133124\n",
      "\n",
      "######################################## 폴드 3 / 폴드 10 ########################################\n",
      "0:\ttest: 0.7049888\tbest: 0.7049888 (0)\ttotal: 36ms\tremaining: 1m 30s\n",
      "500:\ttest: 0.7340744\tbest: 0.7342357 (444)\ttotal: 17.9s\tremaining: 1m 11s\n",
      "Stopped by overfitting detector  (200 iterations wait)\n",
      "\n",
      "bestTest = 0.7342405154\n",
      "bestIteration = 537\n",
      "\n",
      "Shrink model to first 538 iterations.\n",
      "폴드 3 ROC-AUC : 0.7342405154349002\n",
      "\n",
      "######################################## 폴드 4 / 폴드 10 ########################################\n",
      "0:\ttest: 0.7106227\tbest: 0.7106227 (0)\ttotal: 36.5ms\tremaining: 1m 31s\n",
      "500:\ttest: 0.7392401\tbest: 0.7394010 (440)\ttotal: 17.5s\tremaining: 1m 9s\n",
      "Stopped by overfitting detector  (200 iterations wait)\n",
      "\n",
      "bestTest = 0.7394009899\n",
      "bestIteration = 440\n",
      "\n",
      "Shrink model to first 441 iterations.\n",
      "폴드 4 ROC-AUC : 0.739400989906992\n",
      "\n",
      "######################################## 폴드 5 / 폴드 10 ########################################\n",
      "0:\ttest: 0.7167315\tbest: 0.7167315 (0)\ttotal: 39ms\tremaining: 1m 37s\n",
      "500:\ttest: 0.7425336\tbest: 0.7425410 (482)\ttotal: 17.4s\tremaining: 1m 9s\n",
      "Stopped by overfitting detector  (200 iterations wait)\n",
      "\n",
      "bestTest = 0.7425409761\n",
      "bestIteration = 482\n",
      "\n",
      "Shrink model to first 483 iterations.\n",
      "폴드 5 ROC-AUC : 0.7425409761308758\n",
      "\n",
      "######################################## 폴드 6 / 폴드 10 ########################################\n",
      "0:\ttest: 0.7115231\tbest: 0.7115231 (0)\ttotal: 40.7ms\tremaining: 1m 41s\n",
      "500:\ttest: 0.7359010\tbest: 0.7359078 (497)\ttotal: 18.1s\tremaining: 1m 12s\n",
      "Stopped by overfitting detector  (200 iterations wait)\n",
      "\n",
      "bestTest = 0.7359392666\n",
      "bestIteration = 505\n",
      "\n",
      "Shrink model to first 506 iterations.\n",
      "폴드 6 ROC-AUC : 0.7359392665976453\n",
      "\n",
      "######################################## 폴드 7 / 폴드 10 ########################################\n",
      "0:\ttest: 0.7103457\tbest: 0.7103457 (0)\ttotal: 37.4ms\tremaining: 1m 33s\n",
      "Stopped by overfitting detector  (200 iterations wait)\n",
      "\n",
      "bestTest = 0.7437703149\n",
      "bestIteration = 275\n",
      "\n",
      "Shrink model to first 276 iterations.\n",
      "폴드 7 ROC-AUC : 0.7437703148553808\n",
      "\n",
      "######################################## 폴드 8 / 폴드 10 ########################################\n",
      "0:\ttest: 0.7112672\tbest: 0.7112672 (0)\ttotal: 35.6ms\tremaining: 1m 28s\n",
      "500:\ttest: 0.7403569\tbest: 0.7404758 (438)\ttotal: 17.4s\tremaining: 1m 9s\n",
      "Stopped by overfitting detector  (200 iterations wait)\n",
      "\n",
      "bestTest = 0.7404758095\n",
      "bestIteration = 438\n",
      "\n",
      "Shrink model to first 439 iterations.\n",
      "폴드 8 ROC-AUC : 0.7404758095358386\n",
      "\n",
      "######################################## 폴드 9 / 폴드 10 ########################################\n",
      "0:\ttest: 0.7215380\tbest: 0.7215380 (0)\ttotal: 43.6ms\tremaining: 1m 48s\n",
      "500:\ttest: 0.7445656\tbest: 0.7446019 (419)\ttotal: 18.3s\tremaining: 1m 13s\n",
      "Stopped by overfitting detector  (200 iterations wait)\n",
      "\n",
      "bestTest = 0.7446396769\n",
      "bestIteration = 505\n",
      "\n",
      "Shrink model to first 506 iterations.\n",
      "폴드 9 ROC-AUC : 0.7446396768600798\n",
      "\n",
      "######################################## 폴드 10 / 폴드 10 ########################################\n",
      "0:\ttest: 0.7069652\tbest: 0.7069652 (0)\ttotal: 37.5ms\tremaining: 1m 33s\n",
      "500:\ttest: 0.7407701\tbest: 0.7408661 (441)\ttotal: 18.5s\tremaining: 1m 13s\n",
      "Stopped by overfitting detector  (200 iterations wait)\n",
      "\n",
      "bestTest = 0.7408660762\n",
      "bestIteration = 441\n",
      "\n",
      "Shrink model to first 442 iterations.\n",
      "폴드 10 ROC-AUC : 0.7408660761757658\n",
      "\n"
     ]
    }
   ],
   "source": [
    "from sklearn.metrics import roc_auc_score\n",
    "\n",
    "# OOF 방식으로 모델 훈련, 검증, 예측\n",
    "oof_val_preds = np.zeros(X.shape[0])\n",
    "oof_test_preds = np.zeros(X_test.shape[0])\n",
    "\n",
    "for idx, (train_idx, valid_idx) in enumerate(folds.split(X, y)):\n",
    "    print('#'*40, f'폴드 {idx+1} / 폴드 {folds.n_splits}', '#'*40)\n",
    "    \n",
    "    X_train, y_train = X[train_idx], y[train_idx]\n",
    "    X_valid, y_valid = X[valid_idx], y[valid_idx]\n",
    "    \n",
    "    dtrain = Pool(X_train, y_train, cat_features=None)\n",
    "    dvalid = Pool(X_valid, y_valid, cat_features=None)\n",
    "    \n",
    "    cat_model = CatBoostClassifier(**max_params)\n",
    "    cat_model.fit(dtrain, eval_set=dvalid, early_stopping_rounds=200, verbose=500)\n",
    "    \n",
    "    # 테스트 데이터 예측\n",
    "    oof_test_preds += cat_model.predict_proba(X_test)[:, 1] / folds.n_splits\n",
    "    # 검증 데이터 예측\n",
    "    oof_val_preds[valid_idx] += cat_model.predict_proba(X_valid)[:, 1]\n",
    "    \n",
    "    # 검증 데이터 ROC-AUC 계산\n",
    "    roc_auc = roc_auc_score(y_valid, oof_val_preds[valid_idx])\n",
    "    print(f'폴드 {idx+1} ROC-AUC : {roc_auc}\\n')"
   ]
  },
  {
   "cell_type": "markdown",
   "id": "ef2ec914",
   "metadata": {
    "papermill": {
     "duration": 0.010854,
     "end_time": "2025-02-13T13:13:52.400959",
     "exception": false,
     "start_time": "2025-02-13T13:13:52.390105",
     "status": "completed"
    },
    "tags": []
   },
   "source": [
    "## 5. 최종 결과"
   ]
  },
  {
   "cell_type": "code",
   "execution_count": 31,
   "id": "db93ce04",
   "metadata": {
    "execution": {
     "iopub.execute_input": "2025-02-13T13:13:52.423832Z",
     "iopub.status.busy": "2025-02-13T13:13:52.423584Z",
     "iopub.status.idle": "2025-02-13T13:13:52.537631Z",
     "shell.execute_reply": "2025-02-13T13:13:52.536365Z"
    },
    "papermill": {
     "duration": 0.12735,
     "end_time": "2025-02-13T13:13:52.539323",
     "exception": false,
     "start_time": "2025-02-13T13:13:52.411973",
     "status": "completed"
    },
    "tags": []
   },
   "outputs": [
    {
     "name": "stdout",
     "output_type": "stream",
     "text": [
      "최종 OOF 검증 데이터 ROC-AUC: 0.7400634862086121\n"
     ]
    }
   ],
   "source": [
    "print('최종 OOF 검증 데이터 ROC-AUC:', roc_auc_score(y, oof_val_preds))"
   ]
  },
  {
   "cell_type": "code",
   "execution_count": 32,
   "id": "edec7f9a",
   "metadata": {
    "execution": {
     "iopub.execute_input": "2025-02-13T13:13:52.565020Z",
     "iopub.status.busy": "2025-02-13T13:13:52.564708Z",
     "iopub.status.idle": "2025-02-13T13:13:52.710366Z",
     "shell.execute_reply": "2025-02-13T13:13:52.709615Z"
    },
    "papermill": {
     "duration": 0.1598,
     "end_time": "2025-02-13T13:13:52.711994",
     "exception": false,
     "start_time": "2025-02-13T13:13:52.552194",
     "status": "completed"
    },
    "tags": []
   },
   "outputs": [],
   "source": [
    "submission['probability'] = oof_test_preds\n",
    "submission.to_csv('catboost_submission.csv', index=False)"
   ]
  },
  {
   "cell_type": "code",
   "execution_count": 33,
   "id": "3ca069c5",
   "metadata": {
    "execution": {
     "iopub.execute_input": "2025-02-13T13:13:52.736382Z",
     "iopub.status.busy": "2025-02-13T13:13:52.736098Z",
     "iopub.status.idle": "2025-02-13T13:13:52.770185Z",
     "shell.execute_reply": "2025-02-13T13:13:52.769295Z"
    },
    "papermill": {
     "duration": 0.048066,
     "end_time": "2025-02-13T13:13:52.771685",
     "exception": false,
     "start_time": "2025-02-13T13:13:52.723619",
     "status": "completed"
    },
    "tags": []
   },
   "outputs": [
    {
     "data": {
      "text/html": [
       "<div>\n",
       "<style scoped>\n",
       "    .dataframe tbody tr th:only-of-type {\n",
       "        vertical-align: middle;\n",
       "    }\n",
       "\n",
       "    .dataframe tbody tr th {\n",
       "        vertical-align: top;\n",
       "    }\n",
       "\n",
       "    .dataframe thead th {\n",
       "        text-align: right;\n",
       "    }\n",
       "</style>\n",
       "<table border=\"1\" class=\"dataframe\">\n",
       "  <thead>\n",
       "    <tr style=\"text-align: right;\">\n",
       "      <th></th>\n",
       "      <th>probability</th>\n",
       "    </tr>\n",
       "  </thead>\n",
       "  <tbody>\n",
       "    <tr>\n",
       "      <th>0</th>\n",
       "      <td>0.001627</td>\n",
       "    </tr>\n",
       "    <tr>\n",
       "      <th>1</th>\n",
       "      <td>0.013028</td>\n",
       "    </tr>\n",
       "    <tr>\n",
       "      <th>2</th>\n",
       "      <td>0.158113</td>\n",
       "    </tr>\n",
       "    <tr>\n",
       "      <th>3</th>\n",
       "      <td>0.107663</td>\n",
       "    </tr>\n",
       "    <tr>\n",
       "      <th>4</th>\n",
       "      <td>0.530253</td>\n",
       "    </tr>\n",
       "  </tbody>\n",
       "</table>\n",
       "</div>"
      ],
      "text/plain": [
       "   probability\n",
       "0     0.001627\n",
       "1     0.013028\n",
       "2     0.158113\n",
       "3     0.107663\n",
       "4     0.530253"
      ]
     },
     "execution_count": 33,
     "metadata": {},
     "output_type": "execute_result"
    }
   ],
   "source": [
    "submission = pd.read_csv('/kaggle/working/catboost_submission.csv')\n",
    "submission.head()"
   ]
  }
 ],
 "metadata": {
  "kaggle": {
   "accelerator": "gpu",
   "dataSources": [
    {
     "datasetId": 6583998,
     "sourceId": 10634121,
     "sourceType": "datasetVersion"
    }
   ],
   "dockerImageVersionId": 30887,
   "isGpuEnabled": true,
   "isInternetEnabled": true,
   "language": "python",
   "sourceType": "notebook"
  },
  "kernelspec": {
   "display_name": "Python 3",
   "language": "python",
   "name": "python3"
  },
  "language_info": {
   "codemirror_mode": {
    "name": "ipython",
    "version": 3
   },
   "file_extension": ".py",
   "mimetype": "text/x-python",
   "name": "python",
   "nbconvert_exporter": "python",
   "pygments_lexer": "ipython3",
   "version": "3.10.12"
  },
  "papermill": {
   "default_parameters": {},
   "duration": 1848.468435,
   "end_time": "2025-02-13T13:13:53.503409",
   "environment_variables": {},
   "exception": null,
   "input_path": "__notebook__.ipynb",
   "output_path": "__notebook__.ipynb",
   "parameters": {},
   "start_time": "2025-02-13T12:43:05.034974",
   "version": "2.6.0"
  }
 },
 "nbformat": 4,
 "nbformat_minor": 5
}
